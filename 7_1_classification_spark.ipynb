{
  "nbformat": 4,
  "nbformat_minor": 0,
  "metadata": {
    "colab": {
      "provenance": [],
      "include_colab_link": true
    },
    "kernelspec": {
      "name": "python3",
      "display_name": "Python 3"
    },
    "language_info": {
      "name": "python"
    }
  },
  "cells": [
    {
      "cell_type": "markdown",
      "metadata": {
        "id": "view-in-github",
        "colab_type": "text"
      },
      "source": [
        "<a href=\"https://colab.research.google.com/github/khanh22mse23057/bigdata/blob/main/7_1_classification_spark.ipynb\" target=\"_parent\"><img src=\"https://colab.research.google.com/assets/colab-badge.svg\" alt=\"Open In Colab\"/></a>"
      ]
    },
    {
      "cell_type": "code",
      "metadata": {
        "id": "tZI3Ud6IVPHn",
        "colab": {
          "base_uri": "https://localhost:8080/"
        },
        "outputId": "25a48db3-8ec9-4696-cee4-b9686666671f"
      },
      "source": [
        "!apt-get update\n",
        "!apt-get install openjdk-8-jdk-headless -qq > /dev/null\n",
        "!wget -q http://archive.apache.org/dist/spark/spark-3.1.1/spark-3.1.1-bin-hadoop3.2.tgz\n",
        "!tar xf spark-3.1.1-bin-hadoop3.2.tgz\n",
        "!pip install -q findspark\n",
        "import os\n",
        "os.environ[\"JAVA_HOME\"] = \"/usr/lib/jvm/java-8-openjdk-amd64\"\n",
        "os.environ[\"SPARK_HOME\"] = \"/content/spark-3.1.1-bin-hadoop3.2\"\n",
        "import findspark\n",
        "findspark.init()"
      ],
      "execution_count": 1,
      "outputs": [
        {
          "output_type": "stream",
          "name": "stdout",
          "text": [
            "Get:1 https://cloud.r-project.org/bin/linux/ubuntu jammy-cran40/ InRelease [3,626 B]\n",
            "Get:2 https://developer.download.nvidia.com/compute/cuda/repos/ubuntu2204/x86_64  InRelease [1,581 B]\n",
            "Hit:3 http://archive.ubuntu.com/ubuntu jammy InRelease\n",
            "Get:4 http://security.ubuntu.com/ubuntu jammy-security InRelease [110 kB]\n",
            "Get:5 https://cloud.r-project.org/bin/linux/ubuntu jammy-cran40/ Packages [41.5 kB]\n",
            "Get:6 http://archive.ubuntu.com/ubuntu jammy-updates InRelease [119 kB]\n",
            "Get:7 https://developer.download.nvidia.com/compute/cuda/repos/ubuntu2204/x86_64  Packages [416 kB]\n",
            "Hit:8 https://ppa.launchpadcontent.net/c2d4u.team/c2d4u4.0+/ubuntu jammy InRelease\n",
            "Get:9 http://archive.ubuntu.com/ubuntu jammy-backports InRelease [108 kB]\n",
            "Get:10 http://security.ubuntu.com/ubuntu jammy-security/universe amd64 Packages [952 kB]\n",
            "Get:11 http://archive.ubuntu.com/ubuntu jammy-updates/universe amd64 Packages [1,208 kB]\n",
            "Hit:12 https://ppa.launchpadcontent.net/deadsnakes/ppa/ubuntu jammy InRelease\n",
            "Get:13 http://security.ubuntu.com/ubuntu jammy-security/restricted amd64 Packages [734 kB]\n",
            "Get:14 http://archive.ubuntu.com/ubuntu jammy-updates/main amd64 Packages [1,016 kB]\n",
            "Get:15 http://security.ubuntu.com/ubuntu jammy-security/main amd64 Packages [731 kB]\n",
            "Get:16 http://archive.ubuntu.com/ubuntu jammy-updates/restricted amd64 Packages [749 kB]\n",
            "Get:17 https://ppa.launchpadcontent.net/graphics-drivers/ppa/ubuntu jammy InRelease [24.3 kB]\n",
            "Hit:18 https://ppa.launchpadcontent.net/ubuntugis/ppa/ubuntu jammy InRelease\n",
            "Get:19 https://ppa.launchpadcontent.net/graphics-drivers/ppa/ubuntu jammy/main amd64 Packages [36.0 kB]\n",
            "Fetched 6,251 kB in 5s (1,156 kB/s)\n",
            "Reading package lists... Done\n",
            "W: https://cloud.r-project.org/bin/linux/ubuntu/jammy-cran40/InRelease: Key is stored in legacy trusted.gpg keyring (/etc/apt/trusted.gpg), see the DEPRECATION section in apt-key(8) for details.\n"
          ]
        }
      ]
    },
    {
      "cell_type": "markdown",
      "metadata": {
        "id": "PgJY2TNRVYY_"
      },
      "source": [
        "# Binary Classification\n"
      ]
    },
    {
      "cell_type": "markdown",
      "metadata": {
        "id": "ChZ_xUFcVYcc"
      },
      "source": [
        "# Create Spark entry points"
      ]
    },
    {
      "cell_type": "code",
      "metadata": {
        "id": "QTaYV2dsVS_a"
      },
      "source": [
        "from pyspark import SparkConf, SparkContext\n",
        "from pyspark.sql import SparkSession"
      ],
      "execution_count": 2,
      "outputs": []
    },
    {
      "cell_type": "code",
      "metadata": {
        "id": "jUAjwpD0Vrn9"
      },
      "source": [
        "sc = SparkContext(conf=SparkConf())\n",
        "spark = SparkSession(sparkContext=sc)"
      ],
      "execution_count": 3,
      "outputs": []
    },
    {
      "cell_type": "markdown",
      "metadata": {
        "id": "lvrzCJ56V4Nk"
      },
      "source": [
        "# Step 1: As usual, define the problem\n",
        "\n",
        "**What sorts of people were likely to survive from the Titanic accident?**"
      ]
    },
    {
      "cell_type": "markdown",
      "metadata": {
        "id": "x364Yw63V4Qy"
      },
      "source": [
        "# Step 2: gather the data\n",
        "\n",
        "The datasets can be found here: [https://www.kaggle.com/c/titanic/data](https://www.kaggle.com/c/titanic/data).\n",
        "It is also available in this github repository:\n",
        "    \n",
        "* [data/titanic/gender_submission.csv](data/titanic/gender_submission.csv)\n",
        "* [data/titanic/test.csv](data/titanic/test.csv)\n",
        "* [data/titanic/train.csv](data/titanic/train.csv)"
      ]
    },
    {
      "cell_type": "code",
      "source": [
        "!pip install kaggle"
      ],
      "metadata": {
        "id": "Q7TYofWVv359",
        "outputId": "6110f59b-0cab-41a8-8bd4-08dfa56690fd",
        "colab": {
          "base_uri": "https://localhost:8080/"
        }
      },
      "execution_count": 4,
      "outputs": [
        {
          "output_type": "stream",
          "name": "stdout",
          "text": [
            "Requirement already satisfied: kaggle in /usr/local/lib/python3.10/dist-packages (1.5.15)\n",
            "Requirement already satisfied: six>=1.10 in /usr/local/lib/python3.10/dist-packages (from kaggle) (1.16.0)\n",
            "Requirement already satisfied: certifi in /usr/local/lib/python3.10/dist-packages (from kaggle) (2023.5.7)\n",
            "Requirement already satisfied: python-dateutil in /usr/local/lib/python3.10/dist-packages (from kaggle) (2.8.2)\n",
            "Requirement already satisfied: requests in /usr/local/lib/python3.10/dist-packages (from kaggle) (2.27.1)\n",
            "Requirement already satisfied: tqdm in /usr/local/lib/python3.10/dist-packages (from kaggle) (4.65.0)\n",
            "Requirement already satisfied: python-slugify in /usr/local/lib/python3.10/dist-packages (from kaggle) (8.0.1)\n",
            "Requirement already satisfied: urllib3 in /usr/local/lib/python3.10/dist-packages (from kaggle) (1.26.16)\n",
            "Requirement already satisfied: bleach in /usr/local/lib/python3.10/dist-packages (from kaggle) (6.0.0)\n",
            "Requirement already satisfied: webencodings in /usr/local/lib/python3.10/dist-packages (from bleach->kaggle) (0.5.1)\n",
            "Requirement already satisfied: text-unidecode>=1.3 in /usr/local/lib/python3.10/dist-packages (from python-slugify->kaggle) (1.3)\n",
            "Requirement already satisfied: charset-normalizer~=2.0.0 in /usr/local/lib/python3.10/dist-packages (from requests->kaggle) (2.0.12)\n",
            "Requirement already satisfied: idna<4,>=2.5 in /usr/local/lib/python3.10/dist-packages (from requests->kaggle) (3.4)\n"
          ]
        }
      ]
    },
    {
      "cell_type": "code",
      "source": [
        "import os\n",
        "#Cấu hình secret key để xác thực truy cập đến Kaggle trên môi trường\n",
        "os.environ['KAGGLE_USERNAME'] = 'khanhphamnguyenphu'\n",
        "os.environ['KAGGLE_KEY'] = '0c2af5b3c1c6017e1f8476048cfe913c'\n"
      ],
      "metadata": {
        "id": "cL7g1pk9v8Vv"
      },
      "execution_count": 5,
      "outputs": []
    },
    {
      "cell_type": "code",
      "source": [
        "!kaggle competitions download -c titanic"
      ],
      "metadata": {
        "id": "zxSLqttCxp1q",
        "outputId": "b6f60ef6-f98f-4861-f0e5-242102e56f77",
        "colab": {
          "base_uri": "https://localhost:8080/"
        }
      },
      "execution_count": 6,
      "outputs": [
        {
          "output_type": "stream",
          "name": "stdout",
          "text": [
            "Downloading titanic.zip to /content\n",
            "\r  0% 0.00/34.1k [00:00<?, ?B/s]\n",
            "\r100% 34.1k/34.1k [00:00<00:00, 1.85MB/s]\n"
          ]
        }
      ]
    },
    {
      "cell_type": "code",
      "source": [],
      "metadata": {
        "id": "j0E71lO09-gS",
        "outputId": "cd96945d-17d8-406a-c8bf-07b4daaf6d21",
        "colab": {
          "base_uri": "https://localhost:8080/"
        }
      },
      "execution_count": 7,
      "outputs": [
        {
          "output_type": "stream",
          "name": "stdout",
          "text": [
            "--2023-07-21 15:02:42--  https://github.com/khanh22mse23057/bigdata/raw/main/data.zip\n",
            "Resolving github.com (github.com)... 20.27.177.113\n",
            "Connecting to github.com (github.com)|20.27.177.113|:443... connected.\n",
            "HTTP request sent, awaiting response... 302 Found\n",
            "Location: https://raw.githubusercontent.com/khanh22mse23057/bigdata/main/data.zip [following]\n",
            "--2023-07-21 15:02:42--  https://raw.githubusercontent.com/khanh22mse23057/bigdata/main/data.zip\n",
            "Resolving raw.githubusercontent.com (raw.githubusercontent.com)... 185.199.108.133, 185.199.111.133, 185.199.110.133, ...\n",
            "Connecting to raw.githubusercontent.com (raw.githubusercontent.com)|185.199.108.133|:443... connected.\n",
            "HTTP request sent, awaiting response... 200 OK\n",
            "Length: 19440255 (19M) [application/zip]\n",
            "Saving to: ‘data.zip’\n",
            "\n",
            "data.zip            100%[===================>]  18.54M   105MB/s    in 0.2s    \n",
            "\n",
            "2023-07-21 15:02:44 (105 MB/s) - ‘data.zip’ saved [19440255/19440255]\n",
            "\n"
          ]
        }
      ]
    },
    {
      "cell_type": "code",
      "source": [
        "!unzip  ./data.zip -d .\n"
      ],
      "metadata": {
        "id": "XYqB5obEx3IF",
        "outputId": "94246c96-34b2-4633-fd28-7db31f488524",
        "colab": {
          "base_uri": "https://localhost:8080/"
        }
      },
      "execution_count": 19,
      "outputs": [
        {
          "output_type": "stream",
          "name": "stdout",
          "text": [
            "Archive:  ./data.zip\n",
            "replace ./data/mtcars.csv? [y]es, [n]o, [A]ll, [N]one, [r]ename: Y\n",
            "  inflating: ./data/mtcars.csv       \n",
            "replace ./data/Advertising.csv? [y]es, [n]o, [A]ll, [N]one, [r]ename: Archive:  ./titanic.zip\n",
            "  inflating: ./gender_submission.csv  \n",
            "  inflating: ./test.csv              \n",
            "  inflating: ./train.csv             \n",
            "data\t\t       sample_data\t\t      test.csv\n",
            "data.zip\t       spark-3.1.1-bin-hadoop3.2      titanic.zip\n",
            "gender_submission.csv  spark-3.1.1-bin-hadoop3.2.tgz  train.csv\n"
          ]
        }
      ]
    },
    {
      "cell_type": "code",
      "source": [
        "!unzip ./titanic.zip -d .\n",
        "!ls"
      ],
      "metadata": {
        "id": "MVHF8Y2-Dlq0",
        "outputId": "d6ca3a15-1735-4f24-9c91-f48649ca21fb",
        "colab": {
          "base_uri": "https://localhost:8080/"
        }
      },
      "execution_count": 20,
      "outputs": [
        {
          "output_type": "stream",
          "name": "stdout",
          "text": [
            "Archive:  ./titanic.zip\n",
            "replace ./gender_submission.csv? [y]es, [n]o, [A]ll, [N]one, [r]ename: Y\n",
            "  inflating: ./gender_submission.csv  \n",
            "replace ./test.csv? [y]es, [n]o, [A]ll, [N]one, [r]ename: A\n",
            "  inflating: ./test.csv              \n",
            "  inflating: ./train.csv             \n",
            "data\t\t       sample_data\t\t      test.csv\n",
            "data.zip\t       spark-3.1.1-bin-hadoop3.2      titanic.zip\n",
            "gender_submission.csv  spark-3.1.1-bin-hadoop3.2.tgz  train.csv\n"
          ]
        }
      ]
    },
    {
      "cell_type": "markdown",
      "metadata": {
        "id": "gczRpAGxV4U6"
      },
      "source": [
        "# Step 3: prepare data for consumption"
      ]
    },
    {
      "cell_type": "code",
      "metadata": {
        "id": "4RaTRB2zVsIy"
      },
      "source": [
        "!wget https://github.com/khanh22mse23057/bigdata/raw/main/data.zip"
      ],
      "execution_count": 9,
      "outputs": []
    },
    {
      "cell_type": "code",
      "metadata": {
        "colab": {
          "base_uri": "https://localhost:8080/"
        },
        "id": "6hlBDYTrVsLU",
        "outputId": "b68599a4-7029-41c7-f2cc-17c8fae9f053"
      },
      "source": [
        "# load packages\n",
        "import sys\n",
        "print('Python version: {}'. format(sys.version))\n",
        "\n",
        "import pandas as pd\n",
        "print('Python version: {}'. format(pd.__version__))\n",
        "\n",
        "import matplotlib\n",
        "print('matplotlib version: {}'. format(matplotlib.__version__))\n",
        "\n",
        "import numpy as np\n",
        "print('numpy version: {}'. format(np.__version__))\n",
        "\n",
        "import scipy as sp\n",
        "print('scipy version: {}'. format(sp.__version__))\n",
        "\n",
        "import IPython\n",
        "from IPython import display # pretty printing of dataframe in Jupyter notebook\n",
        "print('IPython version: {}'. format(IPython.__version__))\n",
        "\n",
        "import pyspark\n",
        "print('Apache Spark Pyspark version: {}'. format(pyspark.__version__)) # pyspark version\n",
        "\n",
        "# misc libraries\n",
        "import random\n",
        "import time\n",
        "\n",
        "# ignore warnings\n",
        "import warnings\n",
        "warnings.filterwarnings('ignore')\n",
        "print('-'*25)"
      ],
      "execution_count": 21,
      "outputs": [
        {
          "output_type": "stream",
          "name": "stdout",
          "text": [
            "Python version: 3.10.6 (main, May 29 2023, 11:10:38) [GCC 11.3.0]\n",
            "Python version: 1.5.3\n",
            "matplotlib version: 3.7.1\n",
            "numpy version: 1.22.4\n",
            "scipy version: 1.10.1\n",
            "IPython version: 7.34.0\n",
            "Apache Spark Pyspark version: 3.1.1\n",
            "-------------------------\n"
          ]
        }
      ]
    },
    {
      "cell_type": "code",
      "metadata": {
        "id": "z00J1GJVVsOF"
      },
      "source": [
        "from pyspark.ml.classification import LinearSVC\n",
        "from pyspark.ml.classification import LogisticRegression\n",
        "from pyspark.ml.classification import DecisionTreeClassifier\n",
        "from pyspark.ml.classification import GBTClassifier\n",
        "from pyspark.ml.classification import RandomForestClassifier\n",
        "from pyspark.ml.classification import NaiveBayes\n",
        "from pyspark.ml.classification import MultilayerPerceptronClassifier\n",
        "from pyspark.ml.classification import OneVsRest"
      ],
      "execution_count": 22,
      "outputs": []
    },
    {
      "cell_type": "code",
      "metadata": {
        "colab": {
          "base_uri": "https://localhost:8080/"
        },
        "id": "UgzG7T8pWerQ",
        "outputId": "fc0b3ae7-edb8-47c2-9adf-f69f91cc5923"
      },
      "source": [
        "from subprocess import check_output\n",
        "print('-'*10, 'Files', '-'*10)\n",
        "print(check_output(['ls', './']).decode('utf8'))"
      ],
      "execution_count": 23,
      "outputs": [
        {
          "output_type": "stream",
          "name": "stdout",
          "text": [
            "---------- Files ----------\n",
            "data\n",
            "data.zip\n",
            "gender_submission.csv\n",
            "sample_data\n",
            "spark-3.1.1-bin-hadoop3.2\n",
            "spark-3.1.1-bin-hadoop3.2.tgz\n",
            "test.csv\n",
            "titanic.zip\n",
            "train.csv\n",
            "\n"
          ]
        }
      ]
    },
    {
      "cell_type": "code",
      "metadata": {
        "colab": {
          "base_uri": "https://localhost:8080/",
          "height": 444
        },
        "id": "seP84D6EWpMR",
        "outputId": "a8ae6a82-bc40-4b29-f73c-da29146dfd53"
      },
      "source": [
        "data_raw = spark.read.csv('./train.csv', inferSchema=True, header=True)\n",
        "\n",
        "# the test file provided is for validation of final model.\n",
        "data_val = spark.read.csv('./test.csv', inferSchema=True, header=True)\n",
        "\n",
        "# preview the data\n",
        "# data type\n",
        "print('-'*10, 'data types', '-'*10)\n",
        "pd.DataFrame(data_raw.dtypes)"
      ],
      "execution_count": 24,
      "outputs": [
        {
          "output_type": "stream",
          "name": "stdout",
          "text": [
            "---------- data types ----------\n"
          ]
        },
        {
          "output_type": "execute_result",
          "data": {
            "text/plain": [
              "              0       1\n",
              "0   PassengerId     int\n",
              "1      Survived     int\n",
              "2        Pclass     int\n",
              "3          Name  string\n",
              "4           Sex  string\n",
              "5           Age  double\n",
              "6         SibSp     int\n",
              "7         Parch     int\n",
              "8        Ticket  string\n",
              "9          Fare  double\n",
              "10        Cabin  string\n",
              "11     Embarked  string"
            ],
            "text/html": [
              "\n",
              "\n",
              "  <div id=\"df-391a68c2-f086-4ba1-a1ed-f2145ee82a47\">\n",
              "    <div class=\"colab-df-container\">\n",
              "      <div>\n",
              "<style scoped>\n",
              "    .dataframe tbody tr th:only-of-type {\n",
              "        vertical-align: middle;\n",
              "    }\n",
              "\n",
              "    .dataframe tbody tr th {\n",
              "        vertical-align: top;\n",
              "    }\n",
              "\n",
              "    .dataframe thead th {\n",
              "        text-align: right;\n",
              "    }\n",
              "</style>\n",
              "<table border=\"1\" class=\"dataframe\">\n",
              "  <thead>\n",
              "    <tr style=\"text-align: right;\">\n",
              "      <th></th>\n",
              "      <th>0</th>\n",
              "      <th>1</th>\n",
              "    </tr>\n",
              "  </thead>\n",
              "  <tbody>\n",
              "    <tr>\n",
              "      <th>0</th>\n",
              "      <td>PassengerId</td>\n",
              "      <td>int</td>\n",
              "    </tr>\n",
              "    <tr>\n",
              "      <th>1</th>\n",
              "      <td>Survived</td>\n",
              "      <td>int</td>\n",
              "    </tr>\n",
              "    <tr>\n",
              "      <th>2</th>\n",
              "      <td>Pclass</td>\n",
              "      <td>int</td>\n",
              "    </tr>\n",
              "    <tr>\n",
              "      <th>3</th>\n",
              "      <td>Name</td>\n",
              "      <td>string</td>\n",
              "    </tr>\n",
              "    <tr>\n",
              "      <th>4</th>\n",
              "      <td>Sex</td>\n",
              "      <td>string</td>\n",
              "    </tr>\n",
              "    <tr>\n",
              "      <th>5</th>\n",
              "      <td>Age</td>\n",
              "      <td>double</td>\n",
              "    </tr>\n",
              "    <tr>\n",
              "      <th>6</th>\n",
              "      <td>SibSp</td>\n",
              "      <td>int</td>\n",
              "    </tr>\n",
              "    <tr>\n",
              "      <th>7</th>\n",
              "      <td>Parch</td>\n",
              "      <td>int</td>\n",
              "    </tr>\n",
              "    <tr>\n",
              "      <th>8</th>\n",
              "      <td>Ticket</td>\n",
              "      <td>string</td>\n",
              "    </tr>\n",
              "    <tr>\n",
              "      <th>9</th>\n",
              "      <td>Fare</td>\n",
              "      <td>double</td>\n",
              "    </tr>\n",
              "    <tr>\n",
              "      <th>10</th>\n",
              "      <td>Cabin</td>\n",
              "      <td>string</td>\n",
              "    </tr>\n",
              "    <tr>\n",
              "      <th>11</th>\n",
              "      <td>Embarked</td>\n",
              "      <td>string</td>\n",
              "    </tr>\n",
              "  </tbody>\n",
              "</table>\n",
              "</div>\n",
              "      <button class=\"colab-df-convert\" onclick=\"convertToInteractive('df-391a68c2-f086-4ba1-a1ed-f2145ee82a47')\"\n",
              "              title=\"Convert this dataframe to an interactive table.\"\n",
              "              style=\"display:none;\">\n",
              "\n",
              "  <svg xmlns=\"http://www.w3.org/2000/svg\" height=\"24px\"viewBox=\"0 0 24 24\"\n",
              "       width=\"24px\">\n",
              "    <path d=\"M0 0h24v24H0V0z\" fill=\"none\"/>\n",
              "    <path d=\"M18.56 5.44l.94 2.06.94-2.06 2.06-.94-2.06-.94-.94-2.06-.94 2.06-2.06.94zm-11 1L8.5 8.5l.94-2.06 2.06-.94-2.06-.94L8.5 2.5l-.94 2.06-2.06.94zm10 10l.94 2.06.94-2.06 2.06-.94-2.06-.94-.94-2.06-.94 2.06-2.06.94z\"/><path d=\"M17.41 7.96l-1.37-1.37c-.4-.4-.92-.59-1.43-.59-.52 0-1.04.2-1.43.59L10.3 9.45l-7.72 7.72c-.78.78-.78 2.05 0 2.83L4 21.41c.39.39.9.59 1.41.59.51 0 1.02-.2 1.41-.59l7.78-7.78 2.81-2.81c.8-.78.8-2.07 0-2.86zM5.41 20L4 18.59l7.72-7.72 1.47 1.35L5.41 20z\"/>\n",
              "  </svg>\n",
              "      </button>\n",
              "\n",
              "\n",
              "\n",
              "    <div id=\"df-3b0058eb-c77a-4d1f-ae25-046c5697c3b8\">\n",
              "      <button class=\"colab-df-quickchart\" onclick=\"quickchart('df-3b0058eb-c77a-4d1f-ae25-046c5697c3b8')\"\n",
              "              title=\"Suggest charts.\"\n",
              "              style=\"display:none;\">\n",
              "\n",
              "<svg xmlns=\"http://www.w3.org/2000/svg\" height=\"24px\"viewBox=\"0 0 24 24\"\n",
              "     width=\"24px\">\n",
              "    <g>\n",
              "        <path d=\"M19 3H5c-1.1 0-2 .9-2 2v14c0 1.1.9 2 2 2h14c1.1 0 2-.9 2-2V5c0-1.1-.9-2-2-2zM9 17H7v-7h2v7zm4 0h-2V7h2v10zm4 0h-2v-4h2v4z\"/>\n",
              "    </g>\n",
              "</svg>\n",
              "      </button>\n",
              "    </div>\n",
              "\n",
              "<style>\n",
              "  .colab-df-quickchart {\n",
              "    background-color: #E8F0FE;\n",
              "    border: none;\n",
              "    border-radius: 50%;\n",
              "    cursor: pointer;\n",
              "    display: none;\n",
              "    fill: #1967D2;\n",
              "    height: 32px;\n",
              "    padding: 0 0 0 0;\n",
              "    width: 32px;\n",
              "  }\n",
              "\n",
              "  .colab-df-quickchart:hover {\n",
              "    background-color: #E2EBFA;\n",
              "    box-shadow: 0px 1px 2px rgba(60, 64, 67, 0.3), 0px 1px 3px 1px rgba(60, 64, 67, 0.15);\n",
              "    fill: #174EA6;\n",
              "  }\n",
              "\n",
              "  [theme=dark] .colab-df-quickchart {\n",
              "    background-color: #3B4455;\n",
              "    fill: #D2E3FC;\n",
              "  }\n",
              "\n",
              "  [theme=dark] .colab-df-quickchart:hover {\n",
              "    background-color: #434B5C;\n",
              "    box-shadow: 0px 1px 3px 1px rgba(0, 0, 0, 0.15);\n",
              "    filter: drop-shadow(0px 1px 2px rgba(0, 0, 0, 0.3));\n",
              "    fill: #FFFFFF;\n",
              "  }\n",
              "</style>\n",
              "\n",
              "    <script>\n",
              "      async function quickchart(key) {\n",
              "        const containerElement = document.querySelector('#' + key);\n",
              "        const charts = await google.colab.kernel.invokeFunction(\n",
              "            'suggestCharts', [key], {});\n",
              "      }\n",
              "    </script>\n",
              "\n",
              "      <script>\n",
              "\n",
              "function displayQuickchartButton(domScope) {\n",
              "  let quickchartButtonEl =\n",
              "    domScope.querySelector('#df-3b0058eb-c77a-4d1f-ae25-046c5697c3b8 button.colab-df-quickchart');\n",
              "  quickchartButtonEl.style.display =\n",
              "    google.colab.kernel.accessAllowed ? 'block' : 'none';\n",
              "}\n",
              "\n",
              "        displayQuickchartButton(document);\n",
              "      </script>\n",
              "      <style>\n",
              "    .colab-df-container {\n",
              "      display:flex;\n",
              "      flex-wrap:wrap;\n",
              "      gap: 12px;\n",
              "    }\n",
              "\n",
              "    .colab-df-convert {\n",
              "      background-color: #E8F0FE;\n",
              "      border: none;\n",
              "      border-radius: 50%;\n",
              "      cursor: pointer;\n",
              "      display: none;\n",
              "      fill: #1967D2;\n",
              "      height: 32px;\n",
              "      padding: 0 0 0 0;\n",
              "      width: 32px;\n",
              "    }\n",
              "\n",
              "    .colab-df-convert:hover {\n",
              "      background-color: #E2EBFA;\n",
              "      box-shadow: 0px 1px 2px rgba(60, 64, 67, 0.3), 0px 1px 3px 1px rgba(60, 64, 67, 0.15);\n",
              "      fill: #174EA6;\n",
              "    }\n",
              "\n",
              "    [theme=dark] .colab-df-convert {\n",
              "      background-color: #3B4455;\n",
              "      fill: #D2E3FC;\n",
              "    }\n",
              "\n",
              "    [theme=dark] .colab-df-convert:hover {\n",
              "      background-color: #434B5C;\n",
              "      box-shadow: 0px 1px 3px 1px rgba(0, 0, 0, 0.15);\n",
              "      filter: drop-shadow(0px 1px 2px rgba(0, 0, 0, 0.3));\n",
              "      fill: #FFFFFF;\n",
              "    }\n",
              "  </style>\n",
              "\n",
              "      <script>\n",
              "        const buttonEl =\n",
              "          document.querySelector('#df-391a68c2-f086-4ba1-a1ed-f2145ee82a47 button.colab-df-convert');\n",
              "        buttonEl.style.display =\n",
              "          google.colab.kernel.accessAllowed ? 'block' : 'none';\n",
              "\n",
              "        async function convertToInteractive(key) {\n",
              "          const element = document.querySelector('#df-391a68c2-f086-4ba1-a1ed-f2145ee82a47');\n",
              "          const dataTable =\n",
              "            await google.colab.kernel.invokeFunction('convertToInteractive',\n",
              "                                                     [key], {});\n",
              "          if (!dataTable) return;\n",
              "\n",
              "          const docLinkHtml = 'Like what you see? Visit the ' +\n",
              "            '<a target=\"_blank\" href=https://colab.research.google.com/notebooks/data_table.ipynb>data table notebook</a>'\n",
              "            + ' to learn more about interactive tables.';\n",
              "          element.innerHTML = '';\n",
              "          dataTable['output_type'] = 'display_data';\n",
              "          await google.colab.output.renderOutput(dataTable, element);\n",
              "          const docLink = document.createElement('div');\n",
              "          docLink.innerHTML = docLinkHtml;\n",
              "          element.appendChild(docLink);\n",
              "        }\n",
              "      </script>\n",
              "    </div>\n",
              "  </div>\n"
            ]
          },
          "metadata": {},
          "execution_count": 24
        }
      ]
    },
    {
      "cell_type": "code",
      "metadata": {
        "colab": {
          "base_uri": "https://localhost:8080/",
          "height": 320
        },
        "id": "yqboB-uVW_4N",
        "outputId": "2ee44835-d3c4-4335-faaf-1ae70febb760"
      },
      "source": [
        "# data summary\n",
        "print('-'*10, 'data summary', '-'*10)\n",
        "data_raw.describe().toPandas()"
      ],
      "execution_count": 25,
      "outputs": [
        {
          "output_type": "stream",
          "name": "stdout",
          "text": [
            "---------- data summary ----------\n"
          ]
        },
        {
          "output_type": "execute_result",
          "data": {
            "text/plain": [
              "  summary        PassengerId             Survived              Pclass  \\\n",
              "0   count                891                  891                 891   \n",
              "1    mean              446.0   0.3838383838383838   2.308641975308642   \n",
              "2  stddev  257.3538420152301  0.48659245426485753  0.8360712409770491   \n",
              "3     min                  1                    0                   1   \n",
              "4     max                891                    1                   3   \n",
              "\n",
              "                                               Name     Sex  \\\n",
              "0                                               891     891   \n",
              "1                                              None    None   \n",
              "2                                              None    None   \n",
              "3  \"Andersson, Mr. August Edvard (\"\"Wennerstrom\"\")\"  female   \n",
              "4                       van Melkebeke, Mr. Philemon    male   \n",
              "\n",
              "                  Age               SibSp                Parch  \\\n",
              "0                 714                 891                  891   \n",
              "1   29.69911764705882  0.5230078563411896  0.38159371492704824   \n",
              "2  14.526497332334035  1.1027434322934315   0.8060572211299488   \n",
              "3                0.42                   0                    0   \n",
              "4                80.0                   8                    6   \n",
              "\n",
              "               Ticket               Fare Cabin Embarked  \n",
              "0                 891                891   204      889  \n",
              "1  260318.54916792738   32.2042079685746  None     None  \n",
              "2  471609.26868834975  49.69342859718089  None     None  \n",
              "3              110152                0.0   A10        C  \n",
              "4           WE/P 5735           512.3292     T        S  "
            ],
            "text/html": [
              "\n",
              "\n",
              "  <div id=\"df-be09e28a-6304-4885-8897-077508250f5b\">\n",
              "    <div class=\"colab-df-container\">\n",
              "      <div>\n",
              "<style scoped>\n",
              "    .dataframe tbody tr th:only-of-type {\n",
              "        vertical-align: middle;\n",
              "    }\n",
              "\n",
              "    .dataframe tbody tr th {\n",
              "        vertical-align: top;\n",
              "    }\n",
              "\n",
              "    .dataframe thead th {\n",
              "        text-align: right;\n",
              "    }\n",
              "</style>\n",
              "<table border=\"1\" class=\"dataframe\">\n",
              "  <thead>\n",
              "    <tr style=\"text-align: right;\">\n",
              "      <th></th>\n",
              "      <th>summary</th>\n",
              "      <th>PassengerId</th>\n",
              "      <th>Survived</th>\n",
              "      <th>Pclass</th>\n",
              "      <th>Name</th>\n",
              "      <th>Sex</th>\n",
              "      <th>Age</th>\n",
              "      <th>SibSp</th>\n",
              "      <th>Parch</th>\n",
              "      <th>Ticket</th>\n",
              "      <th>Fare</th>\n",
              "      <th>Cabin</th>\n",
              "      <th>Embarked</th>\n",
              "    </tr>\n",
              "  </thead>\n",
              "  <tbody>\n",
              "    <tr>\n",
              "      <th>0</th>\n",
              "      <td>count</td>\n",
              "      <td>891</td>\n",
              "      <td>891</td>\n",
              "      <td>891</td>\n",
              "      <td>891</td>\n",
              "      <td>891</td>\n",
              "      <td>714</td>\n",
              "      <td>891</td>\n",
              "      <td>891</td>\n",
              "      <td>891</td>\n",
              "      <td>891</td>\n",
              "      <td>204</td>\n",
              "      <td>889</td>\n",
              "    </tr>\n",
              "    <tr>\n",
              "      <th>1</th>\n",
              "      <td>mean</td>\n",
              "      <td>446.0</td>\n",
              "      <td>0.3838383838383838</td>\n",
              "      <td>2.308641975308642</td>\n",
              "      <td>None</td>\n",
              "      <td>None</td>\n",
              "      <td>29.69911764705882</td>\n",
              "      <td>0.5230078563411896</td>\n",
              "      <td>0.38159371492704824</td>\n",
              "      <td>260318.54916792738</td>\n",
              "      <td>32.2042079685746</td>\n",
              "      <td>None</td>\n",
              "      <td>None</td>\n",
              "    </tr>\n",
              "    <tr>\n",
              "      <th>2</th>\n",
              "      <td>stddev</td>\n",
              "      <td>257.3538420152301</td>\n",
              "      <td>0.48659245426485753</td>\n",
              "      <td>0.8360712409770491</td>\n",
              "      <td>None</td>\n",
              "      <td>None</td>\n",
              "      <td>14.526497332334035</td>\n",
              "      <td>1.1027434322934315</td>\n",
              "      <td>0.8060572211299488</td>\n",
              "      <td>471609.26868834975</td>\n",
              "      <td>49.69342859718089</td>\n",
              "      <td>None</td>\n",
              "      <td>None</td>\n",
              "    </tr>\n",
              "    <tr>\n",
              "      <th>3</th>\n",
              "      <td>min</td>\n",
              "      <td>1</td>\n",
              "      <td>0</td>\n",
              "      <td>1</td>\n",
              "      <td>\"Andersson, Mr. August Edvard (\"\"Wennerstrom\"\")\"</td>\n",
              "      <td>female</td>\n",
              "      <td>0.42</td>\n",
              "      <td>0</td>\n",
              "      <td>0</td>\n",
              "      <td>110152</td>\n",
              "      <td>0.0</td>\n",
              "      <td>A10</td>\n",
              "      <td>C</td>\n",
              "    </tr>\n",
              "    <tr>\n",
              "      <th>4</th>\n",
              "      <td>max</td>\n",
              "      <td>891</td>\n",
              "      <td>1</td>\n",
              "      <td>3</td>\n",
              "      <td>van Melkebeke, Mr. Philemon</td>\n",
              "      <td>male</td>\n",
              "      <td>80.0</td>\n",
              "      <td>8</td>\n",
              "      <td>6</td>\n",
              "      <td>WE/P 5735</td>\n",
              "      <td>512.3292</td>\n",
              "      <td>T</td>\n",
              "      <td>S</td>\n",
              "    </tr>\n",
              "  </tbody>\n",
              "</table>\n",
              "</div>\n",
              "      <button class=\"colab-df-convert\" onclick=\"convertToInteractive('df-be09e28a-6304-4885-8897-077508250f5b')\"\n",
              "              title=\"Convert this dataframe to an interactive table.\"\n",
              "              style=\"display:none;\">\n",
              "\n",
              "  <svg xmlns=\"http://www.w3.org/2000/svg\" height=\"24px\"viewBox=\"0 0 24 24\"\n",
              "       width=\"24px\">\n",
              "    <path d=\"M0 0h24v24H0V0z\" fill=\"none\"/>\n",
              "    <path d=\"M18.56 5.44l.94 2.06.94-2.06 2.06-.94-2.06-.94-.94-2.06-.94 2.06-2.06.94zm-11 1L8.5 8.5l.94-2.06 2.06-.94-2.06-.94L8.5 2.5l-.94 2.06-2.06.94zm10 10l.94 2.06.94-2.06 2.06-.94-2.06-.94-.94-2.06-.94 2.06-2.06.94z\"/><path d=\"M17.41 7.96l-1.37-1.37c-.4-.4-.92-.59-1.43-.59-.52 0-1.04.2-1.43.59L10.3 9.45l-7.72 7.72c-.78.78-.78 2.05 0 2.83L4 21.41c.39.39.9.59 1.41.59.51 0 1.02-.2 1.41-.59l7.78-7.78 2.81-2.81c.8-.78.8-2.07 0-2.86zM5.41 20L4 18.59l7.72-7.72 1.47 1.35L5.41 20z\"/>\n",
              "  </svg>\n",
              "      </button>\n",
              "\n",
              "\n",
              "\n",
              "    <div id=\"df-ddaf4ee8-d290-4128-b72c-75d738596340\">\n",
              "      <button class=\"colab-df-quickchart\" onclick=\"quickchart('df-ddaf4ee8-d290-4128-b72c-75d738596340')\"\n",
              "              title=\"Suggest charts.\"\n",
              "              style=\"display:none;\">\n",
              "\n",
              "<svg xmlns=\"http://www.w3.org/2000/svg\" height=\"24px\"viewBox=\"0 0 24 24\"\n",
              "     width=\"24px\">\n",
              "    <g>\n",
              "        <path d=\"M19 3H5c-1.1 0-2 .9-2 2v14c0 1.1.9 2 2 2h14c1.1 0 2-.9 2-2V5c0-1.1-.9-2-2-2zM9 17H7v-7h2v7zm4 0h-2V7h2v10zm4 0h-2v-4h2v4z\"/>\n",
              "    </g>\n",
              "</svg>\n",
              "      </button>\n",
              "    </div>\n",
              "\n",
              "<style>\n",
              "  .colab-df-quickchart {\n",
              "    background-color: #E8F0FE;\n",
              "    border: none;\n",
              "    border-radius: 50%;\n",
              "    cursor: pointer;\n",
              "    display: none;\n",
              "    fill: #1967D2;\n",
              "    height: 32px;\n",
              "    padding: 0 0 0 0;\n",
              "    width: 32px;\n",
              "  }\n",
              "\n",
              "  .colab-df-quickchart:hover {\n",
              "    background-color: #E2EBFA;\n",
              "    box-shadow: 0px 1px 2px rgba(60, 64, 67, 0.3), 0px 1px 3px 1px rgba(60, 64, 67, 0.15);\n",
              "    fill: #174EA6;\n",
              "  }\n",
              "\n",
              "  [theme=dark] .colab-df-quickchart {\n",
              "    background-color: #3B4455;\n",
              "    fill: #D2E3FC;\n",
              "  }\n",
              "\n",
              "  [theme=dark] .colab-df-quickchart:hover {\n",
              "    background-color: #434B5C;\n",
              "    box-shadow: 0px 1px 3px 1px rgba(0, 0, 0, 0.15);\n",
              "    filter: drop-shadow(0px 1px 2px rgba(0, 0, 0, 0.3));\n",
              "    fill: #FFFFFF;\n",
              "  }\n",
              "</style>\n",
              "\n",
              "    <script>\n",
              "      async function quickchart(key) {\n",
              "        const containerElement = document.querySelector('#' + key);\n",
              "        const charts = await google.colab.kernel.invokeFunction(\n",
              "            'suggestCharts', [key], {});\n",
              "      }\n",
              "    </script>\n",
              "\n",
              "      <script>\n",
              "\n",
              "function displayQuickchartButton(domScope) {\n",
              "  let quickchartButtonEl =\n",
              "    domScope.querySelector('#df-ddaf4ee8-d290-4128-b72c-75d738596340 button.colab-df-quickchart');\n",
              "  quickchartButtonEl.style.display =\n",
              "    google.colab.kernel.accessAllowed ? 'block' : 'none';\n",
              "}\n",
              "\n",
              "        displayQuickchartButton(document);\n",
              "      </script>\n",
              "      <style>\n",
              "    .colab-df-container {\n",
              "      display:flex;\n",
              "      flex-wrap:wrap;\n",
              "      gap: 12px;\n",
              "    }\n",
              "\n",
              "    .colab-df-convert {\n",
              "      background-color: #E8F0FE;\n",
              "      border: none;\n",
              "      border-radius: 50%;\n",
              "      cursor: pointer;\n",
              "      display: none;\n",
              "      fill: #1967D2;\n",
              "      height: 32px;\n",
              "      padding: 0 0 0 0;\n",
              "      width: 32px;\n",
              "    }\n",
              "\n",
              "    .colab-df-convert:hover {\n",
              "      background-color: #E2EBFA;\n",
              "      box-shadow: 0px 1px 2px rgba(60, 64, 67, 0.3), 0px 1px 3px 1px rgba(60, 64, 67, 0.15);\n",
              "      fill: #174EA6;\n",
              "    }\n",
              "\n",
              "    [theme=dark] .colab-df-convert {\n",
              "      background-color: #3B4455;\n",
              "      fill: #D2E3FC;\n",
              "    }\n",
              "\n",
              "    [theme=dark] .colab-df-convert:hover {\n",
              "      background-color: #434B5C;\n",
              "      box-shadow: 0px 1px 3px 1px rgba(0, 0, 0, 0.15);\n",
              "      filter: drop-shadow(0px 1px 2px rgba(0, 0, 0, 0.3));\n",
              "      fill: #FFFFFF;\n",
              "    }\n",
              "  </style>\n",
              "\n",
              "      <script>\n",
              "        const buttonEl =\n",
              "          document.querySelector('#df-be09e28a-6304-4885-8897-077508250f5b button.colab-df-convert');\n",
              "        buttonEl.style.display =\n",
              "          google.colab.kernel.accessAllowed ? 'block' : 'none';\n",
              "\n",
              "        async function convertToInteractive(key) {\n",
              "          const element = document.querySelector('#df-be09e28a-6304-4885-8897-077508250f5b');\n",
              "          const dataTable =\n",
              "            await google.colab.kernel.invokeFunction('convertToInteractive',\n",
              "                                                     [key], {});\n",
              "          if (!dataTable) return;\n",
              "\n",
              "          const docLinkHtml = 'Like what you see? Visit the ' +\n",
              "            '<a target=\"_blank\" href=https://colab.research.google.com/notebooks/data_table.ipynb>data table notebook</a>'\n",
              "            + ' to learn more about interactive tables.';\n",
              "          element.innerHTML = '';\n",
              "          dataTable['output_type'] = 'display_data';\n",
              "          await google.colab.output.renderOutput(dataTable, element);\n",
              "          const docLink = document.createElement('div');\n",
              "          docLink.innerHTML = docLinkHtml;\n",
              "          element.appendChild(docLink);\n",
              "        }\n",
              "      </script>\n",
              "    </div>\n",
              "  </div>\n"
            ]
          },
          "metadata": {},
          "execution_count": 25
        }
      ]
    },
    {
      "cell_type": "code",
      "metadata": {
        "colab": {
          "base_uri": "https://localhost:8080/",
          "height": 224
        },
        "id": "WQaOav6hXIBU",
        "outputId": "3ca0a3c2-e93f-472f-83b2-86020409497a"
      },
      "source": [
        "# view a small subset of the data\n",
        "print('-'*10, 'randomely sample 1% data to view', '-'*10)\n",
        "data_raw.randomSplit([0.01, 0.99])[0].toPandas()"
      ],
      "execution_count": 26,
      "outputs": [
        {
          "output_type": "stream",
          "name": "stdout",
          "text": [
            "---------- randomely sample 1% data to view ----------\n"
          ]
        },
        {
          "output_type": "execute_result",
          "data": {
            "text/plain": [
              "   PassengerId  Survived  Pclass  \\\n",
              "0           71         0       2   \n",
              "1          186         0       1   \n",
              "2          208         1       3   \n",
              "3          329         1       3   \n",
              "4          605         1       1   \n",
              "\n",
              "                                             Name     Sex   Age  SibSp  Parch  \\\n",
              "0                      Jenkin, Mr. Stephen Curnow    male  32.0      0      0   \n",
              "1                           Rood, Mr. Hugh Roscoe    male   NaN      0      0   \n",
              "2                     Albimona, Mr. Nassef Cassem    male  26.0      0      0   \n",
              "3  Goldsmith, Mrs. Frank John (Emily Alice Brown)  female  31.0      1      1   \n",
              "4             \"Homer, Mr. Harry (\"\"Mr E Haven\"\")\"    male  35.0      0      0   \n",
              "\n",
              "       Ticket     Fare Cabin Embarked  \n",
              "0  C.A. 33111  10.5000  None        S  \n",
              "1      113767  50.0000   A32        S  \n",
              "2        2699  18.7875  None        C  \n",
              "3      363291  20.5250  None        S  \n",
              "4      111426  26.5500  None        C  "
            ],
            "text/html": [
              "\n",
              "\n",
              "  <div id=\"df-48d85ce1-975c-474f-85ad-793f40715421\">\n",
              "    <div class=\"colab-df-container\">\n",
              "      <div>\n",
              "<style scoped>\n",
              "    .dataframe tbody tr th:only-of-type {\n",
              "        vertical-align: middle;\n",
              "    }\n",
              "\n",
              "    .dataframe tbody tr th {\n",
              "        vertical-align: top;\n",
              "    }\n",
              "\n",
              "    .dataframe thead th {\n",
              "        text-align: right;\n",
              "    }\n",
              "</style>\n",
              "<table border=\"1\" class=\"dataframe\">\n",
              "  <thead>\n",
              "    <tr style=\"text-align: right;\">\n",
              "      <th></th>\n",
              "      <th>PassengerId</th>\n",
              "      <th>Survived</th>\n",
              "      <th>Pclass</th>\n",
              "      <th>Name</th>\n",
              "      <th>Sex</th>\n",
              "      <th>Age</th>\n",
              "      <th>SibSp</th>\n",
              "      <th>Parch</th>\n",
              "      <th>Ticket</th>\n",
              "      <th>Fare</th>\n",
              "      <th>Cabin</th>\n",
              "      <th>Embarked</th>\n",
              "    </tr>\n",
              "  </thead>\n",
              "  <tbody>\n",
              "    <tr>\n",
              "      <th>0</th>\n",
              "      <td>71</td>\n",
              "      <td>0</td>\n",
              "      <td>2</td>\n",
              "      <td>Jenkin, Mr. Stephen Curnow</td>\n",
              "      <td>male</td>\n",
              "      <td>32.0</td>\n",
              "      <td>0</td>\n",
              "      <td>0</td>\n",
              "      <td>C.A. 33111</td>\n",
              "      <td>10.5000</td>\n",
              "      <td>None</td>\n",
              "      <td>S</td>\n",
              "    </tr>\n",
              "    <tr>\n",
              "      <th>1</th>\n",
              "      <td>186</td>\n",
              "      <td>0</td>\n",
              "      <td>1</td>\n",
              "      <td>Rood, Mr. Hugh Roscoe</td>\n",
              "      <td>male</td>\n",
              "      <td>NaN</td>\n",
              "      <td>0</td>\n",
              "      <td>0</td>\n",
              "      <td>113767</td>\n",
              "      <td>50.0000</td>\n",
              "      <td>A32</td>\n",
              "      <td>S</td>\n",
              "    </tr>\n",
              "    <tr>\n",
              "      <th>2</th>\n",
              "      <td>208</td>\n",
              "      <td>1</td>\n",
              "      <td>3</td>\n",
              "      <td>Albimona, Mr. Nassef Cassem</td>\n",
              "      <td>male</td>\n",
              "      <td>26.0</td>\n",
              "      <td>0</td>\n",
              "      <td>0</td>\n",
              "      <td>2699</td>\n",
              "      <td>18.7875</td>\n",
              "      <td>None</td>\n",
              "      <td>C</td>\n",
              "    </tr>\n",
              "    <tr>\n",
              "      <th>3</th>\n",
              "      <td>329</td>\n",
              "      <td>1</td>\n",
              "      <td>3</td>\n",
              "      <td>Goldsmith, Mrs. Frank John (Emily Alice Brown)</td>\n",
              "      <td>female</td>\n",
              "      <td>31.0</td>\n",
              "      <td>1</td>\n",
              "      <td>1</td>\n",
              "      <td>363291</td>\n",
              "      <td>20.5250</td>\n",
              "      <td>None</td>\n",
              "      <td>S</td>\n",
              "    </tr>\n",
              "    <tr>\n",
              "      <th>4</th>\n",
              "      <td>605</td>\n",
              "      <td>1</td>\n",
              "      <td>1</td>\n",
              "      <td>\"Homer, Mr. Harry (\"\"Mr E Haven\"\")\"</td>\n",
              "      <td>male</td>\n",
              "      <td>35.0</td>\n",
              "      <td>0</td>\n",
              "      <td>0</td>\n",
              "      <td>111426</td>\n",
              "      <td>26.5500</td>\n",
              "      <td>None</td>\n",
              "      <td>C</td>\n",
              "    </tr>\n",
              "  </tbody>\n",
              "</table>\n",
              "</div>\n",
              "      <button class=\"colab-df-convert\" onclick=\"convertToInteractive('df-48d85ce1-975c-474f-85ad-793f40715421')\"\n",
              "              title=\"Convert this dataframe to an interactive table.\"\n",
              "              style=\"display:none;\">\n",
              "\n",
              "  <svg xmlns=\"http://www.w3.org/2000/svg\" height=\"24px\"viewBox=\"0 0 24 24\"\n",
              "       width=\"24px\">\n",
              "    <path d=\"M0 0h24v24H0V0z\" fill=\"none\"/>\n",
              "    <path d=\"M18.56 5.44l.94 2.06.94-2.06 2.06-.94-2.06-.94-.94-2.06-.94 2.06-2.06.94zm-11 1L8.5 8.5l.94-2.06 2.06-.94-2.06-.94L8.5 2.5l-.94 2.06-2.06.94zm10 10l.94 2.06.94-2.06 2.06-.94-2.06-.94-.94-2.06-.94 2.06-2.06.94z\"/><path d=\"M17.41 7.96l-1.37-1.37c-.4-.4-.92-.59-1.43-.59-.52 0-1.04.2-1.43.59L10.3 9.45l-7.72 7.72c-.78.78-.78 2.05 0 2.83L4 21.41c.39.39.9.59 1.41.59.51 0 1.02-.2 1.41-.59l7.78-7.78 2.81-2.81c.8-.78.8-2.07 0-2.86zM5.41 20L4 18.59l7.72-7.72 1.47 1.35L5.41 20z\"/>\n",
              "  </svg>\n",
              "      </button>\n",
              "\n",
              "\n",
              "\n",
              "    <div id=\"df-b1e341bf-9e61-4263-baf1-9e7fb0b74b56\">\n",
              "      <button class=\"colab-df-quickchart\" onclick=\"quickchart('df-b1e341bf-9e61-4263-baf1-9e7fb0b74b56')\"\n",
              "              title=\"Suggest charts.\"\n",
              "              style=\"display:none;\">\n",
              "\n",
              "<svg xmlns=\"http://www.w3.org/2000/svg\" height=\"24px\"viewBox=\"0 0 24 24\"\n",
              "     width=\"24px\">\n",
              "    <g>\n",
              "        <path d=\"M19 3H5c-1.1 0-2 .9-2 2v14c0 1.1.9 2 2 2h14c1.1 0 2-.9 2-2V5c0-1.1-.9-2-2-2zM9 17H7v-7h2v7zm4 0h-2V7h2v10zm4 0h-2v-4h2v4z\"/>\n",
              "    </g>\n",
              "</svg>\n",
              "      </button>\n",
              "    </div>\n",
              "\n",
              "<style>\n",
              "  .colab-df-quickchart {\n",
              "    background-color: #E8F0FE;\n",
              "    border: none;\n",
              "    border-radius: 50%;\n",
              "    cursor: pointer;\n",
              "    display: none;\n",
              "    fill: #1967D2;\n",
              "    height: 32px;\n",
              "    padding: 0 0 0 0;\n",
              "    width: 32px;\n",
              "  }\n",
              "\n",
              "  .colab-df-quickchart:hover {\n",
              "    background-color: #E2EBFA;\n",
              "    box-shadow: 0px 1px 2px rgba(60, 64, 67, 0.3), 0px 1px 3px 1px rgba(60, 64, 67, 0.15);\n",
              "    fill: #174EA6;\n",
              "  }\n",
              "\n",
              "  [theme=dark] .colab-df-quickchart {\n",
              "    background-color: #3B4455;\n",
              "    fill: #D2E3FC;\n",
              "  }\n",
              "\n",
              "  [theme=dark] .colab-df-quickchart:hover {\n",
              "    background-color: #434B5C;\n",
              "    box-shadow: 0px 1px 3px 1px rgba(0, 0, 0, 0.15);\n",
              "    filter: drop-shadow(0px 1px 2px rgba(0, 0, 0, 0.3));\n",
              "    fill: #FFFFFF;\n",
              "  }\n",
              "</style>\n",
              "\n",
              "    <script>\n",
              "      async function quickchart(key) {\n",
              "        const containerElement = document.querySelector('#' + key);\n",
              "        const charts = await google.colab.kernel.invokeFunction(\n",
              "            'suggestCharts', [key], {});\n",
              "      }\n",
              "    </script>\n",
              "\n",
              "      <script>\n",
              "\n",
              "function displayQuickchartButton(domScope) {\n",
              "  let quickchartButtonEl =\n",
              "    domScope.querySelector('#df-b1e341bf-9e61-4263-baf1-9e7fb0b74b56 button.colab-df-quickchart');\n",
              "  quickchartButtonEl.style.display =\n",
              "    google.colab.kernel.accessAllowed ? 'block' : 'none';\n",
              "}\n",
              "\n",
              "        displayQuickchartButton(document);\n",
              "      </script>\n",
              "      <style>\n",
              "    .colab-df-container {\n",
              "      display:flex;\n",
              "      flex-wrap:wrap;\n",
              "      gap: 12px;\n",
              "    }\n",
              "\n",
              "    .colab-df-convert {\n",
              "      background-color: #E8F0FE;\n",
              "      border: none;\n",
              "      border-radius: 50%;\n",
              "      cursor: pointer;\n",
              "      display: none;\n",
              "      fill: #1967D2;\n",
              "      height: 32px;\n",
              "      padding: 0 0 0 0;\n",
              "      width: 32px;\n",
              "    }\n",
              "\n",
              "    .colab-df-convert:hover {\n",
              "      background-color: #E2EBFA;\n",
              "      box-shadow: 0px 1px 2px rgba(60, 64, 67, 0.3), 0px 1px 3px 1px rgba(60, 64, 67, 0.15);\n",
              "      fill: #174EA6;\n",
              "    }\n",
              "\n",
              "    [theme=dark] .colab-df-convert {\n",
              "      background-color: #3B4455;\n",
              "      fill: #D2E3FC;\n",
              "    }\n",
              "\n",
              "    [theme=dark] .colab-df-convert:hover {\n",
              "      background-color: #434B5C;\n",
              "      box-shadow: 0px 1px 3px 1px rgba(0, 0, 0, 0.15);\n",
              "      filter: drop-shadow(0px 1px 2px rgba(0, 0, 0, 0.3));\n",
              "      fill: #FFFFFF;\n",
              "    }\n",
              "  </style>\n",
              "\n",
              "      <script>\n",
              "        const buttonEl =\n",
              "          document.querySelector('#df-48d85ce1-975c-474f-85ad-793f40715421 button.colab-df-convert');\n",
              "        buttonEl.style.display =\n",
              "          google.colab.kernel.accessAllowed ? 'block' : 'none';\n",
              "\n",
              "        async function convertToInteractive(key) {\n",
              "          const element = document.querySelector('#df-48d85ce1-975c-474f-85ad-793f40715421');\n",
              "          const dataTable =\n",
              "            await google.colab.kernel.invokeFunction('convertToInteractive',\n",
              "                                                     [key], {});\n",
              "          if (!dataTable) return;\n",
              "\n",
              "          const docLinkHtml = 'Like what you see? Visit the ' +\n",
              "            '<a target=\"_blank\" href=https://colab.research.google.com/notebooks/data_table.ipynb>data table notebook</a>'\n",
              "            + ' to learn more about interactive tables.';\n",
              "          element.innerHTML = '';\n",
              "          dataTable['output_type'] = 'display_data';\n",
              "          await google.colab.output.renderOutput(dataTable, element);\n",
              "          const docLink = document.createElement('div');\n",
              "          docLink.innerHTML = docLinkHtml;\n",
              "          element.appendChild(docLink);\n",
              "        }\n",
              "      </script>\n",
              "    </div>\n",
              "  </div>\n"
            ]
          },
          "metadata": {},
          "execution_count": 26
        }
      ]
    },
    {
      "cell_type": "markdown",
      "metadata": {
        "id": "ol2XZvaTXQWD"
      },
      "source": [
        "### 3.21 The 4 C's of data cleaning: Correcting, Completing, Creating, and Converting"
      ]
    },
    {
      "cell_type": "code",
      "metadata": {
        "colab": {
          "base_uri": "https://localhost:8080/"
        },
        "id": "bpyiBIpoXLA-",
        "outputId": "c30b12d9-07f5-4cc2-b6dd-d22d9a7b518e"
      },
      "source": [
        "# we first check which values are NULL values for each column\n",
        "# then we convert the boolean values to int (0 and 1), then we can count how many 1's exist in each column.\n",
        "print('-'*25)\n",
        "print('0: is not NULL')\n",
        "print('1: is NULL')\n",
        "print('-'*25)\n",
        "print(' '*25)\n",
        "# we build column strings and then use eval() to convert strings to column expressions.\n",
        "data_raw.select([eval('data_raw.' + x + '.isNull().cast(\"int\").alias(\"' + x + '\")') for x in data_raw.columns]).show(n=10)"
      ],
      "execution_count": 27,
      "outputs": [
        {
          "output_type": "stream",
          "name": "stdout",
          "text": [
            "-------------------------\n",
            "0: is not NULL\n",
            "1: is NULL\n",
            "-------------------------\n",
            "                         \n",
            "+-----------+--------+------+----+---+---+-----+-----+------+----+-----+--------+\n",
            "|PassengerId|Survived|Pclass|Name|Sex|Age|SibSp|Parch|Ticket|Fare|Cabin|Embarked|\n",
            "+-----------+--------+------+----+---+---+-----+-----+------+----+-----+--------+\n",
            "|          0|       0|     0|   0|  0|  0|    0|    0|     0|   0|    1|       0|\n",
            "|          0|       0|     0|   0|  0|  0|    0|    0|     0|   0|    0|       0|\n",
            "|          0|       0|     0|   0|  0|  0|    0|    0|     0|   0|    1|       0|\n",
            "|          0|       0|     0|   0|  0|  0|    0|    0|     0|   0|    0|       0|\n",
            "|          0|       0|     0|   0|  0|  0|    0|    0|     0|   0|    1|       0|\n",
            "|          0|       0|     0|   0|  0|  1|    0|    0|     0|   0|    1|       0|\n",
            "|          0|       0|     0|   0|  0|  0|    0|    0|     0|   0|    0|       0|\n",
            "|          0|       0|     0|   0|  0|  0|    0|    0|     0|   0|    1|       0|\n",
            "|          0|       0|     0|   0|  0|  0|    0|    0|     0|   0|    1|       0|\n",
            "|          0|       0|     0|   0|  0|  0|    0|    0|     0|   0|    1|       0|\n",
            "+-----------+--------+------+----+---+---+-----+-----+------+----+-----+--------+\n",
            "only showing top 10 rows\n",
            "\n"
          ]
        }
      ]
    },
    {
      "cell_type": "code",
      "metadata": {
        "colab": {
          "base_uri": "https://localhost:8080/",
          "height": 0
        },
        "id": "ScjPENYQXTYF",
        "outputId": "2afcdc23-4af2-406b-ed8b-db24af542ee0"
      },
      "source": [
        "print('Train columns with null values:')\n",
        "print('-'*25)\n",
        "data_raw.select([eval('data_raw.' + x + '.isNull().cast(\"int\").alias(\"' + x + '\")') for x in data_raw.columns]).\\\n",
        "    groupBy().sum().toPandas()"
      ],
      "execution_count": 28,
      "outputs": [
        {
          "output_type": "stream",
          "name": "stdout",
          "text": [
            "Train columns with null values:\n",
            "-------------------------\n"
          ]
        },
        {
          "output_type": "execute_result",
          "data": {
            "text/plain": [
              "   sum(PassengerId)  sum(Survived)  sum(Pclass)  sum(Name)  sum(Sex)  \\\n",
              "0                 0              0            0          0         0   \n",
              "\n",
              "   sum(Age)  sum(SibSp)  sum(Parch)  sum(Ticket)  sum(Fare)  sum(Cabin)  \\\n",
              "0       177           0           0            0          0         687   \n",
              "\n",
              "   sum(Embarked)  \n",
              "0              2  "
            ],
            "text/html": [
              "\n",
              "\n",
              "  <div id=\"df-3e8fd033-c240-44a0-becc-40b41df760dc\">\n",
              "    <div class=\"colab-df-container\">\n",
              "      <div>\n",
              "<style scoped>\n",
              "    .dataframe tbody tr th:only-of-type {\n",
              "        vertical-align: middle;\n",
              "    }\n",
              "\n",
              "    .dataframe tbody tr th {\n",
              "        vertical-align: top;\n",
              "    }\n",
              "\n",
              "    .dataframe thead th {\n",
              "        text-align: right;\n",
              "    }\n",
              "</style>\n",
              "<table border=\"1\" class=\"dataframe\">\n",
              "  <thead>\n",
              "    <tr style=\"text-align: right;\">\n",
              "      <th></th>\n",
              "      <th>sum(PassengerId)</th>\n",
              "      <th>sum(Survived)</th>\n",
              "      <th>sum(Pclass)</th>\n",
              "      <th>sum(Name)</th>\n",
              "      <th>sum(Sex)</th>\n",
              "      <th>sum(Age)</th>\n",
              "      <th>sum(SibSp)</th>\n",
              "      <th>sum(Parch)</th>\n",
              "      <th>sum(Ticket)</th>\n",
              "      <th>sum(Fare)</th>\n",
              "      <th>sum(Cabin)</th>\n",
              "      <th>sum(Embarked)</th>\n",
              "    </tr>\n",
              "  </thead>\n",
              "  <tbody>\n",
              "    <tr>\n",
              "      <th>0</th>\n",
              "      <td>0</td>\n",
              "      <td>0</td>\n",
              "      <td>0</td>\n",
              "      <td>0</td>\n",
              "      <td>0</td>\n",
              "      <td>177</td>\n",
              "      <td>0</td>\n",
              "      <td>0</td>\n",
              "      <td>0</td>\n",
              "      <td>0</td>\n",
              "      <td>687</td>\n",
              "      <td>2</td>\n",
              "    </tr>\n",
              "  </tbody>\n",
              "</table>\n",
              "</div>\n",
              "      <button class=\"colab-df-convert\" onclick=\"convertToInteractive('df-3e8fd033-c240-44a0-becc-40b41df760dc')\"\n",
              "              title=\"Convert this dataframe to an interactive table.\"\n",
              "              style=\"display:none;\">\n",
              "\n",
              "  <svg xmlns=\"http://www.w3.org/2000/svg\" height=\"24px\"viewBox=\"0 0 24 24\"\n",
              "       width=\"24px\">\n",
              "    <path d=\"M0 0h24v24H0V0z\" fill=\"none\"/>\n",
              "    <path d=\"M18.56 5.44l.94 2.06.94-2.06 2.06-.94-2.06-.94-.94-2.06-.94 2.06-2.06.94zm-11 1L8.5 8.5l.94-2.06 2.06-.94-2.06-.94L8.5 2.5l-.94 2.06-2.06.94zm10 10l.94 2.06.94-2.06 2.06-.94-2.06-.94-.94-2.06-.94 2.06-2.06.94z\"/><path d=\"M17.41 7.96l-1.37-1.37c-.4-.4-.92-.59-1.43-.59-.52 0-1.04.2-1.43.59L10.3 9.45l-7.72 7.72c-.78.78-.78 2.05 0 2.83L4 21.41c.39.39.9.59 1.41.59.51 0 1.02-.2 1.41-.59l7.78-7.78 2.81-2.81c.8-.78.8-2.07 0-2.86zM5.41 20L4 18.59l7.72-7.72 1.47 1.35L5.41 20z\"/>\n",
              "  </svg>\n",
              "      </button>\n",
              "\n",
              "\n",
              "\n",
              "    <div id=\"df-217d710a-528b-4019-b390-51b6ab108763\">\n",
              "      <button class=\"colab-df-quickchart\" onclick=\"quickchart('df-217d710a-528b-4019-b390-51b6ab108763')\"\n",
              "              title=\"Suggest charts.\"\n",
              "              style=\"display:none;\">\n",
              "\n",
              "<svg xmlns=\"http://www.w3.org/2000/svg\" height=\"24px\"viewBox=\"0 0 24 24\"\n",
              "     width=\"24px\">\n",
              "    <g>\n",
              "        <path d=\"M19 3H5c-1.1 0-2 .9-2 2v14c0 1.1.9 2 2 2h14c1.1 0 2-.9 2-2V5c0-1.1-.9-2-2-2zM9 17H7v-7h2v7zm4 0h-2V7h2v10zm4 0h-2v-4h2v4z\"/>\n",
              "    </g>\n",
              "</svg>\n",
              "      </button>\n",
              "    </div>\n",
              "\n",
              "<style>\n",
              "  .colab-df-quickchart {\n",
              "    background-color: #E8F0FE;\n",
              "    border: none;\n",
              "    border-radius: 50%;\n",
              "    cursor: pointer;\n",
              "    display: none;\n",
              "    fill: #1967D2;\n",
              "    height: 32px;\n",
              "    padding: 0 0 0 0;\n",
              "    width: 32px;\n",
              "  }\n",
              "\n",
              "  .colab-df-quickchart:hover {\n",
              "    background-color: #E2EBFA;\n",
              "    box-shadow: 0px 1px 2px rgba(60, 64, 67, 0.3), 0px 1px 3px 1px rgba(60, 64, 67, 0.15);\n",
              "    fill: #174EA6;\n",
              "  }\n",
              "\n",
              "  [theme=dark] .colab-df-quickchart {\n",
              "    background-color: #3B4455;\n",
              "    fill: #D2E3FC;\n",
              "  }\n",
              "\n",
              "  [theme=dark] .colab-df-quickchart:hover {\n",
              "    background-color: #434B5C;\n",
              "    box-shadow: 0px 1px 3px 1px rgba(0, 0, 0, 0.15);\n",
              "    filter: drop-shadow(0px 1px 2px rgba(0, 0, 0, 0.3));\n",
              "    fill: #FFFFFF;\n",
              "  }\n",
              "</style>\n",
              "\n",
              "    <script>\n",
              "      async function quickchart(key) {\n",
              "        const containerElement = document.querySelector('#' + key);\n",
              "        const charts = await google.colab.kernel.invokeFunction(\n",
              "            'suggestCharts', [key], {});\n",
              "      }\n",
              "    </script>\n",
              "\n",
              "      <script>\n",
              "\n",
              "function displayQuickchartButton(domScope) {\n",
              "  let quickchartButtonEl =\n",
              "    domScope.querySelector('#df-217d710a-528b-4019-b390-51b6ab108763 button.colab-df-quickchart');\n",
              "  quickchartButtonEl.style.display =\n",
              "    google.colab.kernel.accessAllowed ? 'block' : 'none';\n",
              "}\n",
              "\n",
              "        displayQuickchartButton(document);\n",
              "      </script>\n",
              "      <style>\n",
              "    .colab-df-container {\n",
              "      display:flex;\n",
              "      flex-wrap:wrap;\n",
              "      gap: 12px;\n",
              "    }\n",
              "\n",
              "    .colab-df-convert {\n",
              "      background-color: #E8F0FE;\n",
              "      border: none;\n",
              "      border-radius: 50%;\n",
              "      cursor: pointer;\n",
              "      display: none;\n",
              "      fill: #1967D2;\n",
              "      height: 32px;\n",
              "      padding: 0 0 0 0;\n",
              "      width: 32px;\n",
              "    }\n",
              "\n",
              "    .colab-df-convert:hover {\n",
              "      background-color: #E2EBFA;\n",
              "      box-shadow: 0px 1px 2px rgba(60, 64, 67, 0.3), 0px 1px 3px 1px rgba(60, 64, 67, 0.15);\n",
              "      fill: #174EA6;\n",
              "    }\n",
              "\n",
              "    [theme=dark] .colab-df-convert {\n",
              "      background-color: #3B4455;\n",
              "      fill: #D2E3FC;\n",
              "    }\n",
              "\n",
              "    [theme=dark] .colab-df-convert:hover {\n",
              "      background-color: #434B5C;\n",
              "      box-shadow: 0px 1px 3px 1px rgba(0, 0, 0, 0.15);\n",
              "      filter: drop-shadow(0px 1px 2px rgba(0, 0, 0, 0.3));\n",
              "      fill: #FFFFFF;\n",
              "    }\n",
              "  </style>\n",
              "\n",
              "      <script>\n",
              "        const buttonEl =\n",
              "          document.querySelector('#df-3e8fd033-c240-44a0-becc-40b41df760dc button.colab-df-convert');\n",
              "        buttonEl.style.display =\n",
              "          google.colab.kernel.accessAllowed ? 'block' : 'none';\n",
              "\n",
              "        async function convertToInteractive(key) {\n",
              "          const element = document.querySelector('#df-3e8fd033-c240-44a0-becc-40b41df760dc');\n",
              "          const dataTable =\n",
              "            await google.colab.kernel.invokeFunction('convertToInteractive',\n",
              "                                                     [key], {});\n",
              "          if (!dataTable) return;\n",
              "\n",
              "          const docLinkHtml = 'Like what you see? Visit the ' +\n",
              "            '<a target=\"_blank\" href=https://colab.research.google.com/notebooks/data_table.ipynb>data table notebook</a>'\n",
              "            + ' to learn more about interactive tables.';\n",
              "          element.innerHTML = '';\n",
              "          dataTable['output_type'] = 'display_data';\n",
              "          await google.colab.output.renderOutput(dataTable, element);\n",
              "          const docLink = document.createElement('div');\n",
              "          docLink.innerHTML = docLinkHtml;\n",
              "          element.appendChild(docLink);\n",
              "        }\n",
              "      </script>\n",
              "    </div>\n",
              "  </div>\n"
            ]
          },
          "metadata": {},
          "execution_count": 28
        }
      ]
    },
    {
      "cell_type": "code",
      "metadata": {
        "colab": {
          "base_uri": "https://localhost:8080/",
          "height": 0
        },
        "id": "BFABlmdBXX_P",
        "outputId": "2c2dcfe0-a437-4bd2-a0b1-cf1e6df2b953"
      },
      "source": [
        "print('Test columns with null values:')\n",
        "print('-'*25)\n",
        "data_val.select([eval('data_val.' + x + '.isNull().cast(\"int\").alias(\"' + x + '\")') for x in data_val.columns]).\\\n",
        "    groupBy().sum().toPandas()"
      ],
      "execution_count": 29,
      "outputs": [
        {
          "output_type": "stream",
          "name": "stdout",
          "text": [
            "Test columns with null values:\n",
            "-------------------------\n"
          ]
        },
        {
          "output_type": "execute_result",
          "data": {
            "text/plain": [
              "   sum(PassengerId)  sum(Pclass)  sum(Name)  sum(Sex)  sum(Age)  sum(SibSp)  \\\n",
              "0                 0            0          0         0        86           0   \n",
              "\n",
              "   sum(Parch)  sum(Ticket)  sum(Fare)  sum(Cabin)  sum(Embarked)  \n",
              "0           0            0          1         327              0  "
            ],
            "text/html": [
              "\n",
              "\n",
              "  <div id=\"df-56ae34b5-6eb9-49dd-9b7f-1260cd4d7132\">\n",
              "    <div class=\"colab-df-container\">\n",
              "      <div>\n",
              "<style scoped>\n",
              "    .dataframe tbody tr th:only-of-type {\n",
              "        vertical-align: middle;\n",
              "    }\n",
              "\n",
              "    .dataframe tbody tr th {\n",
              "        vertical-align: top;\n",
              "    }\n",
              "\n",
              "    .dataframe thead th {\n",
              "        text-align: right;\n",
              "    }\n",
              "</style>\n",
              "<table border=\"1\" class=\"dataframe\">\n",
              "  <thead>\n",
              "    <tr style=\"text-align: right;\">\n",
              "      <th></th>\n",
              "      <th>sum(PassengerId)</th>\n",
              "      <th>sum(Pclass)</th>\n",
              "      <th>sum(Name)</th>\n",
              "      <th>sum(Sex)</th>\n",
              "      <th>sum(Age)</th>\n",
              "      <th>sum(SibSp)</th>\n",
              "      <th>sum(Parch)</th>\n",
              "      <th>sum(Ticket)</th>\n",
              "      <th>sum(Fare)</th>\n",
              "      <th>sum(Cabin)</th>\n",
              "      <th>sum(Embarked)</th>\n",
              "    </tr>\n",
              "  </thead>\n",
              "  <tbody>\n",
              "    <tr>\n",
              "      <th>0</th>\n",
              "      <td>0</td>\n",
              "      <td>0</td>\n",
              "      <td>0</td>\n",
              "      <td>0</td>\n",
              "      <td>86</td>\n",
              "      <td>0</td>\n",
              "      <td>0</td>\n",
              "      <td>0</td>\n",
              "      <td>1</td>\n",
              "      <td>327</td>\n",
              "      <td>0</td>\n",
              "    </tr>\n",
              "  </tbody>\n",
              "</table>\n",
              "</div>\n",
              "      <button class=\"colab-df-convert\" onclick=\"convertToInteractive('df-56ae34b5-6eb9-49dd-9b7f-1260cd4d7132')\"\n",
              "              title=\"Convert this dataframe to an interactive table.\"\n",
              "              style=\"display:none;\">\n",
              "\n",
              "  <svg xmlns=\"http://www.w3.org/2000/svg\" height=\"24px\"viewBox=\"0 0 24 24\"\n",
              "       width=\"24px\">\n",
              "    <path d=\"M0 0h24v24H0V0z\" fill=\"none\"/>\n",
              "    <path d=\"M18.56 5.44l.94 2.06.94-2.06 2.06-.94-2.06-.94-.94-2.06-.94 2.06-2.06.94zm-11 1L8.5 8.5l.94-2.06 2.06-.94-2.06-.94L8.5 2.5l-.94 2.06-2.06.94zm10 10l.94 2.06.94-2.06 2.06-.94-2.06-.94-.94-2.06-.94 2.06-2.06.94z\"/><path d=\"M17.41 7.96l-1.37-1.37c-.4-.4-.92-.59-1.43-.59-.52 0-1.04.2-1.43.59L10.3 9.45l-7.72 7.72c-.78.78-.78 2.05 0 2.83L4 21.41c.39.39.9.59 1.41.59.51 0 1.02-.2 1.41-.59l7.78-7.78 2.81-2.81c.8-.78.8-2.07 0-2.86zM5.41 20L4 18.59l7.72-7.72 1.47 1.35L5.41 20z\"/>\n",
              "  </svg>\n",
              "      </button>\n",
              "\n",
              "\n",
              "\n",
              "    <div id=\"df-05ab6513-c70b-497d-9573-957b613732c9\">\n",
              "      <button class=\"colab-df-quickchart\" onclick=\"quickchart('df-05ab6513-c70b-497d-9573-957b613732c9')\"\n",
              "              title=\"Suggest charts.\"\n",
              "              style=\"display:none;\">\n",
              "\n",
              "<svg xmlns=\"http://www.w3.org/2000/svg\" height=\"24px\"viewBox=\"0 0 24 24\"\n",
              "     width=\"24px\">\n",
              "    <g>\n",
              "        <path d=\"M19 3H5c-1.1 0-2 .9-2 2v14c0 1.1.9 2 2 2h14c1.1 0 2-.9 2-2V5c0-1.1-.9-2-2-2zM9 17H7v-7h2v7zm4 0h-2V7h2v10zm4 0h-2v-4h2v4z\"/>\n",
              "    </g>\n",
              "</svg>\n",
              "      </button>\n",
              "    </div>\n",
              "\n",
              "<style>\n",
              "  .colab-df-quickchart {\n",
              "    background-color: #E8F0FE;\n",
              "    border: none;\n",
              "    border-radius: 50%;\n",
              "    cursor: pointer;\n",
              "    display: none;\n",
              "    fill: #1967D2;\n",
              "    height: 32px;\n",
              "    padding: 0 0 0 0;\n",
              "    width: 32px;\n",
              "  }\n",
              "\n",
              "  .colab-df-quickchart:hover {\n",
              "    background-color: #E2EBFA;\n",
              "    box-shadow: 0px 1px 2px rgba(60, 64, 67, 0.3), 0px 1px 3px 1px rgba(60, 64, 67, 0.15);\n",
              "    fill: #174EA6;\n",
              "  }\n",
              "\n",
              "  [theme=dark] .colab-df-quickchart {\n",
              "    background-color: #3B4455;\n",
              "    fill: #D2E3FC;\n",
              "  }\n",
              "\n",
              "  [theme=dark] .colab-df-quickchart:hover {\n",
              "    background-color: #434B5C;\n",
              "    box-shadow: 0px 1px 3px 1px rgba(0, 0, 0, 0.15);\n",
              "    filter: drop-shadow(0px 1px 2px rgba(0, 0, 0, 0.3));\n",
              "    fill: #FFFFFF;\n",
              "  }\n",
              "</style>\n",
              "\n",
              "    <script>\n",
              "      async function quickchart(key) {\n",
              "        const containerElement = document.querySelector('#' + key);\n",
              "        const charts = await google.colab.kernel.invokeFunction(\n",
              "            'suggestCharts', [key], {});\n",
              "      }\n",
              "    </script>\n",
              "\n",
              "      <script>\n",
              "\n",
              "function displayQuickchartButton(domScope) {\n",
              "  let quickchartButtonEl =\n",
              "    domScope.querySelector('#df-05ab6513-c70b-497d-9573-957b613732c9 button.colab-df-quickchart');\n",
              "  quickchartButtonEl.style.display =\n",
              "    google.colab.kernel.accessAllowed ? 'block' : 'none';\n",
              "}\n",
              "\n",
              "        displayQuickchartButton(document);\n",
              "      </script>\n",
              "      <style>\n",
              "    .colab-df-container {\n",
              "      display:flex;\n",
              "      flex-wrap:wrap;\n",
              "      gap: 12px;\n",
              "    }\n",
              "\n",
              "    .colab-df-convert {\n",
              "      background-color: #E8F0FE;\n",
              "      border: none;\n",
              "      border-radius: 50%;\n",
              "      cursor: pointer;\n",
              "      display: none;\n",
              "      fill: #1967D2;\n",
              "      height: 32px;\n",
              "      padding: 0 0 0 0;\n",
              "      width: 32px;\n",
              "    }\n",
              "\n",
              "    .colab-df-convert:hover {\n",
              "      background-color: #E2EBFA;\n",
              "      box-shadow: 0px 1px 2px rgba(60, 64, 67, 0.3), 0px 1px 3px 1px rgba(60, 64, 67, 0.15);\n",
              "      fill: #174EA6;\n",
              "    }\n",
              "\n",
              "    [theme=dark] .colab-df-convert {\n",
              "      background-color: #3B4455;\n",
              "      fill: #D2E3FC;\n",
              "    }\n",
              "\n",
              "    [theme=dark] .colab-df-convert:hover {\n",
              "      background-color: #434B5C;\n",
              "      box-shadow: 0px 1px 3px 1px rgba(0, 0, 0, 0.15);\n",
              "      filter: drop-shadow(0px 1px 2px rgba(0, 0, 0, 0.3));\n",
              "      fill: #FFFFFF;\n",
              "    }\n",
              "  </style>\n",
              "\n",
              "      <script>\n",
              "        const buttonEl =\n",
              "          document.querySelector('#df-56ae34b5-6eb9-49dd-9b7f-1260cd4d7132 button.colab-df-convert');\n",
              "        buttonEl.style.display =\n",
              "          google.colab.kernel.accessAllowed ? 'block' : 'none';\n",
              "\n",
              "        async function convertToInteractive(key) {\n",
              "          const element = document.querySelector('#df-56ae34b5-6eb9-49dd-9b7f-1260cd4d7132');\n",
              "          const dataTable =\n",
              "            await google.colab.kernel.invokeFunction('convertToInteractive',\n",
              "                                                     [key], {});\n",
              "          if (!dataTable) return;\n",
              "\n",
              "          const docLinkHtml = 'Like what you see? Visit the ' +\n",
              "            '<a target=\"_blank\" href=https://colab.research.google.com/notebooks/data_table.ipynb>data table notebook</a>'\n",
              "            + ' to learn more about interactive tables.';\n",
              "          element.innerHTML = '';\n",
              "          dataTable['output_type'] = 'display_data';\n",
              "          await google.colab.output.renderOutput(dataTable, element);\n",
              "          const docLink = document.createElement('div');\n",
              "          docLink.innerHTML = docLinkHtml;\n",
              "          element.appendChild(docLink);\n",
              "        }\n",
              "      </script>\n",
              "    </div>\n",
              "  </div>\n"
            ]
          },
          "metadata": {},
          "execution_count": 29
        }
      ]
    },
    {
      "cell_type": "markdown",
      "metadata": {
        "id": "JzOHMrksXzKd"
      },
      "source": [
        "#### Above stuffs are normally things we need to prepare before jumping into any further steps of learning"
      ]
    },
    {
      "cell_type": "code",
      "metadata": {
        "id": "AnBA9SfeXaKw"
      },
      "source": [],
      "execution_count": 29,
      "outputs": []
    },
    {
      "cell_type": "markdown",
      "metadata": {
        "id": "dIUsqHYkX9XF"
      },
      "source": [
        "# Decision tree classification with pyspark"
      ]
    },
    {
      "cell_type": "code",
      "metadata": {
        "id": "ErfmKl2pX9kh"
      },
      "source": [
        "# from google.colab import files\n",
        "# files.upload()"
      ],
      "execution_count": null,
      "outputs": []
    },
    {
      "cell_type": "code",
      "metadata": {
        "colab": {
          "base_uri": "https://localhost:8080/"
        },
        "id": "HCHgbGzyYiBo",
        "outputId": "901e3abd-8ef3-459c-f6ed-52b68466577a"
      },
      "source": [
        "cuse = spark.read.csv('./data/cuse_binary.csv', header=True, inferSchema=True)\n",
        "cuse.show(5)"
      ],
      "execution_count": 30,
      "outputs": [
        {
          "output_type": "stream",
          "name": "stdout",
          "text": [
            "+---+---------+---------+---+\n",
            "|age|education|wantsMore|  y|\n",
            "+---+---------+---------+---+\n",
            "|<25|      low|      yes|  0|\n",
            "|<25|      low|      yes|  0|\n",
            "|<25|      low|      yes|  0|\n",
            "|<25|      low|      yes|  0|\n",
            "|<25|      low|      yes|  0|\n",
            "+---+---------+---------+---+\n",
            "only showing top 5 rows\n",
            "\n"
          ]
        }
      ]
    },
    {
      "cell_type": "markdown",
      "metadata": {
        "id": "NR3Gw7l0Ys4g"
      },
      "source": [
        "## Process categorical columns\n",
        "The following code does three things with pipeline:\n",
        "\n",
        "* **`StringIndexer`** all categorical columns\n",
        "* **`OneHotEncoder`** all categorical index columns\n",
        "* **`VectorAssembler`** all feature columns into one vector column"
      ]
    },
    {
      "cell_type": "code",
      "metadata": {
        "id": "ayuWXqM_YiE2",
        "outputId": "43330754-cd60-4a3b-eb98-d9e8d94560b3",
        "colab": {
          "base_uri": "https://localhost:8080/"
        }
      },
      "source": [
        "from pyspark.ml.feature import StringIndexer, OneHotEncoder, VectorAssembler\n",
        "from pyspark.ml import Pipeline\n",
        "\n",
        "# categorical columns\n",
        "categorical_columns = cuse.columns[0:3]\n",
        "categorical_columns"
      ],
      "execution_count": 31,
      "outputs": [
        {
          "output_type": "execute_result",
          "data": {
            "text/plain": [
              "['age', 'education', 'wantsMore']"
            ]
          },
          "metadata": {},
          "execution_count": 31
        }
      ]
    },
    {
      "cell_type": "markdown",
      "metadata": {
        "id": "RnbNfXi0YwfP"
      },
      "source": [
        "#### Build StringIndexer stages"
      ]
    },
    {
      "cell_type": "code",
      "metadata": {
        "id": "Ulw7-xYGYiHJ",
        "outputId": "df63e560-d6db-4daa-e9e0-6fe1dff0aa02",
        "colab": {
          "base_uri": "https://localhost:8080/"
        }
      },
      "source": [
        "stringindexer_stages = [StringIndexer(inputCol=c, outputCol='strindexed_' + c) for c in categorical_columns]\n",
        "# encode label column and add it to stringindexer_stages\n",
        "stringindexer_stages += [StringIndexer(inputCol='y', outputCol='label')]\n",
        "stringindexer_stages"
      ],
      "execution_count": 32,
      "outputs": [
        {
          "output_type": "execute_result",
          "data": {
            "text/plain": [
              "[StringIndexer_a345fab4ae57,\n",
              " StringIndexer_dccf599c4c95,\n",
              " StringIndexer_e3ac9fa511dd,\n",
              " StringIndexer_48c84605f24c]"
            ]
          },
          "metadata": {},
          "execution_count": 32
        }
      ]
    },
    {
      "cell_type": "markdown",
      "metadata": {
        "id": "MOYgkudiY3DT"
      },
      "source": [
        "#### Build OneHotEncoder stages"
      ]
    },
    {
      "cell_type": "code",
      "metadata": {
        "id": "DfzDVTnUYiKx"
      },
      "source": [
        "onehotencoder_stages = [OneHotEncoder(inputCol='strindexed_' + c, outputCol='onehot_' + c) for c in categorical_columns]"
      ],
      "execution_count": 33,
      "outputs": []
    },
    {
      "cell_type": "markdown",
      "metadata": {
        "id": "cN1PBDW6Y8l2"
      },
      "source": [
        "#### Build VectorAssembler stage"
      ]
    },
    {
      "cell_type": "code",
      "metadata": {
        "id": "iIDOKCBBY5J3"
      },
      "source": [
        "feature_columns = ['onehot_' + c for c in categorical_columns]\n",
        "vectorassembler_stage = VectorAssembler(inputCols=feature_columns, outputCol='features')"
      ],
      "execution_count": 34,
      "outputs": []
    },
    {
      "cell_type": "markdown",
      "metadata": {
        "id": "eucKQVhVZAcd"
      },
      "source": [
        "#### Build pipeline model"
      ]
    },
    {
      "cell_type": "code",
      "metadata": {
        "id": "G50QSvs2Y9pX",
        "outputId": "be388e42-b388-45bf-c662-c57ef0b76cc4",
        "colab": {
          "base_uri": "https://localhost:8080/"
        }
      },
      "source": [
        "# all stages\n",
        "all_stages = stringindexer_stages + onehotencoder_stages + [vectorassembler_stage]\n",
        "pipeline = Pipeline(stages=all_stages)\n",
        "pipeline"
      ],
      "execution_count": 35,
      "outputs": [
        {
          "output_type": "execute_result",
          "data": {
            "text/plain": [
              "Pipeline_ba01b3015940"
            ]
          },
          "metadata": {},
          "execution_count": 35
        }
      ]
    },
    {
      "cell_type": "markdown",
      "metadata": {
        "id": "QToVjUU-ZGJL"
      },
      "source": [
        "#### Fit pipeline model"
      ]
    },
    {
      "cell_type": "code",
      "metadata": {
        "id": "uPWzSke8Y9sk"
      },
      "source": [
        "pipeline_model = pipeline.fit(cuse)"
      ],
      "execution_count": 36,
      "outputs": []
    },
    {
      "cell_type": "markdown",
      "metadata": {
        "id": "dlzur907ZN7c"
      },
      "source": [
        "#### Transform data"
      ]
    },
    {
      "cell_type": "code",
      "metadata": {
        "colab": {
          "base_uri": "https://localhost:8080/"
        },
        "id": "fH5Pzh-hY9up",
        "outputId": "24ea075b-42b5-42ce-bf9b-6ac82bad4579"
      },
      "source": [
        "final_columns = feature_columns + ['features', 'label']\n",
        "cuse_df = pipeline_model.transform(cuse).\\\n",
        "            select(final_columns)\n",
        "\n",
        "cuse_df.show(5)"
      ],
      "execution_count": 37,
      "outputs": [
        {
          "output_type": "stream",
          "name": "stdout",
          "text": [
            "+-------------+----------------+----------------+-------------------+-----+\n",
            "|   onehot_age|onehot_education|onehot_wantsMore|           features|label|\n",
            "+-------------+----------------+----------------+-------------------+-----+\n",
            "|(3,[2],[1.0])|       (1,[],[])|   (1,[0],[1.0])|(5,[2,4],[1.0,1.0])|  0.0|\n",
            "|(3,[2],[1.0])|       (1,[],[])|   (1,[0],[1.0])|(5,[2,4],[1.0,1.0])|  0.0|\n",
            "|(3,[2],[1.0])|       (1,[],[])|   (1,[0],[1.0])|(5,[2,4],[1.0,1.0])|  0.0|\n",
            "|(3,[2],[1.0])|       (1,[],[])|   (1,[0],[1.0])|(5,[2,4],[1.0,1.0])|  0.0|\n",
            "|(3,[2],[1.0])|       (1,[],[])|   (1,[0],[1.0])|(5,[2,4],[1.0,1.0])|  0.0|\n",
            "+-------------+----------------+----------------+-------------------+-----+\n",
            "only showing top 5 rows\n",
            "\n"
          ]
        }
      ]
    },
    {
      "cell_type": "markdown",
      "metadata": {
        "id": "GvTZ8k9lZSsb"
      },
      "source": [
        "### Split data into training and test datasets"
      ]
    },
    {
      "cell_type": "code",
      "metadata": {
        "id": "B6UcesY1Y9yY"
      },
      "source": [
        "training, test = cuse_df.randomSplit([0.8, 0.2], seed=1234)"
      ],
      "execution_count": 38,
      "outputs": []
    },
    {
      "cell_type": "markdown",
      "metadata": {
        "id": "Do764wbiZZZg"
      },
      "source": [
        "### Build cross-validation model"
      ]
    },
    {
      "cell_type": "markdown",
      "metadata": {
        "id": "JqzxotmiZcts"
      },
      "source": [
        "#### Estimator"
      ]
    },
    {
      "cell_type": "code",
      "metadata": {
        "id": "7YAHj3W9ZTkI"
      },
      "source": [
        "from pyspark.ml.regression import GeneralizedLinearRegression\n",
        "from pyspark.ml.classification import LogisticRegression, DecisionTreeClassifier\n",
        "\n",
        "dt = DecisionTreeClassifier(featuresCol='features', labelCol='label')"
      ],
      "execution_count": 39,
      "outputs": []
    },
    {
      "cell_type": "markdown",
      "metadata": {
        "id": "0B8UtQqRZisp"
      },
      "source": [
        "#### Parameter grid"
      ]
    },
    {
      "cell_type": "code",
      "metadata": {
        "id": "U3l6QHIzZTm_"
      },
      "source": [
        "from pyspark.ml.tuning import ParamGridBuilder\n",
        "param_grid = ParamGridBuilder().\\\n",
        "    addGrid(dt.maxDepth, [2,3,4,5]).\\\n",
        "    build()"
      ],
      "execution_count": 40,
      "outputs": []
    },
    {
      "cell_type": "markdown",
      "metadata": {
        "id": "f0xZAGgZZnMx"
      },
      "source": [
        "#### Evaluator"
      ]
    },
    {
      "cell_type": "code",
      "metadata": {
        "id": "JX-GpXRyZTpk"
      },
      "source": [
        "from pyspark.ml.evaluation import BinaryClassificationEvaluator\n",
        "evaluator = BinaryClassificationEvaluator(rawPredictionCol=\"rawPrediction\", metricName=\"areaUnderROC\")"
      ],
      "execution_count": 41,
      "outputs": []
    },
    {
      "cell_type": "markdown",
      "metadata": {
        "id": "hPM-eq0NZs3r"
      },
      "source": [
        "#### Build cross-validation model"
      ]
    },
    {
      "cell_type": "code",
      "metadata": {
        "id": "Rm4PX3oiZtFl"
      },
      "source": [
        "from pyspark.ml.tuning import CrossValidator\n",
        "cv = CrossValidator(estimator=dt, estimatorParamMaps=param_grid, evaluator=evaluator, numFolds=4)"
      ],
      "execution_count": 42,
      "outputs": []
    },
    {
      "cell_type": "markdown",
      "metadata": {
        "id": "fdQPw5pxZ0Kj"
      },
      "source": [
        "#### Fit cross-validation mode"
      ]
    },
    {
      "cell_type": "code",
      "metadata": {
        "id": "ejKnjg3TZtIv"
      },
      "source": [
        "cv_model = cv.fit(cuse_df)"
      ],
      "execution_count": 43,
      "outputs": []
    },
    {
      "cell_type": "markdown",
      "metadata": {
        "id": "FlgLVWOSZ6Ba"
      },
      "source": [
        "#### Prediction"
      ]
    },
    {
      "cell_type": "code",
      "metadata": {
        "id": "eZi6OTqEZtLG"
      },
      "source": [
        "show_columns = ['features', 'label', 'prediction', 'rawPrediction', 'probability']"
      ],
      "execution_count": 44,
      "outputs": []
    },
    {
      "cell_type": "markdown",
      "metadata": {
        "id": "bJ49L6P2Z9jn"
      },
      "source": [
        "##### Prediction on training data"
      ]
    },
    {
      "cell_type": "code",
      "metadata": {
        "colab": {
          "base_uri": "https://localhost:8080/"
        },
        "id": "rHVgpa1_ZtOC",
        "outputId": "4363f2ea-a2c2-4dd0-f131-a63a6f2593f8"
      },
      "source": [
        "pred_training_cv = cv_model.transform(training)\n",
        "pred_training_cv.select(show_columns).show(5, truncate=False)"
      ],
      "execution_count": 45,
      "outputs": [
        {
          "output_type": "stream",
          "name": "stdout",
          "text": [
            "+---------+-----+----------+-------------+----------------------------------------+\n",
            "|features |label|prediction|rawPrediction|probability                             |\n",
            "+---------+-----+----------+-------------+----------------------------------------+\n",
            "|(5,[],[])|0.0  |1.0       |[203.0,237.0]|[0.46136363636363636,0.5386363636363637]|\n",
            "|(5,[],[])|0.0  |1.0       |[203.0,237.0]|[0.46136363636363636,0.5386363636363637]|\n",
            "|(5,[],[])|0.0  |1.0       |[203.0,237.0]|[0.46136363636363636,0.5386363636363637]|\n",
            "|(5,[],[])|0.0  |1.0       |[203.0,237.0]|[0.46136363636363636,0.5386363636363637]|\n",
            "|(5,[],[])|0.0  |1.0       |[203.0,237.0]|[0.46136363636363636,0.5386363636363637]|\n",
            "+---------+-----+----------+-------------+----------------------------------------+\n",
            "only showing top 5 rows\n",
            "\n"
          ]
        }
      ]
    },
    {
      "cell_type": "markdown",
      "metadata": {
        "id": "PqWBcFOjaHOu"
      },
      "source": [
        "##### Prediction on test data"
      ]
    },
    {
      "cell_type": "code",
      "metadata": {
        "colab": {
          "base_uri": "https://localhost:8080/"
        },
        "id": "7qLxBWcYZtQK",
        "outputId": "e93ca0a1-1596-4666-effa-2e0e91f81623"
      },
      "source": [
        "pred_test_cv = cv_model.transform(test)\n",
        "pred_test_cv.select(show_columns).show(5, truncate=False)"
      ],
      "execution_count": 46,
      "outputs": [
        {
          "output_type": "stream",
          "name": "stdout",
          "text": [
            "+---------+-----+----------+-------------+----------------------------------------+\n",
            "|features |label|prediction|rawPrediction|probability                             |\n",
            "+---------+-----+----------+-------------+----------------------------------------+\n",
            "|(5,[],[])|0.0  |1.0       |[203.0,237.0]|[0.46136363636363636,0.5386363636363637]|\n",
            "|(5,[],[])|0.0  |1.0       |[203.0,237.0]|[0.46136363636363636,0.5386363636363637]|\n",
            "|(5,[],[])|0.0  |1.0       |[203.0,237.0]|[0.46136363636363636,0.5386363636363637]|\n",
            "|(5,[],[])|0.0  |1.0       |[203.0,237.0]|[0.46136363636363636,0.5386363636363637]|\n",
            "|(5,[],[])|0.0  |1.0       |[203.0,237.0]|[0.46136363636363636,0.5386363636363637]|\n",
            "+---------+-----+----------+-------------+----------------------------------------+\n",
            "only showing top 5 rows\n",
            "\n"
          ]
        }
      ]
    },
    {
      "cell_type": "markdown",
      "metadata": {
        "id": "ntd6wMYaaKjg"
      },
      "source": [
        "### Confusion matrix\n",
        "\n",
        "Pyspark doesn’t have a function to calculate the confusion matrix automatically, but we can still easily get a confusion matrix with a combination use of several methods from the RDD class."
      ]
    },
    {
      "cell_type": "code",
      "metadata": {
        "colab": {
          "base_uri": "https://localhost:8080/"
        },
        "id": "KKw3Nv9GZsBZ",
        "outputId": "203675f9-8b07-4aeb-a105-428a1546e2a2"
      },
      "source": [
        "label_and_pred = cv_model.transform(cuse_df).select('label', 'prediction')\n",
        "label_and_pred.rdd.zipWithIndex().countByKey()"
      ],
      "execution_count": 47,
      "outputs": [
        {
          "output_type": "execute_result",
          "data": {
            "text/plain": [
              "defaultdict(int,\n",
              "            {Row(label=0.0, prediction=0.0): 897,\n",
              "             Row(label=0.0, prediction=1.0): 203,\n",
              "             Row(label=1.0, prediction=0.0): 270,\n",
              "             Row(label=1.0, prediction=1.0): 237})"
            ]
          },
          "metadata": {},
          "execution_count": 47
        }
      ]
    },
    {
      "cell_type": "markdown",
      "metadata": {
        "id": "dMAPzfByaR4f"
      },
      "source": [
        "### Parameters from the best model"
      ]
    },
    {
      "cell_type": "code",
      "metadata": {
        "colab": {
          "base_uri": "https://localhost:8080/"
        },
        "id": "bQaI6PMuaNb4",
        "outputId": "82d6d4d9-a669-4ba8-8be2-0db24a6c5115"
      },
      "source": [
        "print('The best MaxDepth is:', cv_model.bestModel._java_obj.getMaxDepth())"
      ],
      "execution_count": 48,
      "outputs": [
        {
          "output_type": "stream",
          "name": "stdout",
          "text": [
            "The best MaxDepth is: 3\n"
          ]
        }
      ]
    },
    {
      "cell_type": "code",
      "metadata": {
        "id": "dxl65JSpaNel"
      },
      "source": [],
      "execution_count": 48,
      "outputs": []
    },
    {
      "cell_type": "code",
      "metadata": {
        "id": "I9iyD-2zaNhk"
      },
      "source": [],
      "execution_count": 48,
      "outputs": []
    },
    {
      "cell_type": "markdown",
      "metadata": {
        "id": "HF-EpN0wardW"
      },
      "source": [
        "# Gradient boost tree classification"
      ]
    },
    {
      "cell_type": "code",
      "metadata": {
        "id": "VjT393s9aNkf"
      },
      "source": [
        "from pyspark.ml.classification import GBTClassifier\n",
        "from pyspark.ml.tuning import ParamGridBuilder\n",
        "from pyspark.ml.evaluation import BinaryClassificationEvaluator\n",
        "\n",
        "gbt = GBTClassifier(featuresCol='features', labelCol='label')\n",
        "\n",
        "param_grid = ParamGridBuilder().\\\n",
        "    addGrid(gbt.maxDepth, [2, 3, 4]).\\\n",
        "    addGrid(gbt.minInfoGain, [0.0, 0.1, 0.2, 0.3]).\\\n",
        "    addGrid(gbt.stepSize, [0.05, 0.1, 0.2, 0.4]).\\\n",
        "    build()\n",
        "\n",
        "evaluator = BinaryClassificationEvaluator(rawPredictionCol='prediction')"
      ],
      "execution_count": 58,
      "outputs": []
    },
    {
      "cell_type": "code",
      "metadata": {
        "id": "1y9cRH6NaNm1"
      },
      "source": [
        "from pyspark.ml.tuning import CrossValidator\n",
        "\n",
        "crossvalidation = CrossValidator(estimator=gbt, estimatorParamMaps=param_grid, evaluator=evaluator)"
      ],
      "execution_count": 59,
      "outputs": []
    },
    {
      "cell_type": "code",
      "metadata": {
        "id": "UvmMv0bMbHXv"
      },
      "source": [
        "crossvalidation_mod = crossvalidation.fit(cuse_df)"
      ],
      "execution_count": 60,
      "outputs": []
    },
    {
      "cell_type": "code",
      "metadata": {
        "colab": {
          "base_uri": "https://localhost:8080/"
        },
        "id": "KFVzeHXYbJuJ",
        "outputId": "3750235b-3215-4cd1-969e-a14d9fac1033"
      },
      "source": [
        "# In train\n",
        "pred_train = crossvalidation_mod.transform(training)\n",
        "pred_train.show(5)"
      ],
      "execution_count": 61,
      "outputs": [
        {
          "output_type": "stream",
          "name": "stdout",
          "text": [
            "+----------+----------------+----------------+---------+-----+--------------------+--------------------+----------+\n",
            "|onehot_age|onehot_education|onehot_wantsMore| features|label|       rawPrediction|         probability|prediction|\n",
            "+----------+----------------+----------------+---------+-----+--------------------+--------------------+----------+\n",
            "| (3,[],[])|       (1,[],[])|       (1,[],[])|(5,[],[])|  0.0|[-0.0599765765084...|[0.47004761793628...|       1.0|\n",
            "| (3,[],[])|       (1,[],[])|       (1,[],[])|(5,[],[])|  0.0|[-0.0599765765084...|[0.47004761793628...|       1.0|\n",
            "| (3,[],[])|       (1,[],[])|       (1,[],[])|(5,[],[])|  0.0|[-0.0599765765084...|[0.47004761793628...|       1.0|\n",
            "| (3,[],[])|       (1,[],[])|       (1,[],[])|(5,[],[])|  0.0|[-0.0599765765084...|[0.47004761793628...|       1.0|\n",
            "| (3,[],[])|       (1,[],[])|       (1,[],[])|(5,[],[])|  0.0|[-0.0599765765084...|[0.47004761793628...|       1.0|\n",
            "+----------+----------------+----------------+---------+-----+--------------------+--------------------+----------+\n",
            "only showing top 5 rows\n",
            "\n"
          ]
        }
      ]
    },
    {
      "cell_type": "code",
      "metadata": {
        "colab": {
          "base_uri": "https://localhost:8080/"
        },
        "id": "fIREjaOtbMzh",
        "outputId": "fe75f3fd-a739-4218-afdd-b89b5e7d5839"
      },
      "source": [
        "# In test\n",
        "pred_test = crossvalidation_mod.transform(test)\n",
        "pred_test.show(5)"
      ],
      "execution_count": 62,
      "outputs": [
        {
          "output_type": "stream",
          "name": "stdout",
          "text": [
            "+----------+----------------+----------------+---------+-----+--------------------+--------------------+----------+\n",
            "|onehot_age|onehot_education|onehot_wantsMore| features|label|       rawPrediction|         probability|prediction|\n",
            "+----------+----------------+----------------+---------+-----+--------------------+--------------------+----------+\n",
            "| (3,[],[])|       (1,[],[])|       (1,[],[])|(5,[],[])|  0.0|[-0.0599765765084...|[0.47004761793628...|       1.0|\n",
            "| (3,[],[])|       (1,[],[])|       (1,[],[])|(5,[],[])|  0.0|[-0.0599765765084...|[0.47004761793628...|       1.0|\n",
            "| (3,[],[])|       (1,[],[])|       (1,[],[])|(5,[],[])|  0.0|[-0.0599765765084...|[0.47004761793628...|       1.0|\n",
            "| (3,[],[])|       (1,[],[])|       (1,[],[])|(5,[],[])|  0.0|[-0.0599765765084...|[0.47004761793628...|       1.0|\n",
            "| (3,[],[])|       (1,[],[])|       (1,[],[])|(5,[],[])|  0.0|[-0.0599765765084...|[0.47004761793628...|       1.0|\n",
            "+----------+----------------+----------------+---------+-----+--------------------+--------------------+----------+\n",
            "only showing top 5 rows\n",
            "\n"
          ]
        }
      ]
    },
    {
      "cell_type": "code",
      "metadata": {
        "colab": {
          "base_uri": "https://localhost:8080/"
        },
        "id": "4h50OKVtbM2a",
        "outputId": "00ed0caa-ecea-4532-d504-edf485b128ef"
      },
      "source": [
        "# Performance\n",
        "print('Accuracy on training data (areaUnderROC): ', evaluator.setMetricName('areaUnderROC').evaluate(pred_train), \"\\n\"\n",
        "      'Accuracy on test data (areaUnderROC): ', evaluator.setMetricName('areaUnderROC').evaluate(pred_test))\n"
      ],
      "execution_count": 63,
      "outputs": [
        {
          "output_type": "stream",
          "name": "stdout",
          "text": [
            "Accuracy on training data (areaUnderROC):  0.632389174374786 \n",
            "Accuracy on test data (areaUnderROC):  0.6811111111111111\n"
          ]
        }
      ]
    },
    {
      "cell_type": "code",
      "metadata": {
        "colab": {
          "base_uri": "https://localhost:8080/"
        },
        "id": "nZdsbhS4bM5p",
        "outputId": "8a76f367-8bff-4162-f92e-7f97e62fb459"
      },
      "source": [
        "# Confusion matrix in train\n",
        "label_pred_train = pred_train.select('label', 'prediction')\n",
        "label_pred_train.rdd.zipWithIndex().countByKey()"
      ],
      "execution_count": 64,
      "outputs": [
        {
          "output_type": "execute_result",
          "data": {
            "text/plain": [
              "defaultdict(int,\n",
              "            {Row(label=0.0, prediction=1.0): 167,\n",
              "             Row(label=1.0, prediction=1.0): 190,\n",
              "             Row(label=0.0, prediction=0.0): 708,\n",
              "             Row(label=1.0, prediction=0.0): 227})"
            ]
          },
          "metadata": {},
          "execution_count": 64
        }
      ]
    },
    {
      "cell_type": "code",
      "metadata": {
        "colab": {
          "base_uri": "https://localhost:8080/"
        },
        "id": "5Lvag28Pbgvp",
        "outputId": "54108d69-6dda-49df-9156-b03355685078"
      },
      "source": [
        "# Confusion matrix in test\n",
        "label_pred_test = pred_test.select('label', 'prediction')\n",
        "label_pred_test.rdd.zipWithIndex().countByKey()"
      ],
      "execution_count": 65,
      "outputs": [
        {
          "output_type": "execute_result",
          "data": {
            "text/plain": [
              "defaultdict(int,\n",
              "            {Row(label=0.0, prediction=1.0): 36,\n",
              "             Row(label=1.0, prediction=1.0): 47,\n",
              "             Row(label=0.0, prediction=0.0): 189,\n",
              "             Row(label=1.0, prediction=0.0): 43})"
            ]
          },
          "metadata": {},
          "execution_count": 65
        }
      ]
    },
    {
      "cell_type": "code",
      "metadata": {
        "colab": {
          "base_uri": "https://localhost:8080/"
        },
        "id": "K6PkqZ1PbgzW",
        "outputId": "8dd12063-99a8-4351-f7c3-095b079d34c6"
      },
      "source": [
        "# Best model and params\n",
        "print('max depth: ', crossvalidation_mod.bestModel._java_obj.getMaxDepth(), \"\\n\",\n",
        "     'min information gain: ', crossvalidation_mod.bestModel._java_obj.getMinInfoGain(), \"\\n\",\n",
        "     'step size: ', crossvalidation_mod.bestModel._java_obj.getStepSize())"
      ],
      "execution_count": 66,
      "outputs": [
        {
          "output_type": "stream",
          "name": "stdout",
          "text": [
            "max depth:  3 \n",
            " min information gain:  0.0 \n",
            " step size:  0.05\n"
          ]
        }
      ]
    },
    {
      "cell_type": "code",
      "metadata": {
        "id": "Lpk7b9cHc7gJ"
      },
      "source": [],
      "execution_count": 66,
      "outputs": []
    },
    {
      "cell_type": "markdown",
      "metadata": {
        "id": "B-Qa1Vxddn1l"
      },
      "source": [
        "### The other approaches will be taken as exercises"
      ]
    },
    {
      "cell_type": "code",
      "metadata": {
        "id": "XrV4ouJiduG9"
      },
      "source": [],
      "execution_count": 66,
      "outputs": []
    }
  ]
}