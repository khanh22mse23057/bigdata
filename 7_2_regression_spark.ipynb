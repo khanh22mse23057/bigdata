{
  "nbformat": 4,
  "nbformat_minor": 0,
  "metadata": {
    "colab": {
      "provenance": [],
      "include_colab_link": true
    },
    "kernelspec": {
      "name": "python3",
      "display_name": "Python 3"
    },
    "language_info": {
      "name": "python"
    }
  },
  "cells": [
    {
      "cell_type": "markdown",
      "metadata": {
        "id": "view-in-github",
        "colab_type": "text"
      },
      "source": [
        "<a href=\"https://colab.research.google.com/github/khanh22mse23057/bigdata/blob/main/7_2_regression_spark.ipynb\" target=\"_parent\"><img src=\"https://colab.research.google.com/assets/colab-badge.svg\" alt=\"Open In Colab\"/></a>"
      ]
    },
    {
      "cell_type": "code",
      "metadata": {
        "id": "1f-uo6udeka0"
      },
      "source": [
        "!apt-get install openjdk-8-jdk-headless -qq > /dev/null\n",
        "!wget -q http://archive.apache.org/dist/spark/spark-3.1.1/spark-3.1.1-bin-hadoop3.2.tgz\n",
        "!tar xf spark-3.1.1-bin-hadoop3.2.tgz\n",
        "!pip install -q findspark\n",
        "import os\n",
        "os.environ[\"JAVA_HOME\"] = \"/usr/lib/jvm/java-8-openjdk-amd64\"\n",
        "os.environ[\"SPARK_HOME\"] = \"/content/spark-3.1.1-bin-hadoop3.2\"\n",
        "import findspark\n",
        "findspark.init()"
      ],
      "execution_count": 1,
      "outputs": []
    },
    {
      "cell_type": "code",
      "metadata": {
        "id": "32GC-x-Jeohv"
      },
      "source": [
        "from pyspark import SparkContext\n",
        "sc = SparkContext(master = 'local')\n",
        "\n",
        "from pyspark.sql import SparkSession\n",
        "spark = SparkSession.builder \\\n",
        "          .appName(\"Python Spark SQL basic example\") \\\n",
        "          .config(\"spark.some.config.option\", \"some-value\") \\\n",
        "          .getOrCreate()"
      ],
      "execution_count": 2,
      "outputs": []
    },
    {
      "cell_type": "markdown",
      "metadata": {
        "id": "SyJ69dq3e05y"
      },
      "source": [
        "# Linear regression without cross-valiation"
      ]
    },
    {
      "cell_type": "code",
      "metadata": {
        "colab": {
          "base_uri": "https://localhost:8080/"
        },
        "id": "hbaUAMX2e0Ol",
        "outputId": "49d24877-ed3d-4355-e0e7-a5fcb2366619"
      },
      "source": [
        "# from google.colab import files\n",
        "# files.upload()\n",
        "\n",
        "!wget https://github.com/khanh22mse23057/bigdata/raw/main/data.zip\n",
        "!unzip  ./data.zip -d ."
      ],
      "execution_count": 3,
      "outputs": [
        {
          "output_type": "stream",
          "name": "stdout",
          "text": [
            "--2023-07-21 16:00:39--  https://github.com/khanh22mse23057/bigdata/raw/main/data.zip\n",
            "Resolving github.com (github.com)... 140.82.121.3\n",
            "Connecting to github.com (github.com)|140.82.121.3|:443... connected.\n",
            "HTTP request sent, awaiting response... 302 Found\n",
            "Location: https://raw.githubusercontent.com/khanh22mse23057/bigdata/main/data.zip [following]\n",
            "--2023-07-21 16:00:39--  https://raw.githubusercontent.com/khanh22mse23057/bigdata/main/data.zip\n",
            "Resolving raw.githubusercontent.com (raw.githubusercontent.com)... 185.199.110.133, 185.199.109.133, 185.199.111.133, ...\n",
            "Connecting to raw.githubusercontent.com (raw.githubusercontent.com)|185.199.110.133|:443... connected.\n",
            "HTTP request sent, awaiting response... 200 OK\n",
            "Length: 19440255 (19M) [application/zip]\n",
            "Saving to: ‘data.zip’\n",
            "\n",
            "data.zip            100%[===================>]  18.54M   106MB/s    in 0.2s    \n",
            "\n",
            "2023-07-21 16:00:40 (106 MB/s) - ‘data.zip’ saved [19440255/19440255]\n",
            "\n",
            "Archive:  ./data.zip\n",
            "  inflating: ./data/mtcars.csv       \n",
            "  inflating: ./data/Advertising.csv  \n",
            "  inflating: ./data/iris.csv         \n",
            "  inflating: ./data/knnDataSet.csv   \n",
            "  inflating: ./data/prostate.csv     \n",
            "  inflating: ./data/userdata1.parquet  \n",
            "  inflating: ./data/kaggle-titanic-train.csv  \n",
            "  inflating: ./data/bank-full.csv    \n",
            "  inflating: ./data/BostonHousing.csv  \n",
            "  inflating: ./data/chinook.db       \n",
            "  inflating: ./data/sample4.json     \n",
            "  inflating: ./data/bill_authentication.csv  \n",
            "  inflating: ./data/mapper_stock.py  \n",
            "  inflating: ./data/kaggle-titanic-test.csv  \n",
            "  inflating: ./data/reducer_stock.py  \n",
            "  inflating: ./data/log_test.json    \n",
            "  inflating: ./data/kaggle.json      \n",
            "  inflating: ./data/cuse_binary.csv  \n",
            "  inflating: ./data/my_module.py     \n",
            "  inflating: ./data/store_data.csv   \n",
            "  inflating: ./data/data_ml/Advertising.csv  \n",
            "  inflating: ./data/data.csv         \n",
            "  inflating: ./data/shakespeare.txt  \n",
            "  inflating: ./data/reducer.py       \n",
            "  inflating: ./data/alice.txt        \n",
            "  inflating: ./data/stocks.txt       \n",
            "  inflating: ./data/twitter/1587090055.512643_b5e5bf18-e5bc-4c33-8275-7a1c930a0fd6.json  \n",
            "  inflating: ./data/twitter/1587090055.703854_a835fbbb-ec20-49ff-adc9-80ade6c72101.json  \n",
            "  inflating: ./data/twitter/1587090055.536333_b305c854-f4c7-46a8-9e3d-9a4d52791066.json  \n",
            "  inflating: ./data/cat.jpg          \n",
            "  inflating: ./data/twitter/1587090055.587119_72d721bb-2860-44b2-9a92-4cb60db545ac.json  \n",
            "  inflating: ./data/mapper.py        \n",
            "  inflating: ./data/twitter/1587090055.751396_2f09f743-6d00-406a-a9df-8b90f7230cce(1).json  \n",
            "  inflating: ./data/twitter/1587090055.666161_723ec028-1c2f-4b16-97b6-23912f7f6cec(1).json  \n",
            "  inflating: ./data/twitter/1587090055.751396_2f09f743-6d00-406a-a9df-8b90f7230cce.json  \n",
            "  inflating: ./data/twitter/1587090055.739221_cc93319c-cfeb-481f-9621-1e22966bc4d6.json  \n",
            "  inflating: ./data/twitter/1587090055.666161_723ec028-1c2f-4b16-97b6-23912f7f6cec.json  \n",
            "  inflating: ./data/twitter/1587090055.524501_a76434b8-bdb2-4bcd-8868-fc327381be3a.json  \n",
            "  inflating: ./data/loan_data.csv    \n",
            "  inflating: ./data/twitter/1587090055.582305_b0624e80-fd1d-4d6e-9dfd-a15821d5542c.json  \n",
            "  inflating: ./data/twitter/1587090055.557221_842b9e1e-94bf-401f-b6e4-9b3b89ebd1b1.json  \n",
            "  inflating: ./data/twitter/1587090055.540652_6a552623-9bb7-495b-a982-11fdd0c1e967.json  \n",
            "  inflating: ./data/twitter/1587090055.509244_0f4121e1-bb37-4be3-88e8-eae5a0b420c0.json  \n",
            "  inflating: ./data/data_ml/cuse_binary.csv  \n",
            "  inflating: ./data/twitter/1587090055.533738_cb171467-b38e-4ccc-8acf-9a8fbc6e2817(1).json  \n",
            "  inflating: ./data/cardataset.zip   \n",
            "  inflating: ./data/twitter/1587090055.528436_1773f288-94d2-4799-8d72-db0e845ae533.json  \n",
            "  inflating: ./data/twitter/1587090055.528436_1773f288-94d2-4799-8d72-db0e845ae533(1).json  \n",
            "  inflating: ./data/twitter/1587090055.734401_79c00414-dcc1-4e91-abf1-5522d20cffb3(1).json  \n",
            "  inflating: ./data/twitter/1587090055.505359_54b3a586-7dc9-4eef-8043-2a38fb29bd9c.json  \n",
            "  inflating: ./data/twitter/1587090055.642754_ca43b3f9-425f-4dd6-bcff-e63862619354.json  \n",
            "  inflating: ./data/twitter/1587090055.531104_b06c6c92-5e1c-4eb4-b76b-085856a10584(1).json  \n",
            "  inflating: ./data/twitter/1587090055.540652_6a552623-9bb7-495b-a982-11fdd0c1e967(1).json  \n",
            "  inflating: ./data/twitter/1587090055.755399_78a20798-7ab0-4734-b8dc-c6e3266b8dce.json  \n",
            "  inflating: ./data/twitter/1587090055.531104_b06c6c92-5e1c-4eb4-b76b-085856a10584.json  \n",
            "  inflating: ./data/twitter/1587090055.578034_f4002ef0-81a6-4f67-b1e0-b805710d1a11.json  \n",
            "  inflating: ./data/twitter/1587090055.533738_cb171467-b38e-4ccc-8acf-9a8fbc6e2817.json  \n",
            "  inflating: ./data/twitter/1587090055.734401_79c00414-dcc1-4e91-abf1-5522d20cffb3.json  \n",
            "  inflating: ./data/twitter/1587090055.498304_e9b2d923-684e-44a2-8813-83b45143b051.json  \n",
            "  inflating: ./data/twitter/1587090055.582305_b0624e80-fd1d-4d6e-9dfd-a15821d5542c(1).json  \n",
            "  inflating: ./data/twitter/1587090055.618967_47524e9b-a434-4cd4-b073-ce9ca8dd5a14.json  \n",
            "  inflating: ./data/twitter/1587090055.686096_8eeaf766-653a-48a2-8ca7-f5722d8d4344.json  \n",
            "  inflating: ./data/twitter/1587090055.516156_0e2ad17a-c6ef-46a7-837e-f2d9a5d123f6.json  \n",
            "  inflating: ./data/twitter/1587090055.661877_b87440a6-dbe6-428f-a3e4-f6dccfb3fa92.json  \n",
            "  inflating: ./data/pageviews_small.csv  \n"
          ]
        }
      ]
    },
    {
      "cell_type": "code",
      "source": [
        "!ls"
      ],
      "metadata": {
        "id": "3z74e80oLiuP",
        "outputId": "114b75cf-8349-40d5-9302-71a437dcc293",
        "colab": {
          "base_uri": "https://localhost:8080/"
        }
      },
      "execution_count": 5,
      "outputs": [
        {
          "output_type": "stream",
          "name": "stdout",
          "text": [
            "data\t  sample_data\t\t     spark-3.1.1-bin-hadoop3.2.tgz\n",
            "data.zip  spark-3.1.1-bin-hadoop3.2\n"
          ]
        }
      ]
    },
    {
      "cell_type": "code",
      "metadata": {
        "colab": {
          "base_uri": "https://localhost:8080/"
        },
        "id": "5f1sdMlCfT6b",
        "outputId": "80d743e4-4a9a-4a34-a108-d5cff884f18b"
      },
      "source": [
        "ad = spark.read.csv('./data/Advertising.csv', header=True, inferSchema=True)\n",
        "ad.show(5)"
      ],
      "execution_count": 6,
      "outputs": [
        {
          "output_type": "stream",
          "name": "stdout",
          "text": [
            "+---+-----+-----+---------+-----+\n",
            "|_c0|   TV|Radio|Newspaper|Sales|\n",
            "+---+-----+-----+---------+-----+\n",
            "|  1|230.1| 37.8|     69.2| 22.1|\n",
            "|  2| 44.5| 39.3|     45.1| 10.4|\n",
            "|  3| 17.2| 45.9|     69.3|  9.3|\n",
            "|  4|151.5| 41.3|     58.5| 18.5|\n",
            "|  5|180.8| 10.8|     58.4| 12.9|\n",
            "+---+-----+-----+---------+-----+\n",
            "only showing top 5 rows\n",
            "\n"
          ]
        }
      ]
    },
    {
      "cell_type": "markdown",
      "metadata": {
        "id": "6NwU4yPcfeW5"
      },
      "source": [
        "## Transform data structure"
      ]
    },
    {
      "cell_type": "code",
      "metadata": {
        "colab": {
          "base_uri": "https://localhost:8080/"
        },
        "id": "7S10xnONfaf6",
        "outputId": "9538885d-3d36-4e43-c43d-c260e69d0f44"
      },
      "source": [
        "from pyspark.ml.linalg import Vectors\n",
        "ad_df = ad.rdd.map(lambda x: [Vectors.dense(x[0:3]), x[-1]]).toDF(['features', 'label'])\n",
        "ad_df.show(5)"
      ],
      "execution_count": 7,
      "outputs": [
        {
          "output_type": "stream",
          "name": "stdout",
          "text": [
            "+----------------+-----+\n",
            "|        features|label|\n",
            "+----------------+-----+\n",
            "|[1.0,230.1,37.8]| 22.1|\n",
            "| [2.0,44.5,39.3]| 10.4|\n",
            "| [3.0,17.2,45.9]|  9.3|\n",
            "|[4.0,151.5,41.3]| 18.5|\n",
            "|[5.0,180.8,10.8]| 12.9|\n",
            "+----------------+-----+\n",
            "only showing top 5 rows\n",
            "\n"
          ]
        }
      ]
    },
    {
      "cell_type": "markdown",
      "metadata": {
        "id": "KwhoXn3XfkUU"
      },
      "source": [
        "## Build linear regression model"
      ]
    },
    {
      "cell_type": "code",
      "metadata": {
        "id": "whCgAEc8fa55"
      },
      "source": [
        "from pyspark.ml.regression import LinearRegression\n",
        "lr = LinearRegression(featuresCol = 'features', labelCol = 'label')"
      ],
      "execution_count": 8,
      "outputs": []
    },
    {
      "cell_type": "markdown",
      "metadata": {
        "id": "YbHlDuC_foGi"
      },
      "source": [
        "## Fit the model"
      ]
    },
    {
      "cell_type": "code",
      "metadata": {
        "id": "m6CsYKPEfa8Y"
      },
      "source": [
        "lr_model = lr.fit(ad_df)"
      ],
      "execution_count": 9,
      "outputs": []
    },
    {
      "cell_type": "markdown",
      "metadata": {
        "id": "OTfxNyntfoyf"
      },
      "source": [
        "## Prediction"
      ]
    },
    {
      "cell_type": "code",
      "metadata": {
        "colab": {
          "base_uri": "https://localhost:8080/"
        },
        "id": "cHSnJQ2Qfa_f",
        "outputId": "f826a71d-5cf7-4b0e-c38e-bd6c34b96e61"
      },
      "source": [
        "pred = lr_model.transform(ad_df)\n",
        "pred.show(5)"
      ],
      "execution_count": 10,
      "outputs": [
        {
          "output_type": "stream",
          "name": "stdout",
          "text": [
            "+----------------+-----+------------------+\n",
            "|        features|label|        prediction|\n",
            "+----------------+-----+------------------+\n",
            "|[1.0,230.1,37.8]| 22.1|20.605029205675923|\n",
            "| [2.0,44.5,39.3]| 10.4|12.392493270268307|\n",
            "| [3.0,17.2,45.9]|  9.3|12.381882445789145|\n",
            "|[4.0,151.5,41.3]| 18.5|17.663642367397202|\n",
            "|[5.0,180.8,10.8]| 12.9|13.277141826096056|\n",
            "+----------------+-----+------------------+\n",
            "only showing top 5 rows\n",
            "\n"
          ]
        }
      ]
    },
    {
      "cell_type": "markdown",
      "metadata": {
        "id": "gY3-lv0lfpjW"
      },
      "source": [
        "## Module evaluation"
      ]
    },
    {
      "cell_type": "code",
      "metadata": {
        "colab": {
          "base_uri": "https://localhost:8080/"
        },
        "id": "PafLoz9kfbB1",
        "outputId": "6fb16459-999d-4802-b5a1-e984d84fdb45"
      },
      "source": [
        "from pyspark.ml.evaluation import RegressionEvaluator\n",
        "evaluator = RegressionEvaluator(predictionCol='prediction', labelCol='label')\n",
        "evaluator.setMetricName('r2').evaluate(pred)"
      ],
      "execution_count": 11,
      "outputs": [
        {
          "output_type": "execute_result",
          "data": {
            "text/plain": [
              "0.8972276882820611"
            ]
          },
          "metadata": {},
          "execution_count": 11
        }
      ]
    },
    {
      "cell_type": "code",
      "metadata": {
        "id": "rne-jL6Pf4pC"
      },
      "source": [],
      "execution_count": null,
      "outputs": []
    },
    {
      "cell_type": "markdown",
      "metadata": {
        "id": "2ZS95SxIf-OL"
      },
      "source": [
        "# Linear regression with cross-validation"
      ]
    },
    {
      "cell_type": "code",
      "metadata": {
        "id": "szIXpqodf-aC"
      },
      "source": [
        "training, test = ad_df.randomSplit([0.8, 0.2], seed=123)"
      ],
      "execution_count": 12,
      "outputs": []
    },
    {
      "cell_type": "code",
      "metadata": {
        "id": "sFfseuBaf-cr"
      },
      "source": [
        "##=====build cross valiation model======\n",
        "\n",
        "# estimator\n",
        "lr = LinearRegression(featuresCol = 'features', labelCol = 'label')\n",
        "\n",
        "# parameter grid\n",
        "from pyspark.ml.tuning import ParamGridBuilder\n",
        "param_grid = ParamGridBuilder().\\\n",
        "    addGrid(lr.regParam, [0, 0.5, 1]).\\\n",
        "    addGrid(lr.elasticNetParam, [0, 0.5, 1]).\\\n",
        "    build()\n",
        "\n",
        "# evaluator\n",
        "evaluator = RegressionEvaluator(predictionCol='prediction', labelCol='label', metricName='r2')\n",
        "\n",
        "# cross-validation model\n",
        "from pyspark.ml.tuning import CrossValidator\n",
        "cv = CrossValidator(estimator=lr, estimatorParamMaps=param_grid, evaluator=evaluator, numFolds=4)"
      ],
      "execution_count": 13,
      "outputs": []
    },
    {
      "cell_type": "code",
      "metadata": {
        "id": "EY1TWIOSf-f5"
      },
      "source": [
        "cv_model = cv.fit(training)"
      ],
      "execution_count": 14,
      "outputs": []
    },
    {
      "cell_type": "code",
      "metadata": {
        "id": "jIkZ5GPof-ie"
      },
      "source": [
        "pred_training_cv = cv_model.transform(training)\n",
        "pred_test_cv = cv_model.transform(test)"
      ],
      "execution_count": 15,
      "outputs": []
    },
    {
      "cell_type": "code",
      "metadata": {
        "colab": {
          "base_uri": "https://localhost:8080/"
        },
        "id": "uEopRkEUf-k0",
        "outputId": "b078dab5-fef3-4b17-cde9-727f7391f5a3"
      },
      "source": [
        "# performance on training data\n",
        "evaluator.setMetricName('r2').evaluate(pred_training_cv)"
      ],
      "execution_count": 16,
      "outputs": [
        {
          "output_type": "execute_result",
          "data": {
            "text/plain": [
              "0.8906321535733986"
            ]
          },
          "metadata": {},
          "execution_count": 16
        }
      ]
    },
    {
      "cell_type": "code",
      "metadata": {
        "colab": {
          "base_uri": "https://localhost:8080/"
        },
        "id": "6Pztn845f-nf",
        "outputId": "1ba978db-db3e-4f94-c918-94b78ed1fb7e"
      },
      "source": [
        "# performance on test data\n",
        "evaluator.setMetricName('r2').evaluate(pred_test_cv)"
      ],
      "execution_count": 17,
      "outputs": [
        {
          "output_type": "execute_result",
          "data": {
            "text/plain": [
              "0.914580132831202"
            ]
          },
          "metadata": {},
          "execution_count": 17
        }
      ]
    },
    {
      "cell_type": "markdown",
      "metadata": {
        "id": "3OUIp-bsgRT5"
      },
      "source": [
        "## Intercept and coefficients"
      ]
    },
    {
      "cell_type": "code",
      "metadata": {
        "colab": {
          "base_uri": "https://localhost:8080/"
        },
        "id": "XwVPl4fcgStY",
        "outputId": "5e3fdbbb-e57b-4f44-da99-98fc01ad11ed"
      },
      "source": [
        "print('Intercept: ', cv_model.bestModel.intercept, \"\\n\",\n",
        "     'coefficients: ', cv_model.bestModel.coefficients)"
      ],
      "execution_count": 18,
      "outputs": [
        {
          "output_type": "stream",
          "name": "stdout",
          "text": [
            "Intercept:  3.1016735129846187 \n",
            " coefficients:  [-0.0018772527957915963,0.046197905637639806,0.18389173053167443]\n"
          ]
        }
      ]
    },
    {
      "cell_type": "code",
      "source": [
        "ad_df.show(5)"
      ],
      "metadata": {
        "colab": {
          "base_uri": "https://localhost:8080/"
        },
        "id": "SGn8QEx4XWck",
        "outputId": "333545ee-a93f-4e5f-b4a1-005fe3fc2b30"
      },
      "execution_count": 19,
      "outputs": [
        {
          "output_type": "stream",
          "name": "stdout",
          "text": [
            "+----------------+-----+\n",
            "|        features|label|\n",
            "+----------------+-----+\n",
            "|[1.0,230.1,37.8]| 22.1|\n",
            "| [2.0,44.5,39.3]| 10.4|\n",
            "| [3.0,17.2,45.9]|  9.3|\n",
            "|[4.0,151.5,41.3]| 18.5|\n",
            "|[5.0,180.8,10.8]| 12.9|\n",
            "+----------------+-----+\n",
            "only showing top 5 rows\n",
            "\n"
          ]
        }
      ]
    },
    {
      "cell_type": "markdown",
      "metadata": {
        "id": "us8cqE8SgYnc"
      },
      "source": [
        "## Get parameter values from the best model"
      ]
    },
    {
      "cell_type": "code",
      "metadata": {
        "colab": {
          "base_uri": "https://localhost:8080/"
        },
        "id": "cV8hCL15gSwb",
        "outputId": "2a253765-5d9c-4f7c-f97d-69468c25aa7b"
      },
      "source": [
        "print('best regParam: ' + str(cv_model.bestModel._java_obj.getRegParam()) + \"\\n\" +\n",
        "     'best ElasticNetParam:' + str(cv_model.bestModel._java_obj.getElasticNetParam()))"
      ],
      "execution_count": 20,
      "outputs": [
        {
          "output_type": "stream",
          "name": "stdout",
          "text": [
            "best regParam: 0.0\n",
            "best ElasticNetParam:0.0\n"
          ]
        }
      ]
    },
    {
      "cell_type": "code",
      "metadata": {
        "id": "cAjgMl2QgSz1"
      },
      "source": [],
      "execution_count": null,
      "outputs": []
    },
    {
      "cell_type": "markdown",
      "metadata": {
        "id": "CpbTJU8Mgek2"
      },
      "source": [
        "# Generalized regression"
      ]
    },
    {
      "cell_type": "code",
      "metadata": {
        "id": "TBLHXfr3gew6"
      },
      "source": [
        "# from google.colab import files\n",
        "# files.upload()"
      ],
      "execution_count": null,
      "outputs": []
    },
    {
      "cell_type": "code",
      "metadata": {
        "colab": {
          "base_uri": "https://localhost:8080/"
        },
        "id": "1RhfkP7Kgezk",
        "outputId": "94c51aa4-7a81-41f0-84c3-106f116a3c88"
      },
      "source": [
        "cuse = spark.read.csv('./data/cuse_binary.csv', header=True, inferSchema=True)\n",
        "cuse.show(5)"
      ],
      "execution_count": 21,
      "outputs": [
        {
          "output_type": "stream",
          "name": "stdout",
          "text": [
            "+---+---------+---------+---+\n",
            "|age|education|wantsMore|  y|\n",
            "+---+---------+---------+---+\n",
            "|<25|      low|      yes|  0|\n",
            "|<25|      low|      yes|  0|\n",
            "|<25|      low|      yes|  0|\n",
            "|<25|      low|      yes|  0|\n",
            "|<25|      low|      yes|  0|\n",
            "+---+---------+---------+---+\n",
            "only showing top 5 rows\n",
            "\n"
          ]
        }
      ]
    },
    {
      "cell_type": "code",
      "metadata": {
        "colab": {
          "base_uri": "https://localhost:8080/"
        },
        "id": "CYBQARF7ge2Z",
        "outputId": "6b67258e-5372-4735-d600-2527bda55b7f"
      },
      "source": [
        "cuse.columns[0:3]\n",
        "# cuse.select('age').distinct().show()\n",
        "cuse.select('age').rdd.countByValue()\n",
        "# cuse.select('education').rdd.countByValue()"
      ],
      "execution_count": 22,
      "outputs": [
        {
          "output_type": "execute_result",
          "data": {
            "text/plain": [
              "defaultdict(int,\n",
              "            {Row(age='<25'): 397,\n",
              "             Row(age='25-29'): 404,\n",
              "             Row(age='30-39'): 612,\n",
              "             Row(age='40-49'): 194})"
            ]
          },
          "metadata": {},
          "execution_count": 22
        }
      ]
    },
    {
      "cell_type": "code",
      "metadata": {
        "colab": {
          "base_uri": "https://localhost:8080/"
        },
        "id": "relu2PFBge5z",
        "outputId": "314dcca0-120b-4b3f-f546-efa7584529f2"
      },
      "source": [
        "# string index each categorical string columns\n",
        "from pyspark.ml.feature import StringIndexer\n",
        "from pyspark.ml import Pipeline\n",
        "indexers = [StringIndexer(inputCol=column, outputCol=\"indexed_\"+column) for column in ('age', 'education', 'wantsMore')]\n",
        "pipeline = Pipeline(stages=indexers)\n",
        "indexed_cuse = pipeline.fit(cuse).transform(cuse)\n",
        "indexed_cuse.select('age', 'indexed_age').distinct().show(5)"
      ],
      "execution_count": 23,
      "outputs": [
        {
          "output_type": "stream",
          "name": "stdout",
          "text": [
            "+-----+-----------+\n",
            "|  age|indexed_age|\n",
            "+-----+-----------+\n",
            "|30-39|        0.0|\n",
            "|  <25|        2.0|\n",
            "|25-29|        1.0|\n",
            "|40-49|        3.0|\n",
            "+-----+-----------+\n",
            "\n"
          ]
        }
      ]
    },
    {
      "cell_type": "code",
      "metadata": {
        "colab": {
          "base_uri": "https://localhost:8080/"
        },
        "id": "ohO4WZWRg8-N",
        "outputId": "1aeb456e-ca7b-4167-f048-33fd81421e71"
      },
      "source": [
        "# onehotencode each indexed categorical columns\n",
        "from pyspark.ml.feature import OneHotEncoder\n",
        "columns = indexed_cuse.columns[0:3]\n",
        "onehoteencoders = [OneHotEncoder(inputCol=\"indexed_\"+column, outputCol=\"onehotencode_\"+column) for column in columns]\n",
        "pipeline = Pipeline(stages=onehoteencoders)\n",
        "onehotencode_columns = ['onehotencode_age', 'onehotencode_education', 'onehotencode_wantsMore', 'y']\n",
        "onehotencode_cuse = pipeline.fit(indexed_cuse).transform(indexed_cuse).select(onehotencode_columns)\n",
        "onehotencode_cuse.distinct().show(5)"
      ],
      "execution_count": 24,
      "outputs": [
        {
          "output_type": "stream",
          "name": "stdout",
          "text": [
            "+----------------+----------------------+----------------------+---+\n",
            "|onehotencode_age|onehotencode_education|onehotencode_wantsMore|  y|\n",
            "+----------------+----------------------+----------------------+---+\n",
            "|   (3,[1],[1.0])|             (1,[],[])|         (1,[0],[1.0])|  0|\n",
            "|   (3,[2],[1.0])|         (1,[0],[1.0])|             (1,[],[])|  1|\n",
            "|   (3,[0],[1.0])|         (1,[0],[1.0])|         (1,[0],[1.0])|  0|\n",
            "|       (3,[],[])|         (1,[0],[1.0])|         (1,[0],[1.0])|  1|\n",
            "|   (3,[2],[1.0])|             (1,[],[])|         (1,[0],[1.0])|  0|\n",
            "+----------------+----------------------+----------------------+---+\n",
            "only showing top 5 rows\n",
            "\n"
          ]
        }
      ]
    },
    {
      "cell_type": "code",
      "metadata": {
        "colab": {
          "base_uri": "https://localhost:8080/"
        },
        "id": "kjqDL8pOg_mU",
        "outputId": "baf99e7a-7341-47fa-c643-e94777dfd113"
      },
      "source": [
        "# assemble all feature columns into on single vector column\n",
        "from pyspark.ml.feature import VectorAssembler\n",
        "assembler = VectorAssembler(inputCols=['onehotencode_age', 'onehotencode_education', 'onehotencode_wantsMore'], outputCol='features')\n",
        "cuse_df_2 = assembler.transform(onehotencode_cuse).withColumnRenamed('y', 'label')\n",
        "cuse_df_2.show(5)"
      ],
      "execution_count": 25,
      "outputs": [
        {
          "output_type": "stream",
          "name": "stdout",
          "text": [
            "+----------------+----------------------+----------------------+-----+-------------------+\n",
            "|onehotencode_age|onehotencode_education|onehotencode_wantsMore|label|           features|\n",
            "+----------------+----------------------+----------------------+-----+-------------------+\n",
            "|   (3,[2],[1.0])|             (1,[],[])|         (1,[0],[1.0])|    0|(5,[2,4],[1.0,1.0])|\n",
            "|   (3,[2],[1.0])|             (1,[],[])|         (1,[0],[1.0])|    0|(5,[2,4],[1.0,1.0])|\n",
            "|   (3,[2],[1.0])|             (1,[],[])|         (1,[0],[1.0])|    0|(5,[2,4],[1.0,1.0])|\n",
            "|   (3,[2],[1.0])|             (1,[],[])|         (1,[0],[1.0])|    0|(5,[2,4],[1.0,1.0])|\n",
            "|   (3,[2],[1.0])|             (1,[],[])|         (1,[0],[1.0])|    0|(5,[2,4],[1.0,1.0])|\n",
            "+----------------+----------------------+----------------------+-----+-------------------+\n",
            "only showing top 5 rows\n",
            "\n"
          ]
        }
      ]
    },
    {
      "cell_type": "code",
      "metadata": {
        "colab": {
          "base_uri": "https://localhost:8080/"
        },
        "id": "AMuEWNjZhCus",
        "outputId": "7bc2db31-f5c6-4f3e-9a21-b725771bd248"
      },
      "source": [
        "# split data into training and test datasets\n",
        "training, test = cuse_df_2.randomSplit([0.8, 0.2], seed=1234)\n",
        "training.show(5)"
      ],
      "execution_count": 26,
      "outputs": [
        {
          "output_type": "stream",
          "name": "stdout",
          "text": [
            "+----------------+----------------------+----------------------+-----+---------+\n",
            "|onehotencode_age|onehotencode_education|onehotencode_wantsMore|label| features|\n",
            "+----------------+----------------------+----------------------+-----+---------+\n",
            "|       (3,[],[])|             (1,[],[])|             (1,[],[])|    0|(5,[],[])|\n",
            "|       (3,[],[])|             (1,[],[])|             (1,[],[])|    0|(5,[],[])|\n",
            "|       (3,[],[])|             (1,[],[])|             (1,[],[])|    0|(5,[],[])|\n",
            "|       (3,[],[])|             (1,[],[])|             (1,[],[])|    0|(5,[],[])|\n",
            "|       (3,[],[])|             (1,[],[])|             (1,[],[])|    0|(5,[],[])|\n",
            "+----------------+----------------------+----------------------+-----+---------+\n",
            "only showing top 5 rows\n",
            "\n"
          ]
        }
      ]
    },
    {
      "cell_type": "code",
      "metadata": {
        "id": "6q_IWGzXhE27"
      },
      "source": [
        "## ======= build cross validation model ===========\n",
        "\n",
        "# estimator\n",
        "from pyspark.ml.regression import GeneralizedLinearRegression\n",
        "glm = GeneralizedLinearRegression(featuresCol='features', labelCol='label', family='binomial')\n",
        "\n",
        "# parameter grid\n",
        "from pyspark.ml.tuning import ParamGridBuilder\n",
        "param_grid = ParamGridBuilder().\\\n",
        "    addGrid(glm.regParam, [0, 0.5, 1, 2, 4]).\\\n",
        "    build()\n",
        "\n",
        "# evaluator\n",
        "from pyspark.ml.evaluation import BinaryClassificationEvaluator\n",
        "evaluator = BinaryClassificationEvaluator(rawPredictionCol='prediction')\n",
        "\n",
        "# build cross-validation model\n",
        "from pyspark.ml.tuning import CrossValidator\n",
        "cv = CrossValidator(estimator=glm, estimatorParamMaps=param_grid, evaluator=evaluator, numFolds=4)"
      ],
      "execution_count": 27,
      "outputs": []
    },
    {
      "cell_type": "code",
      "metadata": {
        "id": "5ix5ugEvhJdF"
      },
      "source": [
        "# fit model\n",
        "# cv_model = cv.fit(training)\n",
        "cv_model = cv.fit(cuse_df_2)"
      ],
      "execution_count": 28,
      "outputs": []
    },
    {
      "cell_type": "code",
      "metadata": {
        "colab": {
          "base_uri": "https://localhost:8080/"
        },
        "id": "A4wyjSK7hMll",
        "outputId": "4fa7a4d2-05c3-42da-8208-ecbb2184920c"
      },
      "source": [
        "# prediction\n",
        "pred_training_cv = cv_model.transform(training)\n",
        "pred_test_cv = cv_model.transform(test)\n",
        "\n",
        "pred_training_cv.show(5)\n",
        "pred_test_cv.show(5, truncate=False)"
      ],
      "execution_count": 29,
      "outputs": [
        {
          "output_type": "stream",
          "name": "stdout",
          "text": [
            "+----------------+----------------------+----------------------+-----+---------+------------------+\n",
            "|onehotencode_age|onehotencode_education|onehotencode_wantsMore|label| features|        prediction|\n",
            "+----------------+----------------------+----------------------+-----+---------+------------------+\n",
            "|       (3,[],[])|             (1,[],[])|             (1,[],[])|    0|(5,[],[])|0.5140024065151293|\n",
            "|       (3,[],[])|             (1,[],[])|             (1,[],[])|    0|(5,[],[])|0.5140024065151293|\n",
            "|       (3,[],[])|             (1,[],[])|             (1,[],[])|    0|(5,[],[])|0.5140024065151293|\n",
            "|       (3,[],[])|             (1,[],[])|             (1,[],[])|    0|(5,[],[])|0.5140024065151293|\n",
            "|       (3,[],[])|             (1,[],[])|             (1,[],[])|    0|(5,[],[])|0.5140024065151293|\n",
            "+----------------+----------------------+----------------------+-----+---------+------------------+\n",
            "only showing top 5 rows\n",
            "\n",
            "+----------------+----------------------+----------------------+-----+---------+------------------+\n",
            "|onehotencode_age|onehotencode_education|onehotencode_wantsMore|label|features |prediction        |\n",
            "+----------------+----------------------+----------------------+-----+---------+------------------+\n",
            "|(3,[],[])       |(1,[],[])             |(1,[],[])             |0    |(5,[],[])|0.5140024065151293|\n",
            "|(3,[],[])       |(1,[],[])             |(1,[],[])             |0    |(5,[],[])|0.5140024065151293|\n",
            "|(3,[],[])       |(1,[],[])             |(1,[],[])             |0    |(5,[],[])|0.5140024065151293|\n",
            "|(3,[],[])       |(1,[],[])             |(1,[],[])             |0    |(5,[],[])|0.5140024065151293|\n",
            "|(3,[],[])       |(1,[],[])             |(1,[],[])             |0    |(5,[],[])|0.5140024065151293|\n",
            "+----------------+----------------------+----------------------+-----+---------+------------------+\n",
            "only showing top 5 rows\n",
            "\n"
          ]
        }
      ]
    },
    {
      "cell_type": "code",
      "metadata": {
        "colab": {
          "base_uri": "https://localhost:8080/"
        },
        "id": "A6v6dHHXhP6i",
        "outputId": "e40782f5-47e7-4a30-e6a1-3a5a3dc3f649"
      },
      "source": [
        "cv_model.bestModel.coefficients"
      ],
      "execution_count": 30,
      "outputs": [
        {
          "output_type": "execute_result",
          "data": {
            "text/plain": [
              "DenseVector([-0.2806, -0.7999, -1.1892, 0.325, -0.833])"
            ]
          },
          "metadata": {},
          "execution_count": 30
        }
      ]
    },
    {
      "cell_type": "code",
      "metadata": {
        "colab": {
          "base_uri": "https://localhost:8080/"
        },
        "id": "6v9AZUSRhP-7",
        "outputId": "f8e5b232-3453-4656-a313-0f7585993762"
      },
      "source": [
        "cv_model.bestModel.intercept"
      ],
      "execution_count": 31,
      "outputs": [
        {
          "output_type": "execute_result",
          "data": {
            "text/plain": [
              "0.056024275169240606"
            ]
          },
          "metadata": {},
          "execution_count": 31
        }
      ]
    },
    {
      "cell_type": "code",
      "metadata": {
        "colab": {
          "base_uri": "https://localhost:8080/"
        },
        "id": "YdJGL9ZrhXm1",
        "outputId": "410140b9-be4a-4fcc-ed1e-f3ac1796fe35"
      },
      "source": [
        "evaluator.evaluate(pred_training_cv)"
      ],
      "execution_count": 32,
      "outputs": [
        {
          "output_type": "execute_result",
          "data": {
            "text/plain": [
              "0.6716478245974649"
            ]
          },
          "metadata": {},
          "execution_count": 32
        }
      ]
    },
    {
      "cell_type": "code",
      "metadata": {
        "colab": {
          "base_uri": "https://localhost:8080/"
        },
        "id": "vPJ2YTkuhhEE",
        "outputId": "dfb6bef6-a6a2-4aff-d2ac-e38d49e7ac96"
      },
      "source": [
        "evaluator.evaluate(pred_test_cv)"
      ],
      "execution_count": 33,
      "outputs": [
        {
          "output_type": "execute_result",
          "data": {
            "text/plain": [
              "0.6830864197530864"
            ]
          },
          "metadata": {},
          "execution_count": 33
        }
      ]
    },
    {
      "cell_type": "code",
      "metadata": {
        "id": "7s2dyqB1hqkM"
      },
      "source": [],
      "execution_count": null,
      "outputs": []
    }
  ]
}