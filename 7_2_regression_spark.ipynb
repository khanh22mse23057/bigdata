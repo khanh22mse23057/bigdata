{
  "nbformat": 4,
  "nbformat_minor": 0,
  "metadata": {
    "colab": {
      "provenance": [],
      "include_colab_link": true
    },
    "kernelspec": {
      "name": "python3",
      "display_name": "Python 3"
    },
    "language_info": {
      "name": "python"
    }
  },
  "cells": [
    {
      "cell_type": "markdown",
      "metadata": {
        "id": "view-in-github",
        "colab_type": "text"
      },
      "source": [
        "<a href=\"https://colab.research.google.com/github/khanh22mse23057/bigdata/blob/main/7_2_regression_spark.ipynb\" target=\"_parent\"><img src=\"https://colab.research.google.com/assets/colab-badge.svg\" alt=\"Open In Colab\"/></a>"
      ]
    },
    {
      "cell_type": "code",
      "metadata": {
        "id": "1f-uo6udeka0"
      },
      "source": [
        "!apt-get install openjdk-8-jdk-headless -qq > /dev/null\n",
        "!wget -q http://archive.apache.org/dist/spark/spark-3.1.1/spark-3.1.1-bin-hadoop3.2.tgz\n",
        "!tar xf spark-3.1.1-bin-hadoop3.2.tgz\n",
        "!pip install -q findspark\n",
        "import os\n",
        "os.environ[\"JAVA_HOME\"] = \"/usr/lib/jvm/java-8-openjdk-amd64\"\n",
        "os.environ[\"SPARK_HOME\"] = \"/content/spark-3.1.1-bin-hadoop3.2\"\n",
        "import findspark\n",
        "findspark.init()"
      ],
      "execution_count": null,
      "outputs": []
    },
    {
      "cell_type": "code",
      "metadata": {
        "id": "32GC-x-Jeohv"
      },
      "source": [
        "from pyspark import SparkContext\n",
        "sc = SparkContext(master = 'local')\n",
        "\n",
        "from pyspark.sql import SparkSession\n",
        "spark = SparkSession.builder \\\n",
        "          .appName(\"Python Spark SQL basic example\") \\\n",
        "          .config(\"spark.some.config.option\", \"some-value\") \\\n",
        "          .getOrCreate()"
      ],
      "execution_count": null,
      "outputs": []
    },
    {
      "cell_type": "markdown",
      "metadata": {
        "id": "SyJ69dq3e05y"
      },
      "source": [
        "# Linear regression without cross-valiation"
      ]
    },
    {
      "cell_type": "code",
      "metadata": {
        "colab": {
          "base_uri": "https://localhost:8080/",
          "height": 127
        },
        "id": "hbaUAMX2e0Ol",
        "outputId": "e5fe62e4-cbc4-467a-ddd7-0e2a314ce12c"
      },
      "source": [
        "from google.colab import files\n",
        "files.upload()"
      ],
      "execution_count": null,
      "outputs": [
        {
          "output_type": "display_data",
          "data": {
            "text/plain": [
              "<IPython.core.display.HTML object>"
            ],
            "text/html": [
              "\n",
              "     <input type=\"file\" id=\"files-e7237ef6-6863-468d-9714-75ad996e25da\" name=\"files[]\" multiple disabled\n",
              "        style=\"border:none\" />\n",
              "     <output id=\"result-e7237ef6-6863-468d-9714-75ad996e25da\">\n",
              "      Upload widget is only available when the cell has been executed in the\n",
              "      current browser session. Please rerun this cell to enable.\n",
              "      </output>\n",
              "      <script>// Copyright 2017 Google LLC\n",
              "//\n",
              "// Licensed under the Apache License, Version 2.0 (the \"License\");\n",
              "// you may not use this file except in compliance with the License.\n",
              "// You may obtain a copy of the License at\n",
              "//\n",
              "//      http://www.apache.org/licenses/LICENSE-2.0\n",
              "//\n",
              "// Unless required by applicable law or agreed to in writing, software\n",
              "// distributed under the License is distributed on an \"AS IS\" BASIS,\n",
              "// WITHOUT WARRANTIES OR CONDITIONS OF ANY KIND, either express or implied.\n",
              "// See the License for the specific language governing permissions and\n",
              "// limitations under the License.\n",
              "\n",
              "/**\n",
              " * @fileoverview Helpers for google.colab Python module.\n",
              " */\n",
              "(function(scope) {\n",
              "function span(text, styleAttributes = {}) {\n",
              "  const element = document.createElement('span');\n",
              "  element.textContent = text;\n",
              "  for (const key of Object.keys(styleAttributes)) {\n",
              "    element.style[key] = styleAttributes[key];\n",
              "  }\n",
              "  return element;\n",
              "}\n",
              "\n",
              "// Max number of bytes which will be uploaded at a time.\n",
              "const MAX_PAYLOAD_SIZE = 100 * 1024;\n",
              "\n",
              "function _uploadFiles(inputId, outputId) {\n",
              "  const steps = uploadFilesStep(inputId, outputId);\n",
              "  const outputElement = document.getElementById(outputId);\n",
              "  // Cache steps on the outputElement to make it available for the next call\n",
              "  // to uploadFilesContinue from Python.\n",
              "  outputElement.steps = steps;\n",
              "\n",
              "  return _uploadFilesContinue(outputId);\n",
              "}\n",
              "\n",
              "// This is roughly an async generator (not supported in the browser yet),\n",
              "// where there are multiple asynchronous steps and the Python side is going\n",
              "// to poll for completion of each step.\n",
              "// This uses a Promise to block the python side on completion of each step,\n",
              "// then passes the result of the previous step as the input to the next step.\n",
              "function _uploadFilesContinue(outputId) {\n",
              "  const outputElement = document.getElementById(outputId);\n",
              "  const steps = outputElement.steps;\n",
              "\n",
              "  const next = steps.next(outputElement.lastPromiseValue);\n",
              "  return Promise.resolve(next.value.promise).then((value) => {\n",
              "    // Cache the last promise value to make it available to the next\n",
              "    // step of the generator.\n",
              "    outputElement.lastPromiseValue = value;\n",
              "    return next.value.response;\n",
              "  });\n",
              "}\n",
              "\n",
              "/**\n",
              " * Generator function which is called between each async step of the upload\n",
              " * process.\n",
              " * @param {string} inputId Element ID of the input file picker element.\n",
              " * @param {string} outputId Element ID of the output display.\n",
              " * @return {!Iterable<!Object>} Iterable of next steps.\n",
              " */\n",
              "function* uploadFilesStep(inputId, outputId) {\n",
              "  const inputElement = document.getElementById(inputId);\n",
              "  inputElement.disabled = false;\n",
              "\n",
              "  const outputElement = document.getElementById(outputId);\n",
              "  outputElement.innerHTML = '';\n",
              "\n",
              "  const pickedPromise = new Promise((resolve) => {\n",
              "    inputElement.addEventListener('change', (e) => {\n",
              "      resolve(e.target.files);\n",
              "    });\n",
              "  });\n",
              "\n",
              "  const cancel = document.createElement('button');\n",
              "  inputElement.parentElement.appendChild(cancel);\n",
              "  cancel.textContent = 'Cancel upload';\n",
              "  const cancelPromise = new Promise((resolve) => {\n",
              "    cancel.onclick = () => {\n",
              "      resolve(null);\n",
              "    };\n",
              "  });\n",
              "\n",
              "  // Wait for the user to pick the files.\n",
              "  const files = yield {\n",
              "    promise: Promise.race([pickedPromise, cancelPromise]),\n",
              "    response: {\n",
              "      action: 'starting',\n",
              "    }\n",
              "  };\n",
              "\n",
              "  cancel.remove();\n",
              "\n",
              "  // Disable the input element since further picks are not allowed.\n",
              "  inputElement.disabled = true;\n",
              "\n",
              "  if (!files) {\n",
              "    return {\n",
              "      response: {\n",
              "        action: 'complete',\n",
              "      }\n",
              "    };\n",
              "  }\n",
              "\n",
              "  for (const file of files) {\n",
              "    const li = document.createElement('li');\n",
              "    li.append(span(file.name, {fontWeight: 'bold'}));\n",
              "    li.append(span(\n",
              "        `(${file.type || 'n/a'}) - ${file.size} bytes, ` +\n",
              "        `last modified: ${\n",
              "            file.lastModifiedDate ? file.lastModifiedDate.toLocaleDateString() :\n",
              "                                    'n/a'} - `));\n",
              "    const percent = span('0% done');\n",
              "    li.appendChild(percent);\n",
              "\n",
              "    outputElement.appendChild(li);\n",
              "\n",
              "    const fileDataPromise = new Promise((resolve) => {\n",
              "      const reader = new FileReader();\n",
              "      reader.onload = (e) => {\n",
              "        resolve(e.target.result);\n",
              "      };\n",
              "      reader.readAsArrayBuffer(file);\n",
              "    });\n",
              "    // Wait for the data to be ready.\n",
              "    let fileData = yield {\n",
              "      promise: fileDataPromise,\n",
              "      response: {\n",
              "        action: 'continue',\n",
              "      }\n",
              "    };\n",
              "\n",
              "    // Use a chunked sending to avoid message size limits. See b/62115660.\n",
              "    let position = 0;\n",
              "    do {\n",
              "      const length = Math.min(fileData.byteLength - position, MAX_PAYLOAD_SIZE);\n",
              "      const chunk = new Uint8Array(fileData, position, length);\n",
              "      position += length;\n",
              "\n",
              "      const base64 = btoa(String.fromCharCode.apply(null, chunk));\n",
              "      yield {\n",
              "        response: {\n",
              "          action: 'append',\n",
              "          file: file.name,\n",
              "          data: base64,\n",
              "        },\n",
              "      };\n",
              "\n",
              "      let percentDone = fileData.byteLength === 0 ?\n",
              "          100 :\n",
              "          Math.round((position / fileData.byteLength) * 100);\n",
              "      percent.textContent = `${percentDone}% done`;\n",
              "\n",
              "    } while (position < fileData.byteLength);\n",
              "  }\n",
              "\n",
              "  // All done.\n",
              "  yield {\n",
              "    response: {\n",
              "      action: 'complete',\n",
              "    }\n",
              "  };\n",
              "}\n",
              "\n",
              "scope.google = scope.google || {};\n",
              "scope.google.colab = scope.google.colab || {};\n",
              "scope.google.colab._files = {\n",
              "  _uploadFiles,\n",
              "  _uploadFilesContinue,\n",
              "};\n",
              "})(self);\n",
              "</script> "
            ]
          },
          "metadata": {}
        },
        {
          "output_type": "stream",
          "name": "stdout",
          "text": [
            "Saving Advertising.csv to Advertising.csv\n"
          ]
        },
        {
          "output_type": "execute_result",
          "data": {
            "text/plain": [
              "{'Advertising.csv': b',TV,Radio,Newspaper,Sales\\n1,230.1,37.8,69.2,22.1\\n2,44.5,39.3,45.1,10.4\\n3,17.2,45.9,69.3,9.3\\n4,151.5,41.3,58.5,18.5\\n5,180.8,10.8,58.4,12.9\\n6,8.7,48.9,75,7.2\\n7,57.5,32.8,23.5,11.8\\n8,120.2,19.6,11.6,13.2\\n9,8.6,2.1,1,4.8\\n10,199.8,2.6,21.2,10.6\\n11,66.1,5.8,24.2,8.6\\n12,214.7,24,4,17.4\\n13,23.8,35.1,65.9,9.2\\n14,97.5,7.6,7.2,9.7\\n15,204.1,32.9,46,19\\n16,195.4,47.7,52.9,22.4\\n17,67.8,36.6,114,12.5\\n18,281.4,39.6,55.8,24.4\\n19,69.2,20.5,18.3,11.3\\n20,147.3,23.9,19.1,14.6\\n21,218.4,27.7,53.4,18\\n22,237.4,5.1,23.5,12.5\\n23,13.2,15.9,49.6,5.6\\n24,228.3,16.9,26.2,15.5\\n25,62.3,12.6,18.3,9.7\\n26,262.9,3.5,19.5,12\\n27,142.9,29.3,12.6,15\\n28,240.1,16.7,22.9,15.9\\n29,248.8,27.1,22.9,18.9\\n30,70.6,16,40.8,10.5\\n31,292.9,28.3,43.2,21.4\\n32,112.9,17.4,38.6,11.9\\n33,97.2,1.5,30,9.6\\n34,265.6,20,0.3,17.4\\n35,95.7,1.4,7.4,9.5\\n36,290.7,4.1,8.5,12.8\\n37,266.9,43.8,5,25.4\\n38,74.7,49.4,45.7,14.7\\n39,43.1,26.7,35.1,10.1\\n40,228,37.7,32,21.5\\n41,202.5,22.3,31.6,16.6\\n42,177,33.4,38.7,17.1\\n43,293.6,27.7,1.8,20.7\\n44,206.9,8.4,26.4,12.9\\n45,25.1,25.7,43.3,8.5\\n46,175.1,22.5,31.5,14.9\\n47,89.7,9.9,35.7,10.6\\n48,239.9,41.5,18.5,23.2\\n49,227.2,15.8,49.9,14.8\\n50,66.9,11.7,36.8,9.7\\n51,199.8,3.1,34.6,11.4\\n52,100.4,9.6,3.6,10.7\\n53,216.4,41.7,39.6,22.6\\n54,182.6,46.2,58.7,21.2\\n55,262.7,28.8,15.9,20.2\\n56,198.9,49.4,60,23.7\\n57,7.3,28.1,41.4,5.5\\n58,136.2,19.2,16.6,13.2\\n59,210.8,49.6,37.7,23.8\\n60,210.7,29.5,9.3,18.4\\n61,53.5,2,21.4,8.1\\n62,261.3,42.7,54.7,24.2\\n63,239.3,15.5,27.3,15.7\\n64,102.7,29.6,8.4,14\\n65,131.1,42.8,28.9,18\\n66,69,9.3,0.9,9.3\\n67,31.5,24.6,2.2,9.5\\n68,139.3,14.5,10.2,13.4\\n69,237.4,27.5,11,18.9\\n70,216.8,43.9,27.2,22.3\\n71,199.1,30.6,38.7,18.3\\n72,109.8,14.3,31.7,12.4\\n73,26.8,33,19.3,8.8\\n74,129.4,5.7,31.3,11\\n75,213.4,24.6,13.1,17\\n76,16.9,43.7,89.4,8.7\\n77,27.5,1.6,20.7,6.9\\n78,120.5,28.5,14.2,14.2\\n79,5.4,29.9,9.4,5.3\\n80,116,7.7,23.1,11\\n81,76.4,26.7,22.3,11.8\\n82,239.8,4.1,36.9,12.3\\n83,75.3,20.3,32.5,11.3\\n84,68.4,44.5,35.6,13.6\\n85,213.5,43,33.8,21.7\\n86,193.2,18.4,65.7,15.2\\n87,76.3,27.5,16,12\\n88,110.7,40.6,63.2,16\\n89,88.3,25.5,73.4,12.9\\n90,109.8,47.8,51.4,16.7\\n91,134.3,4.9,9.3,11.2\\n92,28.6,1.5,33,7.3\\n93,217.7,33.5,59,19.4\\n94,250.9,36.5,72.3,22.2\\n95,107.4,14,10.9,11.5\\n96,163.3,31.6,52.9,16.9\\n97,197.6,3.5,5.9,11.7\\n98,184.9,21,22,15.5\\n99,289.7,42.3,51.2,25.4\\n100,135.2,41.7,45.9,17.2\\n101,222.4,4.3,49.8,11.7\\n102,296.4,36.3,100.9,23.8\\n103,280.2,10.1,21.4,14.8\\n104,187.9,17.2,17.9,14.7\\n105,238.2,34.3,5.3,20.7\\n106,137.9,46.4,59,19.2\\n107,25,11,29.7,7.2\\n108,90.4,0.3,23.2,8.7\\n109,13.1,0.4,25.6,5.3\\n110,255.4,26.9,5.5,19.8\\n111,225.8,8.2,56.5,13.4\\n112,241.7,38,23.2,21.8\\n113,175.7,15.4,2.4,14.1\\n114,209.6,20.6,10.7,15.9\\n115,78.2,46.8,34.5,14.6\\n116,75.1,35,52.7,12.6\\n117,139.2,14.3,25.6,12.2\\n118,76.4,0.8,14.8,9.4\\n119,125.7,36.9,79.2,15.9\\n120,19.4,16,22.3,6.6\\n121,141.3,26.8,46.2,15.5\\n122,18.8,21.7,50.4,7\\n123,224,2.4,15.6,11.6\\n124,123.1,34.6,12.4,15.2\\n125,229.5,32.3,74.2,19.7\\n126,87.2,11.8,25.9,10.6\\n127,7.8,38.9,50.6,6.6\\n128,80.2,0,9.2,8.8\\n129,220.3,49,3.2,24.7\\n130,59.6,12,43.1,9.7\\n131,0.7,39.6,8.7,1.6\\n132,265.2,2.9,43,12.7\\n133,8.4,27.2,2.1,5.7\\n134,219.8,33.5,45.1,19.6\\n135,36.9,38.6,65.6,10.8\\n136,48.3,47,8.5,11.6\\n137,25.6,39,9.3,9.5\\n138,273.7,28.9,59.7,20.8\\n139,43,25.9,20.5,9.6\\n140,184.9,43.9,1.7,20.7\\n141,73.4,17,12.9,10.9\\n142,193.7,35.4,75.6,19.2\\n143,220.5,33.2,37.9,20.1\\n144,104.6,5.7,34.4,10.4\\n145,96.2,14.8,38.9,11.4\\n146,140.3,1.9,9,10.3\\n147,240.1,7.3,8.7,13.2\\n148,243.2,49,44.3,25.4\\n149,38,40.3,11.9,10.9\\n150,44.7,25.8,20.6,10.1\\n151,280.7,13.9,37,16.1\\n152,121,8.4,48.7,11.6\\n153,197.6,23.3,14.2,16.6\\n154,171.3,39.7,37.7,19\\n155,187.8,21.1,9.5,15.6\\n156,4.1,11.6,5.7,3.2\\n157,93.9,43.5,50.5,15.3\\n158,149.8,1.3,24.3,10.1\\n159,11.7,36.9,45.2,7.3\\n160,131.7,18.4,34.6,12.9\\n161,172.5,18.1,30.7,14.4\\n162,85.7,35.8,49.3,13.3\\n163,188.4,18.1,25.6,14.9\\n164,163.5,36.8,7.4,18\\n165,117.2,14.7,5.4,11.9\\n166,234.5,3.4,84.8,11.9\\n167,17.9,37.6,21.6,8\\n168,206.8,5.2,19.4,12.2\\n169,215.4,23.6,57.6,17.1\\n170,284.3,10.6,6.4,15\\n171,50,11.6,18.4,8.4\\n172,164.5,20.9,47.4,14.5\\n173,19.6,20.1,17,7.6\\n174,168.4,7.1,12.8,11.7\\n175,222.4,3.4,13.1,11.5\\n176,276.9,48.9,41.8,27\\n177,248.4,30.2,20.3,20.2\\n178,170.2,7.8,35.2,11.7\\n179,276.7,2.3,23.7,11.8\\n180,165.6,10,17.6,12.6\\n181,156.6,2.6,8.3,10.5\\n182,218.5,5.4,27.4,12.2\\n183,56.2,5.7,29.7,8.7\\n184,287.6,43,71.8,26.2\\n185,253.8,21.3,30,17.6\\n186,205,45.1,19.6,22.6\\n187,139.5,2.1,26.6,10.3\\n188,191.1,28.7,18.2,17.3\\n189,286,13.9,3.7,15.9\\n190,18.7,12.1,23.4,6.7\\n191,39.5,41.1,5.8,10.8\\n192,75.5,10.8,6,9.9\\n193,17.2,4.1,31.6,5.9\\n194,166.8,42,3.6,19.6\\n195,149.7,35.6,6,17.3\\n196,38.2,3.7,13.8,7.6\\n197,94.2,4.9,8.1,9.7\\n198,177,9.3,6.4,12.8\\n199,283.6,42,66.2,25.5\\n200,232.1,8.6,8.7,13.4\\n'}"
            ]
          },
          "metadata": {},
          "execution_count": 3
        }
      ]
    },
    {
      "cell_type": "code",
      "metadata": {
        "colab": {
          "base_uri": "https://localhost:8080/"
        },
        "id": "5f1sdMlCfT6b",
        "outputId": "0c45c9b8-92c1-46ba-b121-095b9e8dd0ec"
      },
      "source": [
        "ad = spark.read.csv('./Advertising.csv', header=True, inferSchema=True)\n",
        "ad.show(5)"
      ],
      "execution_count": null,
      "outputs": [
        {
          "output_type": "stream",
          "name": "stdout",
          "text": [
            "+---+-----+-----+---------+-----+\n",
            "|_c0|   TV|Radio|Newspaper|Sales|\n",
            "+---+-----+-----+---------+-----+\n",
            "|  1|230.1| 37.8|     69.2| 22.1|\n",
            "|  2| 44.5| 39.3|     45.1| 10.4|\n",
            "|  3| 17.2| 45.9|     69.3|  9.3|\n",
            "|  4|151.5| 41.3|     58.5| 18.5|\n",
            "|  5|180.8| 10.8|     58.4| 12.9|\n",
            "+---+-----+-----+---------+-----+\n",
            "only showing top 5 rows\n",
            "\n"
          ]
        }
      ]
    },
    {
      "cell_type": "markdown",
      "metadata": {
        "id": "6NwU4yPcfeW5"
      },
      "source": [
        "## Transform data structure"
      ]
    },
    {
      "cell_type": "code",
      "metadata": {
        "colab": {
          "base_uri": "https://localhost:8080/"
        },
        "id": "7S10xnONfaf6",
        "outputId": "d46cfcff-8351-4dfe-d3ca-a6c9b2f662c2"
      },
      "source": [
        "from pyspark.ml.linalg import Vectors\n",
        "ad_df = ad.rdd.map(lambda x: [Vectors.dense(x[0:3]), x[-1]]).toDF(['features', 'label'])\n",
        "ad_df.show(5)"
      ],
      "execution_count": null,
      "outputs": [
        {
          "output_type": "stream",
          "name": "stdout",
          "text": [
            "+----------------+-----+\n",
            "|        features|label|\n",
            "+----------------+-----+\n",
            "|[1.0,230.1,37.8]| 22.1|\n",
            "| [2.0,44.5,39.3]| 10.4|\n",
            "| [3.0,17.2,45.9]|  9.3|\n",
            "|[4.0,151.5,41.3]| 18.5|\n",
            "|[5.0,180.8,10.8]| 12.9|\n",
            "+----------------+-----+\n",
            "only showing top 5 rows\n",
            "\n"
          ]
        }
      ]
    },
    {
      "cell_type": "markdown",
      "metadata": {
        "id": "KwhoXn3XfkUU"
      },
      "source": [
        "## Build linear regression model"
      ]
    },
    {
      "cell_type": "code",
      "metadata": {
        "id": "whCgAEc8fa55"
      },
      "source": [
        "from pyspark.ml.regression import LinearRegression\n",
        "lr = LinearRegression(featuresCol = 'features', labelCol = 'label')"
      ],
      "execution_count": null,
      "outputs": []
    },
    {
      "cell_type": "markdown",
      "metadata": {
        "id": "YbHlDuC_foGi"
      },
      "source": [
        "## Fit the model"
      ]
    },
    {
      "cell_type": "code",
      "metadata": {
        "id": "m6CsYKPEfa8Y"
      },
      "source": [
        "lr_model = lr.fit(ad_df)"
      ],
      "execution_count": null,
      "outputs": []
    },
    {
      "cell_type": "markdown",
      "metadata": {
        "id": "OTfxNyntfoyf"
      },
      "source": [
        "## Prediction"
      ]
    },
    {
      "cell_type": "code",
      "metadata": {
        "colab": {
          "base_uri": "https://localhost:8080/"
        },
        "id": "cHSnJQ2Qfa_f",
        "outputId": "7725c4de-ebe5-489a-b841-f5292b4d9a65"
      },
      "source": [
        "pred = lr_model.transform(ad_df)\n",
        "pred.show(5)"
      ],
      "execution_count": null,
      "outputs": [
        {
          "output_type": "stream",
          "name": "stdout",
          "text": [
            "+----------------+-----+------------------+\n",
            "|        features|label|        prediction|\n",
            "+----------------+-----+------------------+\n",
            "|[1.0,230.1,37.8]| 22.1|20.605029205675923|\n",
            "| [2.0,44.5,39.3]| 10.4|12.392493270268307|\n",
            "| [3.0,17.2,45.9]|  9.3|12.381882445789145|\n",
            "|[4.0,151.5,41.3]| 18.5|17.663642367397202|\n",
            "|[5.0,180.8,10.8]| 12.9|13.277141826096056|\n",
            "+----------------+-----+------------------+\n",
            "only showing top 5 rows\n",
            "\n"
          ]
        }
      ]
    },
    {
      "cell_type": "markdown",
      "metadata": {
        "id": "gY3-lv0lfpjW"
      },
      "source": [
        "## Module evaluation"
      ]
    },
    {
      "cell_type": "code",
      "metadata": {
        "colab": {
          "base_uri": "https://localhost:8080/"
        },
        "id": "PafLoz9kfbB1",
        "outputId": "20b1fd06-8fec-44ec-fab2-60f1e26142a3"
      },
      "source": [
        "from pyspark.ml.evaluation import RegressionEvaluator\n",
        "evaluator = RegressionEvaluator(predictionCol='prediction', labelCol='label')\n",
        "evaluator.setMetricName('r2').evaluate(pred)"
      ],
      "execution_count": null,
      "outputs": [
        {
          "output_type": "execute_result",
          "data": {
            "text/plain": [
              "0.8972276882820611"
            ]
          },
          "metadata": {},
          "execution_count": 18
        }
      ]
    },
    {
      "cell_type": "code",
      "metadata": {
        "id": "rne-jL6Pf4pC"
      },
      "source": [],
      "execution_count": null,
      "outputs": []
    },
    {
      "cell_type": "markdown",
      "metadata": {
        "id": "2ZS95SxIf-OL"
      },
      "source": [
        "# Linear regression with cross-validation"
      ]
    },
    {
      "cell_type": "code",
      "metadata": {
        "id": "szIXpqodf-aC"
      },
      "source": [
        "training, test = ad_df.randomSplit([0.8, 0.2], seed=123)"
      ],
      "execution_count": null,
      "outputs": []
    },
    {
      "cell_type": "code",
      "metadata": {
        "id": "sFfseuBaf-cr"
      },
      "source": [
        "##=====build cross valiation model======\n",
        "\n",
        "# estimator\n",
        "lr = LinearRegression(featuresCol = 'features', labelCol = 'label')\n",
        "\n",
        "# parameter grid\n",
        "from pyspark.ml.tuning import ParamGridBuilder\n",
        "param_grid = ParamGridBuilder().\\\n",
        "    addGrid(lr.regParam, [0, 0.5, 1]).\\\n",
        "    addGrid(lr.elasticNetParam, [0, 0.5, 1]).\\\n",
        "    build()\n",
        "\n",
        "# evaluator\n",
        "evaluator = RegressionEvaluator(predictionCol='prediction', labelCol='label', metricName='r2')\n",
        "\n",
        "# cross-validation model\n",
        "from pyspark.ml.tuning import CrossValidator\n",
        "cv = CrossValidator(estimator=lr, estimatorParamMaps=param_grid, evaluator=evaluator, numFolds=4)"
      ],
      "execution_count": null,
      "outputs": []
    },
    {
      "cell_type": "code",
      "metadata": {
        "id": "EY1TWIOSf-f5"
      },
      "source": [
        "cv_model = cv.fit(training)"
      ],
      "execution_count": null,
      "outputs": []
    },
    {
      "cell_type": "code",
      "metadata": {
        "id": "jIkZ5GPof-ie"
      },
      "source": [
        "pred_training_cv = cv_model.transform(training)\n",
        "pred_test_cv = cv_model.transform(test)"
      ],
      "execution_count": null,
      "outputs": []
    },
    {
      "cell_type": "code",
      "metadata": {
        "colab": {
          "base_uri": "https://localhost:8080/"
        },
        "id": "uEopRkEUf-k0",
        "outputId": "bc94d27f-9438-437a-b144-f0aed6250188"
      },
      "source": [
        "# performance on training data\n",
        "evaluator.setMetricName('r2').evaluate(pred_training_cv)"
      ],
      "execution_count": null,
      "outputs": [
        {
          "output_type": "execute_result",
          "data": {
            "text/plain": [
              "0.8906321535733986"
            ]
          },
          "metadata": {},
          "execution_count": 16
        }
      ]
    },
    {
      "cell_type": "code",
      "metadata": {
        "colab": {
          "base_uri": "https://localhost:8080/"
        },
        "id": "6Pztn845f-nf",
        "outputId": "f61998f6-0f40-40a9-e8ca-a35d9bf5e758"
      },
      "source": [
        "# performance on test data\n",
        "evaluator.setMetricName('r2').evaluate(pred_test_cv)"
      ],
      "execution_count": null,
      "outputs": [
        {
          "output_type": "execute_result",
          "data": {
            "text/plain": [
              "0.914580132831202"
            ]
          },
          "metadata": {},
          "execution_count": 17
        }
      ]
    },
    {
      "cell_type": "markdown",
      "metadata": {
        "id": "3OUIp-bsgRT5"
      },
      "source": [
        "## Intercept and coefficients"
      ]
    },
    {
      "cell_type": "code",
      "metadata": {
        "colab": {
          "base_uri": "https://localhost:8080/"
        },
        "id": "XwVPl4fcgStY",
        "outputId": "7668a13a-1662-4054-e304-995f58f32e19"
      },
      "source": [
        "print('Intercept: ', cv_model.bestModel.intercept, \"\\n\",\n",
        "     'coefficients: ', cv_model.bestModel.coefficients)"
      ],
      "execution_count": null,
      "outputs": [
        {
          "output_type": "stream",
          "name": "stdout",
          "text": [
            "Intercept:  3.1016735129846187 \n",
            " coefficients:  [-0.0018772527957915963,0.046197905637639806,0.18389173053167443]\n"
          ]
        }
      ]
    },
    {
      "cell_type": "code",
      "source": [
        "ad_df.show(5)"
      ],
      "metadata": {
        "colab": {
          "base_uri": "https://localhost:8080/"
        },
        "id": "SGn8QEx4XWck",
        "outputId": "2cdb7155-099d-4746-ddb9-fcfca5ce6851"
      },
      "execution_count": null,
      "outputs": [
        {
          "output_type": "stream",
          "name": "stdout",
          "text": [
            "+----------------+-----+\n",
            "|        features|label|\n",
            "+----------------+-----+\n",
            "|[1.0,230.1,37.8]| 22.1|\n",
            "| [2.0,44.5,39.3]| 10.4|\n",
            "| [3.0,17.2,45.9]|  9.3|\n",
            "|[4.0,151.5,41.3]| 18.5|\n",
            "|[5.0,180.8,10.8]| 12.9|\n",
            "+----------------+-----+\n",
            "only showing top 5 rows\n",
            "\n"
          ]
        }
      ]
    },
    {
      "cell_type": "markdown",
      "metadata": {
        "id": "us8cqE8SgYnc"
      },
      "source": [
        "## Get parameter values from the best model"
      ]
    },
    {
      "cell_type": "code",
      "metadata": {
        "colab": {
          "base_uri": "https://localhost:8080/"
        },
        "id": "cV8hCL15gSwb",
        "outputId": "62d7e74c-05c0-489b-db20-9bfb8e3f9eb2"
      },
      "source": [
        "print('best regParam: ' + str(cv_model.bestModel._java_obj.getRegParam()) + \"\\n\" +\n",
        "     'best ElasticNetParam:' + str(cv_model.bestModel._java_obj.getElasticNetParam()))"
      ],
      "execution_count": null,
      "outputs": [
        {
          "output_type": "stream",
          "name": "stdout",
          "text": [
            "best regParam: 0.0\n",
            "best ElasticNetParam:0.0\n"
          ]
        }
      ]
    },
    {
      "cell_type": "code",
      "metadata": {
        "id": "cAjgMl2QgSz1"
      },
      "source": [],
      "execution_count": null,
      "outputs": []
    },
    {
      "cell_type": "markdown",
      "metadata": {
        "id": "CpbTJU8Mgek2"
      },
      "source": [
        "# Generalized regression"
      ]
    },
    {
      "cell_type": "code",
      "metadata": {
        "colab": {
          "base_uri": "https://localhost:8080/",
          "height": 1000
        },
        "id": "TBLHXfr3gew6",
        "outputId": "9d46fb26-76ee-47c7-a6a2-36dba7611bab"
      },
      "source": [
        "from google.colab import files\n",
        "files.upload()"
      ],
      "execution_count": null,
      "outputs": [
        {
          "output_type": "display_data",
          "data": {
            "text/plain": [
              "<IPython.core.display.HTML object>"
            ],
            "text/html": [
              "\n",
              "     <input type=\"file\" id=\"files-0c9e470c-ec8c-42f6-b58f-bf9899fd0ca1\" name=\"files[]\" multiple disabled\n",
              "        style=\"border:none\" />\n",
              "     <output id=\"result-0c9e470c-ec8c-42f6-b58f-bf9899fd0ca1\">\n",
              "      Upload widget is only available when the cell has been executed in the\n",
              "      current browser session. Please rerun this cell to enable.\n",
              "      </output>\n",
              "      <script>// Copyright 2017 Google LLC\n",
              "//\n",
              "// Licensed under the Apache License, Version 2.0 (the \"License\");\n",
              "// you may not use this file except in compliance with the License.\n",
              "// You may obtain a copy of the License at\n",
              "//\n",
              "//      http://www.apache.org/licenses/LICENSE-2.0\n",
              "//\n",
              "// Unless required by applicable law or agreed to in writing, software\n",
              "// distributed under the License is distributed on an \"AS IS\" BASIS,\n",
              "// WITHOUT WARRANTIES OR CONDITIONS OF ANY KIND, either express or implied.\n",
              "// See the License for the specific language governing permissions and\n",
              "// limitations under the License.\n",
              "\n",
              "/**\n",
              " * @fileoverview Helpers for google.colab Python module.\n",
              " */\n",
              "(function(scope) {\n",
              "function span(text, styleAttributes = {}) {\n",
              "  const element = document.createElement('span');\n",
              "  element.textContent = text;\n",
              "  for (const key of Object.keys(styleAttributes)) {\n",
              "    element.style[key] = styleAttributes[key];\n",
              "  }\n",
              "  return element;\n",
              "}\n",
              "\n",
              "// Max number of bytes which will be uploaded at a time.\n",
              "const MAX_PAYLOAD_SIZE = 100 * 1024;\n",
              "\n",
              "function _uploadFiles(inputId, outputId) {\n",
              "  const steps = uploadFilesStep(inputId, outputId);\n",
              "  const outputElement = document.getElementById(outputId);\n",
              "  // Cache steps on the outputElement to make it available for the next call\n",
              "  // to uploadFilesContinue from Python.\n",
              "  outputElement.steps = steps;\n",
              "\n",
              "  return _uploadFilesContinue(outputId);\n",
              "}\n",
              "\n",
              "// This is roughly an async generator (not supported in the browser yet),\n",
              "// where there are multiple asynchronous steps and the Python side is going\n",
              "// to poll for completion of each step.\n",
              "// This uses a Promise to block the python side on completion of each step,\n",
              "// then passes the result of the previous step as the input to the next step.\n",
              "function _uploadFilesContinue(outputId) {\n",
              "  const outputElement = document.getElementById(outputId);\n",
              "  const steps = outputElement.steps;\n",
              "\n",
              "  const next = steps.next(outputElement.lastPromiseValue);\n",
              "  return Promise.resolve(next.value.promise).then((value) => {\n",
              "    // Cache the last promise value to make it available to the next\n",
              "    // step of the generator.\n",
              "    outputElement.lastPromiseValue = value;\n",
              "    return next.value.response;\n",
              "  });\n",
              "}\n",
              "\n",
              "/**\n",
              " * Generator function which is called between each async step of the upload\n",
              " * process.\n",
              " * @param {string} inputId Element ID of the input file picker element.\n",
              " * @param {string} outputId Element ID of the output display.\n",
              " * @return {!Iterable<!Object>} Iterable of next steps.\n",
              " */\n",
              "function* uploadFilesStep(inputId, outputId) {\n",
              "  const inputElement = document.getElementById(inputId);\n",
              "  inputElement.disabled = false;\n",
              "\n",
              "  const outputElement = document.getElementById(outputId);\n",
              "  outputElement.innerHTML = '';\n",
              "\n",
              "  const pickedPromise = new Promise((resolve) => {\n",
              "    inputElement.addEventListener('change', (e) => {\n",
              "      resolve(e.target.files);\n",
              "    });\n",
              "  });\n",
              "\n",
              "  const cancel = document.createElement('button');\n",
              "  inputElement.parentElement.appendChild(cancel);\n",
              "  cancel.textContent = 'Cancel upload';\n",
              "  const cancelPromise = new Promise((resolve) => {\n",
              "    cancel.onclick = () => {\n",
              "      resolve(null);\n",
              "    };\n",
              "  });\n",
              "\n",
              "  // Wait for the user to pick the files.\n",
              "  const files = yield {\n",
              "    promise: Promise.race([pickedPromise, cancelPromise]),\n",
              "    response: {\n",
              "      action: 'starting',\n",
              "    }\n",
              "  };\n",
              "\n",
              "  cancel.remove();\n",
              "\n",
              "  // Disable the input element since further picks are not allowed.\n",
              "  inputElement.disabled = true;\n",
              "\n",
              "  if (!files) {\n",
              "    return {\n",
              "      response: {\n",
              "        action: 'complete',\n",
              "      }\n",
              "    };\n",
              "  }\n",
              "\n",
              "  for (const file of files) {\n",
              "    const li = document.createElement('li');\n",
              "    li.append(span(file.name, {fontWeight: 'bold'}));\n",
              "    li.append(span(\n",
              "        `(${file.type || 'n/a'}) - ${file.size} bytes, ` +\n",
              "        `last modified: ${\n",
              "            file.lastModifiedDate ? file.lastModifiedDate.toLocaleDateString() :\n",
              "                                    'n/a'} - `));\n",
              "    const percent = span('0% done');\n",
              "    li.appendChild(percent);\n",
              "\n",
              "    outputElement.appendChild(li);\n",
              "\n",
              "    const fileDataPromise = new Promise((resolve) => {\n",
              "      const reader = new FileReader();\n",
              "      reader.onload = (e) => {\n",
              "        resolve(e.target.result);\n",
              "      };\n",
              "      reader.readAsArrayBuffer(file);\n",
              "    });\n",
              "    // Wait for the data to be ready.\n",
              "    let fileData = yield {\n",
              "      promise: fileDataPromise,\n",
              "      response: {\n",
              "        action: 'continue',\n",
              "      }\n",
              "    };\n",
              "\n",
              "    // Use a chunked sending to avoid message size limits. See b/62115660.\n",
              "    let position = 0;\n",
              "    do {\n",
              "      const length = Math.min(fileData.byteLength - position, MAX_PAYLOAD_SIZE);\n",
              "      const chunk = new Uint8Array(fileData, position, length);\n",
              "      position += length;\n",
              "\n",
              "      const base64 = btoa(String.fromCharCode.apply(null, chunk));\n",
              "      yield {\n",
              "        response: {\n",
              "          action: 'append',\n",
              "          file: file.name,\n",
              "          data: base64,\n",
              "        },\n",
              "      };\n",
              "\n",
              "      let percentDone = fileData.byteLength === 0 ?\n",
              "          100 :\n",
              "          Math.round((position / fileData.byteLength) * 100);\n",
              "      percent.textContent = `${percentDone}% done`;\n",
              "\n",
              "    } while (position < fileData.byteLength);\n",
              "  }\n",
              "\n",
              "  // All done.\n",
              "  yield {\n",
              "    response: {\n",
              "      action: 'complete',\n",
              "    }\n",
              "  };\n",
              "}\n",
              "\n",
              "scope.google = scope.google || {};\n",
              "scope.google.colab = scope.google.colab || {};\n",
              "scope.google.colab._files = {\n",
              "  _uploadFiles,\n",
              "  _uploadFilesContinue,\n",
              "};\n",
              "})(self);\n",
              "</script> "
            ]
          },
          "metadata": {}
        },
        {
          "output_type": "stream",
          "name": "stdout",
          "text": [
            "Saving cuse_binary.csv to cuse_binary.csv\n"
          ]
        },
        {
          "output_type": "execute_result",
          "data": {
            "text/plain": [
              "{'cuse_binary.csv': b'\"age\",\"education\",\"wantsMore\",\"y\"\\n\"<25\",\"low\",\"yes\",0\\n\"<25\",\"low\",\"yes\",0\\n\"<25\",\"low\",\"yes\",0\\n\"<25\",\"low\",\"yes\",0\\n\"<25\",\"low\",\"yes\",0\\n\"<25\",\"low\",\"yes\",0\\n\"<25\",\"low\",\"yes\",0\\n\"<25\",\"low\",\"yes\",0\\n\"<25\",\"low\",\"yes\",0\\n\"<25\",\"low\",\"yes\",0\\n\"<25\",\"low\",\"yes\",0\\n\"<25\",\"low\",\"yes\",0\\n\"<25\",\"low\",\"yes\",0\\n\"<25\",\"low\",\"yes\",0\\n\"<25\",\"low\",\"yes\",0\\n\"<25\",\"low\",\"yes\",0\\n\"<25\",\"low\",\"yes\",0\\n\"<25\",\"low\",\"yes\",0\\n\"<25\",\"low\",\"yes\",0\\n\"<25\",\"low\",\"yes\",0\\n\"<25\",\"low\",\"yes\",0\\n\"<25\",\"low\",\"yes\",0\\n\"<25\",\"low\",\"yes\",0\\n\"<25\",\"low\",\"yes\",0\\n\"<25\",\"low\",\"yes\",0\\n\"<25\",\"low\",\"yes\",0\\n\"<25\",\"low\",\"yes\",0\\n\"<25\",\"low\",\"yes\",0\\n\"<25\",\"low\",\"yes\",0\\n\"<25\",\"low\",\"yes\",0\\n\"<25\",\"low\",\"yes\",0\\n\"<25\",\"low\",\"yes\",0\\n\"<25\",\"low\",\"yes\",0\\n\"<25\",\"low\",\"yes\",0\\n\"<25\",\"low\",\"yes\",0\\n\"<25\",\"low\",\"yes\",0\\n\"<25\",\"low\",\"yes\",0\\n\"<25\",\"low\",\"yes\",0\\n\"<25\",\"low\",\"yes\",0\\n\"<25\",\"low\",\"yes\",0\\n\"<25\",\"low\",\"yes\",0\\n\"<25\",\"low\",\"yes\",0\\n\"<25\",\"low\",\"yes\",0\\n\"<25\",\"low\",\"yes\",0\\n\"<25\",\"low\",\"yes\",0\\n\"<25\",\"low\",\"yes\",0\\n\"<25\",\"low\",\"yes\",0\\n\"<25\",\"low\",\"yes\",0\\n\"<25\",\"low\",\"yes\",0\\n\"<25\",\"low\",\"yes\",0\\n\"<25\",\"low\",\"yes\",0\\n\"<25\",\"low\",\"yes\",0\\n\"<25\",\"low\",\"yes\",0\\n\"<25\",\"low\",\"no\",0\\n\"<25\",\"low\",\"no\",0\\n\"<25\",\"low\",\"no\",0\\n\"<25\",\"low\",\"no\",0\\n\"<25\",\"low\",\"no\",0\\n\"<25\",\"low\",\"no\",0\\n\"<25\",\"low\",\"no\",0\\n\"<25\",\"low\",\"no\",0\\n\"<25\",\"low\",\"no\",0\\n\"<25\",\"low\",\"no\",0\\n\"<25\",\"high\",\"yes\",0\\n\"<25\",\"high\",\"yes\",0\\n\"<25\",\"high\",\"yes\",0\\n\"<25\",\"high\",\"yes\",0\\n\"<25\",\"high\",\"yes\",0\\n\"<25\",\"high\",\"yes\",0\\n\"<25\",\"high\",\"yes\",0\\n\"<25\",\"high\",\"yes\",0\\n\"<25\",\"high\",\"yes\",0\\n\"<25\",\"high\",\"yes\",0\\n\"<25\",\"high\",\"yes\",0\\n\"<25\",\"high\",\"yes\",0\\n\"<25\",\"high\",\"yes\",0\\n\"<25\",\"high\",\"yes\",0\\n\"<25\",\"high\",\"yes\",0\\n\"<25\",\"high\",\"yes\",0\\n\"<25\",\"high\",\"yes\",0\\n\"<25\",\"high\",\"yes\",0\\n\"<25\",\"high\",\"yes\",0\\n\"<25\",\"high\",\"yes\",0\\n\"<25\",\"high\",\"yes\",0\\n\"<25\",\"high\",\"yes\",0\\n\"<25\",\"high\",\"yes\",0\\n\"<25\",\"high\",\"yes\",0\\n\"<25\",\"high\",\"yes\",0\\n\"<25\",\"high\",\"yes\",0\\n\"<25\",\"high\",\"yes\",0\\n\"<25\",\"high\",\"yes\",0\\n\"<25\",\"high\",\"yes\",0\\n\"<25\",\"high\",\"yes\",0\\n\"<25\",\"high\",\"yes\",0\\n\"<25\",\"high\",\"yes\",0\\n\"<25\",\"high\",\"yes\",0\\n\"<25\",\"high\",\"yes\",0\\n\"<25\",\"high\",\"yes\",0\\n\"<25\",\"high\",\"yes\",0\\n\"<25\",\"high\",\"yes\",0\\n\"<25\",\"high\",\"yes\",0\\n\"<25\",\"high\",\"yes\",0\\n\"<25\",\"high\",\"yes\",0\\n\"<25\",\"high\",\"yes\",0\\n\"<25\",\"high\",\"yes\",0\\n\"<25\",\"high\",\"yes\",0\\n\"<25\",\"high\",\"yes\",0\\n\"<25\",\"high\",\"yes\",0\\n\"<25\",\"high\",\"yes\",0\\n\"<25\",\"high\",\"yes\",0\\n\"<25\",\"high\",\"yes\",0\\n\"<25\",\"high\",\"yes\",0\\n\"<25\",\"high\",\"yes\",0\\n\"<25\",\"high\",\"yes\",0\\n\"<25\",\"high\",\"yes\",0\\n\"<25\",\"high\",\"yes\",0\\n\"<25\",\"high\",\"yes\",0\\n\"<25\",\"high\",\"yes\",0\\n\"<25\",\"high\",\"yes\",0\\n\"<25\",\"high\",\"yes\",0\\n\"<25\",\"high\",\"yes\",0\\n\"<25\",\"high\",\"yes\",0\\n\"<25\",\"high\",\"yes\",0\\n\"<25\",\"high\",\"yes\",0\\n\"<25\",\"high\",\"yes\",0\\n\"<25\",\"high\",\"yes\",0\\n\"<25\",\"high\",\"yes\",0\\n\"<25\",\"high\",\"yes\",0\\n\"<25\",\"high\",\"yes\",0\\n\"<25\",\"high\",\"yes\",0\\n\"<25\",\"high\",\"yes\",0\\n\"<25\",\"high\",\"yes\",0\\n\"<25\",\"high\",\"yes\",0\\n\"<25\",\"high\",\"yes\",0\\n\"<25\",\"high\",\"yes\",0\\n\"<25\",\"high\",\"yes\",0\\n\"<25\",\"high\",\"yes\",0\\n\"<25\",\"high\",\"yes\",0\\n\"<25\",\"high\",\"yes\",0\\n\"<25\",\"high\",\"yes\",0\\n\"<25\",\"high\",\"yes\",0\\n\"<25\",\"high\",\"yes\",0\\n\"<25\",\"high\",\"yes\",0\\n\"<25\",\"high\",\"yes\",0\\n\"<25\",\"high\",\"yes\",0\\n\"<25\",\"high\",\"yes\",0\\n\"<25\",\"high\",\"yes\",0\\n\"<25\",\"high\",\"yes\",0\\n\"<25\",\"high\",\"yes\",0\\n\"<25\",\"high\",\"yes\",0\\n\"<25\",\"high\",\"yes\",0\\n\"<25\",\"high\",\"yes\",0\\n\"<25\",\"high\",\"yes\",0\\n\"<25\",\"high\",\"yes\",0\\n\"<25\",\"high\",\"yes\",0\\n\"<25\",\"high\",\"yes\",0\\n\"<25\",\"high\",\"yes\",0\\n\"<25\",\"high\",\"yes\",0\\n\"<25\",\"high\",\"yes\",0\\n\"<25\",\"high\",\"yes\",0\\n\"<25\",\"high\",\"yes\",0\\n\"<25\",\"high\",\"yes\",0\\n\"<25\",\"high\",\"yes\",0\\n\"<25\",\"high\",\"yes\",0\\n\"<25\",\"high\",\"yes\",0\\n\"<25\",\"high\",\"yes\",0\\n\"<25\",\"high\",\"yes\",0\\n\"<25\",\"high\",\"yes\",0\\n\"<25\",\"high\",\"yes\",0\\n\"<25\",\"high\",\"yes\",0\\n\"<25\",\"high\",\"yes\",0\\n\"<25\",\"high\",\"yes\",0\\n\"<25\",\"high\",\"yes\",0\\n\"<25\",\"high\",\"yes\",0\\n\"<25\",\"high\",\"yes\",0\\n\"<25\",\"high\",\"yes\",0\\n\"<25\",\"high\",\"yes\",0\\n\"<25\",\"high\",\"yes\",0\\n\"<25\",\"high\",\"yes\",0\\n\"<25\",\"high\",\"yes\",0\\n\"<25\",\"high\",\"yes\",0\\n\"<25\",\"high\",\"yes\",0\\n\"<25\",\"high\",\"yes\",0\\n\"<25\",\"high\",\"yes\",0\\n\"<25\",\"high\",\"yes\",0\\n\"<25\",\"high\",\"yes\",0\\n\"<25\",\"high\",\"yes\",0\\n\"<25\",\"high\",\"yes\",0\\n\"<25\",\"high\",\"yes\",0\\n\"<25\",\"high\",\"yes\",0\\n\"<25\",\"high\",\"yes\",0\\n\"<25\",\"high\",\"yes\",0\\n\"<25\",\"high\",\"yes\",0\\n\"<25\",\"high\",\"yes\",0\\n\"<25\",\"high\",\"yes\",0\\n\"<25\",\"high\",\"yes\",0\\n\"<25\",\"high\",\"yes\",0\\n\"<25\",\"high\",\"yes\",0\\n\"<25\",\"high\",\"yes\",0\\n\"<25\",\"high\",\"yes\",0\\n\"<25\",\"high\",\"yes\",0\\n\"<25\",\"high\",\"yes\",0\\n\"<25\",\"high\",\"yes\",0\\n\"<25\",\"high\",\"yes\",0\\n\"<25\",\"high\",\"yes\",0\\n\"<25\",\"high\",\"yes\",0\\n\"<25\",\"high\",\"yes\",0\\n\"<25\",\"high\",\"yes\",0\\n\"<25\",\"high\",\"yes\",0\\n\"<25\",\"high\",\"yes\",0\\n\"<25\",\"high\",\"yes\",0\\n\"<25\",\"high\",\"yes\",0\\n\"<25\",\"high\",\"yes\",0\\n\"<25\",\"high\",\"yes\",0\\n\"<25\",\"high\",\"yes\",0\\n\"<25\",\"high\",\"yes\",0\\n\"<25\",\"high\",\"yes\",0\\n\"<25\",\"high\",\"yes\",0\\n\"<25\",\"high\",\"yes\",0\\n\"<25\",\"high\",\"yes\",0\\n\"<25\",\"high\",\"yes\",0\\n\"<25\",\"high\",\"yes\",0\\n\"<25\",\"high\",\"yes\",0\\n\"<25\",\"high\",\"yes\",0\\n\"<25\",\"high\",\"yes\",0\\n\"<25\",\"high\",\"yes\",0\\n\"<25\",\"high\",\"yes\",0\\n\"<25\",\"high\",\"yes\",0\\n\"<25\",\"high\",\"yes\",0\\n\"<25\",\"high\",\"yes\",0\\n\"<25\",\"high\",\"yes\",0\\n\"<25\",\"high\",\"yes\",0\\n\"<25\",\"high\",\"yes\",0\\n\"<25\",\"high\",\"yes\",0\\n\"<25\",\"high\",\"yes\",0\\n\"<25\",\"high\",\"yes\",0\\n\"<25\",\"high\",\"yes\",0\\n\"<25\",\"high\",\"yes\",0\\n\"<25\",\"high\",\"yes\",0\\n\"<25\",\"high\",\"yes\",0\\n\"<25\",\"high\",\"yes\",0\\n\"<25\",\"high\",\"yes\",0\\n\"<25\",\"high\",\"yes\",0\\n\"<25\",\"high\",\"yes\",0\\n\"<25\",\"high\",\"yes\",0\\n\"<25\",\"high\",\"yes\",0\\n\"<25\",\"high\",\"yes\",0\\n\"<25\",\"high\",\"yes\",0\\n\"<25\",\"high\",\"yes\",0\\n\"<25\",\"high\",\"yes\",0\\n\"<25\",\"high\",\"yes\",0\\n\"<25\",\"high\",\"yes\",0\\n\"<25\",\"high\",\"yes\",0\\n\"<25\",\"high\",\"yes\",0\\n\"<25\",\"high\",\"yes\",0\\n\"<25\",\"high\",\"yes\",0\\n\"<25\",\"high\",\"yes\",0\\n\"<25\",\"high\",\"yes\",0\\n\"<25\",\"high\",\"yes\",0\\n\"<25\",\"high\",\"yes\",0\\n\"<25\",\"high\",\"yes\",0\\n\"<25\",\"high\",\"yes\",0\\n\"<25\",\"high\",\"yes\",0\\n\"<25\",\"high\",\"yes\",0\\n\"<25\",\"high\",\"yes\",0\\n\"<25\",\"high\",\"yes\",0\\n\"<25\",\"high\",\"yes\",0\\n\"<25\",\"high\",\"yes\",0\\n\"<25\",\"high\",\"yes\",0\\n\"<25\",\"high\",\"yes\",0\\n\"<25\",\"high\",\"yes\",0\\n\"<25\",\"high\",\"yes\",0\\n\"<25\",\"high\",\"yes\",0\\n\"<25\",\"high\",\"yes\",0\\n\"<25\",\"high\",\"yes\",0\\n\"<25\",\"high\",\"no\",0\\n\"<25\",\"high\",\"no\",0\\n\"<25\",\"high\",\"no\",0\\n\"<25\",\"high\",\"no\",0\\n\"<25\",\"high\",\"no\",0\\n\"<25\",\"high\",\"no\",0\\n\"<25\",\"high\",\"no\",0\\n\"<25\",\"high\",\"no\",0\\n\"<25\",\"high\",\"no\",0\\n\"<25\",\"high\",\"no\",0\\n\"<25\",\"high\",\"no\",0\\n\"<25\",\"high\",\"no\",0\\n\"<25\",\"high\",\"no\",0\\n\"<25\",\"high\",\"no\",0\\n\"<25\",\"high\",\"no\",0\\n\"<25\",\"high\",\"no\",0\\n\"<25\",\"high\",\"no\",0\\n\"<25\",\"high\",\"no\",0\\n\"<25\",\"high\",\"no\",0\\n\"<25\",\"high\",\"no\",0\\n\"<25\",\"high\",\"no\",0\\n\"<25\",\"high\",\"no\",0\\n\"<25\",\"high\",\"no\",0\\n\"<25\",\"high\",\"no\",0\\n\"<25\",\"high\",\"no\",0\\n\"<25\",\"high\",\"no\",0\\n\"<25\",\"high\",\"no\",0\\n\"<25\",\"high\",\"no\",0\\n\"<25\",\"high\",\"no\",0\\n\"<25\",\"high\",\"no\",0\\n\"<25\",\"high\",\"no\",0\\n\"<25\",\"high\",\"no\",0\\n\"<25\",\"high\",\"no\",0\\n\"<25\",\"high\",\"no\",0\\n\"<25\",\"high\",\"no\",0\\n\"<25\",\"high\",\"no\",0\\n\"<25\",\"high\",\"no\",0\\n\"<25\",\"high\",\"no\",0\\n\"<25\",\"high\",\"no\",0\\n\"<25\",\"high\",\"no\",0\\n\"<25\",\"high\",\"no\",0\\n\"<25\",\"high\",\"no\",0\\n\"<25\",\"high\",\"no\",0\\n\"<25\",\"high\",\"no\",0\\n\"<25\",\"high\",\"no\",0\\n\"<25\",\"high\",\"no\",0\\n\"<25\",\"high\",\"no\",0\\n\"<25\",\"high\",\"no\",0\\n\"<25\",\"high\",\"no\",0\\n\"<25\",\"high\",\"no\",0\\n\"25-29\",\"low\",\"yes\",0\\n\"25-29\",\"low\",\"yes\",0\\n\"25-29\",\"low\",\"yes\",0\\n\"25-29\",\"low\",\"yes\",0\\n\"25-29\",\"low\",\"yes\",0\\n\"25-29\",\"low\",\"yes\",0\\n\"25-29\",\"low\",\"yes\",0\\n\"25-29\",\"low\",\"yes\",0\\n\"25-29\",\"low\",\"yes\",0\\n\"25-29\",\"low\",\"yes\",0\\n\"25-29\",\"low\",\"yes\",0\\n\"25-29\",\"low\",\"yes\",0\\n\"25-29\",\"low\",\"yes\",0\\n\"25-29\",\"low\",\"yes\",0\\n\"25-29\",\"low\",\"yes\",0\\n\"25-29\",\"low\",\"yes\",0\\n\"25-29\",\"low\",\"yes\",0\\n\"25-29\",\"low\",\"yes\",0\\n\"25-29\",\"low\",\"yes\",0\\n\"25-29\",\"low\",\"yes\",0\\n\"25-29\",\"low\",\"yes\",0\\n\"25-29\",\"low\",\"yes\",0\\n\"25-29\",\"low\",\"yes\",0\\n\"25-29\",\"low\",\"yes\",0\\n\"25-29\",\"low\",\"yes\",0\\n\"25-29\",\"low\",\"yes\",0\\n\"25-29\",\"low\",\"yes\",0\\n\"25-29\",\"low\",\"yes\",0\\n\"25-29\",\"low\",\"yes\",0\\n\"25-29\",\"low\",\"yes\",0\\n\"25-29\",\"low\",\"yes\",0\\n\"25-29\",\"low\",\"yes\",0\\n\"25-29\",\"low\",\"yes\",0\\n\"25-29\",\"low\",\"yes\",0\\n\"25-29\",\"low\",\"yes\",0\\n\"25-29\",\"low\",\"yes\",0\\n\"25-29\",\"low\",\"yes\",0\\n\"25-29\",\"low\",\"yes\",0\\n\"25-29\",\"low\",\"yes\",0\\n\"25-29\",\"low\",\"yes\",0\\n\"25-29\",\"low\",\"yes\",0\\n\"25-29\",\"low\",\"yes\",0\\n\"25-29\",\"low\",\"yes\",0\\n\"25-29\",\"low\",\"yes\",0\\n\"25-29\",\"low\",\"yes\",0\\n\"25-29\",\"low\",\"yes\",0\\n\"25-29\",\"low\",\"yes\",0\\n\"25-29\",\"low\",\"yes\",0\\n\"25-29\",\"low\",\"yes\",0\\n\"25-29\",\"low\",\"yes\",0\\n\"25-29\",\"low\",\"yes\",0\\n\"25-29\",\"low\",\"yes\",0\\n\"25-29\",\"low\",\"yes\",0\\n\"25-29\",\"low\",\"yes\",0\\n\"25-29\",\"low\",\"yes\",0\\n\"25-29\",\"low\",\"yes\",0\\n\"25-29\",\"low\",\"yes\",0\\n\"25-29\",\"low\",\"yes\",0\\n\"25-29\",\"low\",\"yes\",0\\n\"25-29\",\"low\",\"yes\",0\\n\"25-29\",\"low\",\"no\",0\\n\"25-29\",\"low\",\"no\",0\\n\"25-29\",\"low\",\"no\",0\\n\"25-29\",\"low\",\"no\",0\\n\"25-29\",\"low\",\"no\",0\\n\"25-29\",\"low\",\"no\",0\\n\"25-29\",\"low\",\"no\",0\\n\"25-29\",\"low\",\"no\",0\\n\"25-29\",\"low\",\"no\",0\\n\"25-29\",\"low\",\"no\",0\\n\"25-29\",\"low\",\"no\",0\\n\"25-29\",\"low\",\"no\",0\\n\"25-29\",\"low\",\"no\",0\\n\"25-29\",\"low\",\"no\",0\\n\"25-29\",\"low\",\"no\",0\\n\"25-29\",\"low\",\"no\",0\\n\"25-29\",\"low\",\"no\",0\\n\"25-29\",\"low\",\"no\",0\\n\"25-29\",\"low\",\"no\",0\\n\"25-29\",\"high\",\"yes\",0\\n\"25-29\",\"high\",\"yes\",0\\n\"25-29\",\"high\",\"yes\",0\\n\"25-29\",\"high\",\"yes\",0\\n\"25-29\",\"high\",\"yes\",0\\n\"25-29\",\"high\",\"yes\",0\\n\"25-29\",\"high\",\"yes\",0\\n\"25-29\",\"high\",\"yes\",0\\n\"25-29\",\"high\",\"yes\",0\\n\"25-29\",\"high\",\"yes\",0\\n\"25-29\",\"high\",\"yes\",0\\n\"25-29\",\"high\",\"yes\",0\\n\"25-29\",\"high\",\"yes\",0\\n\"25-29\",\"high\",\"yes\",0\\n\"25-29\",\"high\",\"yes\",0\\n\"25-29\",\"high\",\"yes\",0\\n\"25-29\",\"high\",\"yes\",0\\n\"25-29\",\"high\",\"yes\",0\\n\"25-29\",\"high\",\"yes\",0\\n\"25-29\",\"high\",\"yes\",0\\n\"25-29\",\"high\",\"yes\",0\\n\"25-29\",\"high\",\"yes\",0\\n\"25-29\",\"high\",\"yes\",0\\n\"25-29\",\"high\",\"yes\",0\\n\"25-29\",\"high\",\"yes\",0\\n\"25-29\",\"high\",\"yes\",0\\n\"25-29\",\"high\",\"yes\",0\\n\"25-29\",\"high\",\"yes\",0\\n\"25-29\",\"high\",\"yes\",0\\n\"25-29\",\"high\",\"yes\",0\\n\"25-29\",\"high\",\"yes\",0\\n\"25-29\",\"high\",\"yes\",0\\n\"25-29\",\"high\",\"yes\",0\\n\"25-29\",\"high\",\"yes\",0\\n\"25-29\",\"high\",\"yes\",0\\n\"25-29\",\"high\",\"yes\",0\\n\"25-29\",\"high\",\"yes\",0\\n\"25-29\",\"high\",\"yes\",0\\n\"25-29\",\"high\",\"yes\",0\\n\"25-29\",\"high\",\"yes\",0\\n\"25-29\",\"high\",\"yes\",0\\n\"25-29\",\"high\",\"yes\",0\\n\"25-29\",\"high\",\"yes\",0\\n\"25-29\",\"high\",\"yes\",0\\n\"25-29\",\"high\",\"yes\",0\\n\"25-29\",\"high\",\"yes\",0\\n\"25-29\",\"high\",\"yes\",0\\n\"25-29\",\"high\",\"yes\",0\\n\"25-29\",\"high\",\"yes\",0\\n\"25-29\",\"high\",\"yes\",0\\n\"25-29\",\"high\",\"yes\",0\\n\"25-29\",\"high\",\"yes\",0\\n\"25-29\",\"high\",\"yes\",0\\n\"25-29\",\"high\",\"yes\",0\\n\"25-29\",\"high\",\"yes\",0\\n\"25-29\",\"high\",\"yes\",0\\n\"25-29\",\"high\",\"yes\",0\\n\"25-29\",\"high\",\"yes\",0\\n\"25-29\",\"high\",\"yes\",0\\n\"25-29\",\"high\",\"yes\",0\\n\"25-29\",\"high\",\"yes\",0\\n\"25-29\",\"high\",\"yes\",0\\n\"25-29\",\"high\",\"yes\",0\\n\"25-29\",\"high\",\"yes\",0\\n\"25-29\",\"high\",\"yes\",0\\n\"25-29\",\"high\",\"yes\",0\\n\"25-29\",\"high\",\"yes\",0\\n\"25-29\",\"high\",\"yes\",0\\n\"25-29\",\"high\",\"yes\",0\\n\"25-29\",\"high\",\"yes\",0\\n\"25-29\",\"high\",\"yes\",0\\n\"25-29\",\"high\",\"yes\",0\\n\"25-29\",\"high\",\"yes\",0\\n\"25-29\",\"high\",\"yes\",0\\n\"25-29\",\"high\",\"yes\",0\\n\"25-29\",\"high\",\"yes\",0\\n\"25-29\",\"high\",\"yes\",0\\n\"25-29\",\"high\",\"yes\",0\\n\"25-29\",\"high\",\"yes\",0\\n\"25-29\",\"high\",\"yes\",0\\n\"25-29\",\"high\",\"yes\",0\\n\"25-29\",\"high\",\"yes\",0\\n\"25-29\",\"high\",\"yes\",0\\n\"25-29\",\"high\",\"yes\",0\\n\"25-29\",\"high\",\"yes\",0\\n\"25-29\",\"high\",\"yes\",0\\n\"25-29\",\"high\",\"yes\",0\\n\"25-29\",\"high\",\"yes\",0\\n\"25-29\",\"high\",\"yes\",0\\n\"25-29\",\"high\",\"yes\",0\\n\"25-29\",\"high\",\"yes\",0\\n\"25-29\",\"high\",\"yes\",0\\n\"25-29\",\"high\",\"yes\",0\\n\"25-29\",\"high\",\"yes\",0\\n\"25-29\",\"high\",\"yes\",0\\n\"25-29\",\"high\",\"yes\",0\\n\"25-29\",\"high\",\"yes\",0\\n\"25-29\",\"high\",\"yes\",0\\n\"25-29\",\"high\",\"yes\",0\\n\"25-29\",\"high\",\"yes\",0\\n\"25-29\",\"high\",\"yes\",0\\n\"25-29\",\"high\",\"yes\",0\\n\"25-29\",\"high\",\"yes\",0\\n\"25-29\",\"high\",\"yes\",0\\n\"25-29\",\"high\",\"yes\",0\\n\"25-29\",\"high\",\"yes\",0\\n\"25-29\",\"high\",\"yes\",0\\n\"25-29\",\"high\",\"yes\",0\\n\"25-29\",\"high\",\"yes\",0\\n\"25-29\",\"high\",\"yes\",0\\n\"25-29\",\"high\",\"yes\",0\\n\"25-29\",\"high\",\"yes\",0\\n\"25-29\",\"high\",\"yes\",0\\n\"25-29\",\"high\",\"yes\",0\\n\"25-29\",\"high\",\"yes\",0\\n\"25-29\",\"high\",\"yes\",0\\n\"25-29\",\"high\",\"yes\",0\\n\"25-29\",\"high\",\"yes\",0\\n\"25-29\",\"high\",\"yes\",0\\n\"25-29\",\"high\",\"yes\",0\\n\"25-29\",\"high\",\"yes\",0\\n\"25-29\",\"high\",\"yes\",0\\n\"25-29\",\"high\",\"yes\",0\\n\"25-29\",\"high\",\"yes\",0\\n\"25-29\",\"high\",\"yes\",0\\n\"25-29\",\"high\",\"yes\",0\\n\"25-29\",\"high\",\"yes\",0\\n\"25-29\",\"high\",\"yes\",0\\n\"25-29\",\"high\",\"yes\",0\\n\"25-29\",\"high\",\"yes\",0\\n\"25-29\",\"high\",\"yes\",0\\n\"25-29\",\"high\",\"yes\",0\\n\"25-29\",\"high\",\"yes\",0\\n\"25-29\",\"high\",\"yes\",0\\n\"25-29\",\"high\",\"yes\",0\\n\"25-29\",\"high\",\"yes\",0\\n\"25-29\",\"high\",\"yes\",0\\n\"25-29\",\"high\",\"yes\",0\\n\"25-29\",\"high\",\"yes\",0\\n\"25-29\",\"high\",\"yes\",0\\n\"25-29\",\"high\",\"yes\",0\\n\"25-29\",\"high\",\"yes\",0\\n\"25-29\",\"high\",\"yes\",0\\n\"25-29\",\"high\",\"yes\",0\\n\"25-29\",\"high\",\"yes\",0\\n\"25-29\",\"high\",\"yes\",0\\n\"25-29\",\"high\",\"yes\",0\\n\"25-29\",\"high\",\"yes\",0\\n\"25-29\",\"high\",\"yes\",0\\n\"25-29\",\"high\",\"yes\",0\\n\"25-29\",\"high\",\"yes\",0\\n\"25-29\",\"high\",\"yes\",0\\n\"25-29\",\"high\",\"yes\",0\\n\"25-29\",\"high\",\"yes\",0\\n\"25-29\",\"high\",\"yes\",0\\n\"25-29\",\"high\",\"no\",0\\n\"25-29\",\"high\",\"no\",0\\n\"25-29\",\"high\",\"no\",0\\n\"25-29\",\"high\",\"no\",0\\n\"25-29\",\"high\",\"no\",0\\n\"25-29\",\"high\",\"no\",0\\n\"25-29\",\"high\",\"no\",0\\n\"25-29\",\"high\",\"no\",0\\n\"25-29\",\"high\",\"no\",0\\n\"25-29\",\"high\",\"no\",0\\n\"25-29\",\"high\",\"no\",0\\n\"25-29\",\"high\",\"no\",0\\n\"25-29\",\"high\",\"no\",0\\n\"25-29\",\"high\",\"no\",0\\n\"25-29\",\"high\",\"no\",0\\n\"25-29\",\"high\",\"no\",0\\n\"25-29\",\"high\",\"no\",0\\n\"25-29\",\"high\",\"no\",0\\n\"25-29\",\"high\",\"no\",0\\n\"25-29\",\"high\",\"no\",0\\n\"25-29\",\"high\",\"no\",0\\n\"25-29\",\"high\",\"no\",0\\n\"25-29\",\"high\",\"no\",0\\n\"25-29\",\"high\",\"no\",0\\n\"25-29\",\"high\",\"no\",0\\n\"25-29\",\"high\",\"no\",0\\n\"25-29\",\"high\",\"no\",0\\n\"25-29\",\"high\",\"no\",0\\n\"25-29\",\"high\",\"no\",0\\n\"25-29\",\"high\",\"no\",0\\n\"25-29\",\"high\",\"no\",0\\n\"25-29\",\"high\",\"no\",0\\n\"25-29\",\"high\",\"no\",0\\n\"25-29\",\"high\",\"no\",0\\n\"25-29\",\"high\",\"no\",0\\n\"25-29\",\"high\",\"no\",0\\n\"25-29\",\"high\",\"no\",0\\n\"25-29\",\"high\",\"no\",0\\n\"25-29\",\"high\",\"no\",0\\n\"25-29\",\"high\",\"no\",0\\n\"25-29\",\"high\",\"no\",0\\n\"25-29\",\"high\",\"no\",0\\n\"25-29\",\"high\",\"no\",0\\n\"25-29\",\"high\",\"no\",0\\n\"25-29\",\"high\",\"no\",0\\n\"25-29\",\"high\",\"no\",0\\n\"25-29\",\"high\",\"no\",0\\n\"25-29\",\"high\",\"no\",0\\n\"25-29\",\"high\",\"no\",0\\n\"25-29\",\"high\",\"no\",0\\n\"25-29\",\"high\",\"no\",0\\n\"25-29\",\"high\",\"no\",0\\n\"25-29\",\"high\",\"no\",0\\n\"25-29\",\"high\",\"no\",0\\n\"25-29\",\"high\",\"no\",0\\n\"25-29\",\"high\",\"no\",0\\n\"25-29\",\"high\",\"no\",0\\n\"25-29\",\"high\",\"no\",0\\n\"25-29\",\"high\",\"no\",0\\n\"25-29\",\"high\",\"no\",0\\n\"25-29\",\"high\",\"no\",0\\n\"25-29\",\"high\",\"no\",0\\n\"25-29\",\"high\",\"no\",0\\n\"25-29\",\"high\",\"no\",0\\n\"25-29\",\"high\",\"no\",0\\n\"30-39\",\"low\",\"yes\",0\\n\"30-39\",\"low\",\"yes\",0\\n\"30-39\",\"low\",\"yes\",0\\n\"30-39\",\"low\",\"yes\",0\\n\"30-39\",\"low\",\"yes\",0\\n\"30-39\",\"low\",\"yes\",0\\n\"30-39\",\"low\",\"yes\",0\\n\"30-39\",\"low\",\"yes\",0\\n\"30-39\",\"low\",\"yes\",0\\n\"30-39\",\"low\",\"yes\",0\\n\"30-39\",\"low\",\"yes\",0\\n\"30-39\",\"low\",\"yes\",0\\n\"30-39\",\"low\",\"yes\",0\\n\"30-39\",\"low\",\"yes\",0\\n\"30-39\",\"low\",\"yes\",0\\n\"30-39\",\"low\",\"yes\",0\\n\"30-39\",\"low\",\"yes\",0\\n\"30-39\",\"low\",\"yes\",0\\n\"30-39\",\"low\",\"yes\",0\\n\"30-39\",\"low\",\"yes\",0\\n\"30-39\",\"low\",\"yes\",0\\n\"30-39\",\"low\",\"yes\",0\\n\"30-39\",\"low\",\"yes\",0\\n\"30-39\",\"low\",\"yes\",0\\n\"30-39\",\"low\",\"yes\",0\\n\"30-39\",\"low\",\"yes\",0\\n\"30-39\",\"low\",\"yes\",0\\n\"30-39\",\"low\",\"yes\",0\\n\"30-39\",\"low\",\"yes\",0\\n\"30-39\",\"low\",\"yes\",0\\n\"30-39\",\"low\",\"yes\",0\\n\"30-39\",\"low\",\"yes\",0\\n\"30-39\",\"low\",\"yes\",0\\n\"30-39\",\"low\",\"yes\",0\\n\"30-39\",\"low\",\"yes\",0\\n\"30-39\",\"low\",\"yes\",0\\n\"30-39\",\"low\",\"yes\",0\\n\"30-39\",\"low\",\"yes\",0\\n\"30-39\",\"low\",\"yes\",0\\n\"30-39\",\"low\",\"yes\",0\\n\"30-39\",\"low\",\"yes\",0\\n\"30-39\",\"low\",\"yes\",0\\n\"30-39\",\"low\",\"yes\",0\\n\"30-39\",\"low\",\"yes\",0\\n\"30-39\",\"low\",\"yes\",0\\n\"30-39\",\"low\",\"yes\",0\\n\"30-39\",\"low\",\"yes\",0\\n\"30-39\",\"low\",\"yes\",0\\n\"30-39\",\"low\",\"yes\",0\\n\"30-39\",\"low\",\"yes\",0\\n\"30-39\",\"low\",\"yes\",0\\n\"30-39\",\"low\",\"yes\",0\\n\"30-39\",\"low\",\"yes\",0\\n\"30-39\",\"low\",\"yes\",0\\n\"30-39\",\"low\",\"yes\",0\\n\"30-39\",\"low\",\"yes\",0\\n\"30-39\",\"low\",\"yes\",0\\n\"30-39\",\"low\",\"yes\",0\\n\"30-39\",\"low\",\"yes\",0\\n\"30-39\",\"low\",\"yes\",0\\n\"30-39\",\"low\",\"yes\",0\\n\"30-39\",\"low\",\"yes\",0\\n\"30-39\",\"low\",\"yes\",0\\n\"30-39\",\"low\",\"yes\",0\\n\"30-39\",\"low\",\"yes\",0\\n\"30-39\",\"low\",\"yes\",0\\n\"30-39\",\"low\",\"yes\",0\\n\"30-39\",\"low\",\"yes\",0\\n\"30-39\",\"low\",\"yes\",0\\n\"30-39\",\"low\",\"yes\",0\\n\"30-39\",\"low\",\"yes\",0\\n\"30-39\",\"low\",\"yes\",0\\n\"30-39\",\"low\",\"yes\",0\\n\"30-39\",\"low\",\"yes\",0\\n\"30-39\",\"low\",\"yes\",0\\n\"30-39\",\"low\",\"yes\",0\\n\"30-39\",\"low\",\"yes\",0\\n\"30-39\",\"low\",\"yes\",0\\n\"30-39\",\"low\",\"yes\",0\\n\"30-39\",\"low\",\"yes\",0\\n\"30-39\",\"low\",\"yes\",0\\n\"30-39\",\"low\",\"yes\",0\\n\"30-39\",\"low\",\"yes\",0\\n\"30-39\",\"low\",\"yes\",0\\n\"30-39\",\"low\",\"yes\",0\\n\"30-39\",\"low\",\"yes\",0\\n\"30-39\",\"low\",\"yes\",0\\n\"30-39\",\"low\",\"yes\",0\\n\"30-39\",\"low\",\"yes\",0\\n\"30-39\",\"low\",\"yes\",0\\n\"30-39\",\"low\",\"yes\",0\\n\"30-39\",\"low\",\"yes\",0\\n\"30-39\",\"low\",\"yes\",0\\n\"30-39\",\"low\",\"yes\",0\\n\"30-39\",\"low\",\"yes\",0\\n\"30-39\",\"low\",\"yes\",0\\n\"30-39\",\"low\",\"yes\",0\\n\"30-39\",\"low\",\"yes\",0\\n\"30-39\",\"low\",\"yes\",0\\n\"30-39\",\"low\",\"yes\",0\\n\"30-39\",\"low\",\"yes\",0\\n\"30-39\",\"low\",\"yes\",0\\n\"30-39\",\"low\",\"yes\",0\\n\"30-39\",\"low\",\"yes\",0\\n\"30-39\",\"low\",\"yes\",0\\n\"30-39\",\"low\",\"yes\",0\\n\"30-39\",\"low\",\"yes\",0\\n\"30-39\",\"low\",\"yes\",0\\n\"30-39\",\"low\",\"yes\",0\\n\"30-39\",\"low\",\"yes\",0\\n\"30-39\",\"low\",\"yes\",0\\n\"30-39\",\"low\",\"yes\",0\\n\"30-39\",\"low\",\"no\",0\\n\"30-39\",\"low\",\"no\",0\\n\"30-39\",\"low\",\"no\",0\\n\"30-39\",\"low\",\"no\",0\\n\"30-39\",\"low\",\"no\",0\\n\"30-39\",\"low\",\"no\",0\\n\"30-39\",\"low\",\"no\",0\\n\"30-39\",\"low\",\"no\",0\\n\"30-39\",\"low\",\"no\",0\\n\"30-39\",\"low\",\"no\",0\\n\"30-39\",\"low\",\"no\",0\\n\"30-39\",\"low\",\"no\",0\\n\"30-39\",\"low\",\"no\",0\\n\"30-39\",\"low\",\"no\",0\\n\"30-39\",\"low\",\"no\",0\\n\"30-39\",\"low\",\"no\",0\\n\"30-39\",\"low\",\"no\",0\\n\"30-39\",\"low\",\"no\",0\\n\"30-39\",\"low\",\"no\",0\\n\"30-39\",\"low\",\"no\",0\\n\"30-39\",\"low\",\"no\",0\\n\"30-39\",\"low\",\"no\",0\\n\"30-39\",\"low\",\"no\",0\\n\"30-39\",\"low\",\"no\",0\\n\"30-39\",\"low\",\"no\",0\\n\"30-39\",\"low\",\"no\",0\\n\"30-39\",\"low\",\"no\",0\\n\"30-39\",\"low\",\"no\",0\\n\"30-39\",\"low\",\"no\",0\\n\"30-39\",\"low\",\"no\",0\\n\"30-39\",\"low\",\"no\",0\\n\"30-39\",\"low\",\"no\",0\\n\"30-39\",\"low\",\"no\",0\\n\"30-39\",\"low\",\"no\",0\\n\"30-39\",\"low\",\"no\",0\\n\"30-39\",\"low\",\"no\",0\\n\"30-39\",\"low\",\"no\",0\\n\"30-39\",\"low\",\"no\",0\\n\"30-39\",\"low\",\"no\",0\\n\"30-39\",\"low\",\"no\",0\\n\"30-39\",\"low\",\"no\",0\\n\"30-39\",\"low\",\"no\",0\\n\"30-39\",\"low\",\"no\",0\\n\"30-39\",\"low\",\"no\",0\\n\"30-39\",\"low\",\"no\",0\\n\"30-39\",\"low\",\"no\",0\\n\"30-39\",\"low\",\"no\",0\\n\"30-39\",\"low\",\"no\",0\\n\"30-39\",\"low\",\"no\",0\\n\"30-39\",\"low\",\"no\",0\\n\"30-39\",\"low\",\"no\",0\\n\"30-39\",\"low\",\"no\",0\\n\"30-39\",\"low\",\"no\",0\\n\"30-39\",\"low\",\"no\",0\\n\"30-39\",\"low\",\"no\",0\\n\"30-39\",\"low\",\"no\",0\\n\"30-39\",\"low\",\"no\",0\\n\"30-39\",\"low\",\"no\",0\\n\"30-39\",\"low\",\"no\",0\\n\"30-39\",\"low\",\"no\",0\\n\"30-39\",\"low\",\"no\",0\\n\"30-39\",\"low\",\"no\",0\\n\"30-39\",\"low\",\"no\",0\\n\"30-39\",\"low\",\"no\",0\\n\"30-39\",\"low\",\"no\",0\\n\"30-39\",\"low\",\"no\",0\\n\"30-39\",\"low\",\"no\",0\\n\"30-39\",\"low\",\"no\",0\\n\"30-39\",\"low\",\"no\",0\\n\"30-39\",\"low\",\"no\",0\\n\"30-39\",\"low\",\"no\",0\\n\"30-39\",\"low\",\"no\",0\\n\"30-39\",\"low\",\"no\",0\\n\"30-39\",\"low\",\"no\",0\\n\"30-39\",\"low\",\"no\",0\\n\"30-39\",\"low\",\"no\",0\\n\"30-39\",\"low\",\"no\",0\\n\"30-39\",\"high\",\"yes\",0\\n\"30-39\",\"high\",\"yes\",0\\n\"30-39\",\"high\",\"yes\",0\\n\"30-39\",\"high\",\"yes\",0\\n\"30-39\",\"high\",\"yes\",0\\n\"30-39\",\"high\",\"yes\",0\\n\"30-39\",\"high\",\"yes\",0\\n\"30-39\",\"high\",\"yes\",0\\n\"30-39\",\"high\",\"yes\",0\\n\"30-39\",\"high\",\"yes\",0\\n\"30-39\",\"high\",\"yes\",0\\n\"30-39\",\"high\",\"yes\",0\\n\"30-39\",\"high\",\"yes\",0\\n\"30-39\",\"high\",\"yes\",0\\n\"30-39\",\"high\",\"yes\",0\\n\"30-39\",\"high\",\"yes\",0\\n\"30-39\",\"high\",\"yes\",0\\n\"30-39\",\"high\",\"yes\",0\\n\"30-39\",\"high\",\"yes\",0\\n\"30-39\",\"high\",\"yes\",0\\n\"30-39\",\"high\",\"yes\",0\\n\"30-39\",\"high\",\"yes\",0\\n\"30-39\",\"high\",\"yes\",0\\n\"30-39\",\"high\",\"yes\",0\\n\"30-39\",\"high\",\"yes\",0\\n\"30-39\",\"high\",\"yes\",0\\n\"30-39\",\"high\",\"yes\",0\\n\"30-39\",\"high\",\"yes\",0\\n\"30-39\",\"high\",\"yes\",0\\n\"30-39\",\"high\",\"yes\",0\\n\"30-39\",\"high\",\"yes\",0\\n\"30-39\",\"high\",\"yes\",0\\n\"30-39\",\"high\",\"yes\",0\\n\"30-39\",\"high\",\"yes\",0\\n\"30-39\",\"high\",\"yes\",0\\n\"30-39\",\"high\",\"yes\",0\\n\"30-39\",\"high\",\"yes\",0\\n\"30-39\",\"high\",\"yes\",0\\n\"30-39\",\"high\",\"yes\",0\\n\"30-39\",\"high\",\"yes\",0\\n\"30-39\",\"high\",\"yes\",0\\n\"30-39\",\"high\",\"yes\",0\\n\"30-39\",\"high\",\"yes\",0\\n\"30-39\",\"high\",\"yes\",0\\n\"30-39\",\"high\",\"yes\",0\\n\"30-39\",\"high\",\"yes\",0\\n\"30-39\",\"high\",\"yes\",0\\n\"30-39\",\"high\",\"yes\",0\\n\"30-39\",\"high\",\"yes\",0\\n\"30-39\",\"high\",\"yes\",0\\n\"30-39\",\"high\",\"yes\",0\\n\"30-39\",\"high\",\"yes\",0\\n\"30-39\",\"high\",\"yes\",0\\n\"30-39\",\"high\",\"yes\",0\\n\"30-39\",\"high\",\"yes\",0\\n\"30-39\",\"high\",\"yes\",0\\n\"30-39\",\"high\",\"yes\",0\\n\"30-39\",\"high\",\"yes\",0\\n\"30-39\",\"high\",\"yes\",0\\n\"30-39\",\"high\",\"yes\",0\\n\"30-39\",\"high\",\"yes\",0\\n\"30-39\",\"high\",\"yes\",0\\n\"30-39\",\"high\",\"yes\",0\\n\"30-39\",\"high\",\"yes\",0\\n\"30-39\",\"high\",\"yes\",0\\n\"30-39\",\"high\",\"yes\",0\\n\"30-39\",\"high\",\"yes\",0\\n\"30-39\",\"high\",\"yes\",0\\n\"30-39\",\"high\",\"yes\",0\\n\"30-39\",\"high\",\"yes\",0\\n\"30-39\",\"high\",\"yes\",0\\n\"30-39\",\"high\",\"yes\",0\\n\"30-39\",\"high\",\"yes\",0\\n\"30-39\",\"high\",\"yes\",0\\n\"30-39\",\"high\",\"yes\",0\\n\"30-39\",\"high\",\"yes\",0\\n\"30-39\",\"high\",\"yes\",0\\n\"30-39\",\"high\",\"yes\",0\\n\"30-39\",\"high\",\"yes\",0\\n\"30-39\",\"high\",\"yes\",0\\n\"30-39\",\"high\",\"yes\",0\\n\"30-39\",\"high\",\"yes\",0\\n\"30-39\",\"high\",\"yes\",0\\n\"30-39\",\"high\",\"yes\",0\\n\"30-39\",\"high\",\"yes\",0\\n\"30-39\",\"high\",\"yes\",0\\n\"30-39\",\"high\",\"yes\",0\\n\"30-39\",\"high\",\"yes\",0\\n\"30-39\",\"high\",\"yes\",0\\n\"30-39\",\"high\",\"yes\",0\\n\"30-39\",\"high\",\"yes\",0\\n\"30-39\",\"high\",\"yes\",0\\n\"30-39\",\"high\",\"yes\",0\\n\"30-39\",\"high\",\"yes\",0\\n\"30-39\",\"high\",\"yes\",0\\n\"30-39\",\"high\",\"yes\",0\\n\"30-39\",\"high\",\"yes\",0\\n\"30-39\",\"high\",\"yes\",0\\n\"30-39\",\"high\",\"yes\",0\\n\"30-39\",\"high\",\"yes\",0\\n\"30-39\",\"high\",\"yes\",0\\n\"30-39\",\"high\",\"yes\",0\\n\"30-39\",\"high\",\"yes\",0\\n\"30-39\",\"high\",\"yes\",0\\n\"30-39\",\"high\",\"yes\",0\\n\"30-39\",\"high\",\"yes\",0\\n\"30-39\",\"high\",\"yes\",0\\n\"30-39\",\"high\",\"yes\",0\\n\"30-39\",\"high\",\"yes\",0\\n\"30-39\",\"high\",\"yes\",0\\n\"30-39\",\"high\",\"yes\",0\\n\"30-39\",\"high\",\"yes\",0\\n\"30-39\",\"high\",\"yes\",0\\n\"30-39\",\"high\",\"yes\",0\\n\"30-39\",\"high\",\"yes\",0\\n\"30-39\",\"high\",\"yes\",0\\n\"30-39\",\"high\",\"yes\",0\\n\"30-39\",\"high\",\"yes\",0\\n\"30-39\",\"high\",\"no\",0\\n\"30-39\",\"high\",\"no\",0\\n\"30-39\",\"high\",\"no\",0\\n\"30-39\",\"high\",\"no\",0\\n\"30-39\",\"high\",\"no\",0\\n\"30-39\",\"high\",\"no\",0\\n\"30-39\",\"high\",\"no\",0\\n\"30-39\",\"high\",\"no\",0\\n\"30-39\",\"high\",\"no\",0\\n\"30-39\",\"high\",\"no\",0\\n\"30-39\",\"high\",\"no\",0\\n\"30-39\",\"high\",\"no\",0\\n\"30-39\",\"high\",\"no\",0\\n\"30-39\",\"high\",\"no\",0\\n\"30-39\",\"high\",\"no\",0\\n\"30-39\",\"high\",\"no\",0\\n\"30-39\",\"high\",\"no\",0\\n\"30-39\",\"high\",\"no\",0\\n\"30-39\",\"high\",\"no\",0\\n\"30-39\",\"high\",\"no\",0\\n\"30-39\",\"high\",\"no\",0\\n\"30-39\",\"high\",\"no\",0\\n\"30-39\",\"high\",\"no\",0\\n\"30-39\",\"high\",\"no\",0\\n\"30-39\",\"high\",\"no\",0\\n\"30-39\",\"high\",\"no\",0\\n\"30-39\",\"high\",\"no\",0\\n\"30-39\",\"high\",\"no\",0\\n\"30-39\",\"high\",\"no\",0\\n\"30-39\",\"high\",\"no\",0\\n\"30-39\",\"high\",\"no\",0\\n\"30-39\",\"high\",\"no\",0\\n\"30-39\",\"high\",\"no\",0\\n\"30-39\",\"high\",\"no\",0\\n\"30-39\",\"high\",\"no\",0\\n\"30-39\",\"high\",\"no\",0\\n\"30-39\",\"high\",\"no\",0\\n\"30-39\",\"high\",\"no\",0\\n\"30-39\",\"high\",\"no\",0\\n\"30-39\",\"high\",\"no\",0\\n\"30-39\",\"high\",\"no\",0\\n\"30-39\",\"high\",\"no\",0\\n\"30-39\",\"high\",\"no\",0\\n\"30-39\",\"high\",\"no\",0\\n\"30-39\",\"high\",\"no\",0\\n\"30-39\",\"high\",\"no\",0\\n\"30-39\",\"high\",\"no\",0\\n\"30-39\",\"high\",\"no\",0\\n\"30-39\",\"high\",\"no\",0\\n\"30-39\",\"high\",\"no\",0\\n\"30-39\",\"high\",\"no\",0\\n\"30-39\",\"high\",\"no\",0\\n\"30-39\",\"high\",\"no\",0\\n\"30-39\",\"high\",\"no\",0\\n\"30-39\",\"high\",\"no\",0\\n\"30-39\",\"high\",\"no\",0\\n\"30-39\",\"high\",\"no\",0\\n\"30-39\",\"high\",\"no\",0\\n\"30-39\",\"high\",\"no\",0\\n\"30-39\",\"high\",\"no\",0\\n\"30-39\",\"high\",\"no\",0\\n\"30-39\",\"high\",\"no\",0\\n\"30-39\",\"high\",\"no\",0\\n\"30-39\",\"high\",\"no\",0\\n\"30-39\",\"high\",\"no\",0\\n\"30-39\",\"high\",\"no\",0\\n\"30-39\",\"high\",\"no\",0\\n\"30-39\",\"high\",\"no\",0\\n\"40-49\",\"low\",\"yes\",0\\n\"40-49\",\"low\",\"yes\",0\\n\"40-49\",\"low\",\"yes\",0\\n\"40-49\",\"low\",\"yes\",0\\n\"40-49\",\"low\",\"yes\",0\\n\"40-49\",\"low\",\"yes\",0\\n\"40-49\",\"low\",\"yes\",0\\n\"40-49\",\"low\",\"yes\",0\\n\"40-49\",\"low\",\"yes\",0\\n\"40-49\",\"low\",\"yes\",0\\n\"40-49\",\"low\",\"yes\",0\\n\"40-49\",\"low\",\"yes\",0\\n\"40-49\",\"low\",\"yes\",0\\n\"40-49\",\"low\",\"yes\",0\\n\"40-49\",\"low\",\"yes\",0\\n\"40-49\",\"low\",\"yes\",0\\n\"40-49\",\"low\",\"yes\",0\\n\"40-49\",\"low\",\"yes\",0\\n\"40-49\",\"low\",\"yes\",0\\n\"40-49\",\"low\",\"yes\",0\\n\"40-49\",\"low\",\"yes\",0\\n\"40-49\",\"low\",\"yes\",0\\n\"40-49\",\"low\",\"yes\",0\\n\"40-49\",\"low\",\"yes\",0\\n\"40-49\",\"low\",\"yes\",0\\n\"40-49\",\"low\",\"yes\",0\\n\"40-49\",\"low\",\"yes\",0\\n\"40-49\",\"low\",\"yes\",0\\n\"40-49\",\"low\",\"yes\",0\\n\"40-49\",\"low\",\"yes\",0\\n\"40-49\",\"low\",\"yes\",0\\n\"40-49\",\"low\",\"yes\",0\\n\"40-49\",\"low\",\"yes\",0\\n\"40-49\",\"low\",\"yes\",0\\n\"40-49\",\"low\",\"yes\",0\\n\"40-49\",\"low\",\"no\",0\\n\"40-49\",\"low\",\"no\",0\\n\"40-49\",\"low\",\"no\",0\\n\"40-49\",\"low\",\"no\",0\\n\"40-49\",\"low\",\"no\",0\\n\"40-49\",\"low\",\"no\",0\\n\"40-49\",\"low\",\"no\",0\\n\"40-49\",\"low\",\"no\",0\\n\"40-49\",\"low\",\"no\",0\\n\"40-49\",\"low\",\"no\",0\\n\"40-49\",\"low\",\"no\",0\\n\"40-49\",\"low\",\"no\",0\\n\"40-49\",\"low\",\"no\",0\\n\"40-49\",\"low\",\"no\",0\\n\"40-49\",\"low\",\"no\",0\\n\"40-49\",\"low\",\"no\",0\\n\"40-49\",\"low\",\"no\",0\\n\"40-49\",\"low\",\"no\",0\\n\"40-49\",\"low\",\"no\",0\\n\"40-49\",\"low\",\"no\",0\\n\"40-49\",\"low\",\"no\",0\\n\"40-49\",\"low\",\"no\",0\\n\"40-49\",\"low\",\"no\",0\\n\"40-49\",\"low\",\"no\",0\\n\"40-49\",\"low\",\"no\",0\\n\"40-49\",\"low\",\"no\",0\\n\"40-49\",\"low\",\"no\",0\\n\"40-49\",\"low\",\"no\",0\\n\"40-49\",\"low\",\"no\",0\\n\"40-49\",\"low\",\"no\",0\\n\"40-49\",\"low\",\"no\",0\\n\"40-49\",\"low\",\"no\",0\\n\"40-49\",\"low\",\"no\",0\\n\"40-49\",\"low\",\"no\",0\\n\"40-49\",\"low\",\"no\",0\\n\"40-49\",\"low\",\"no\",0\\n\"40-49\",\"low\",\"no\",0\\n\"40-49\",\"low\",\"no\",0\\n\"40-49\",\"low\",\"no\",0\\n\"40-49\",\"low\",\"no\",0\\n\"40-49\",\"low\",\"no\",0\\n\"40-49\",\"low\",\"no\",0\\n\"40-49\",\"low\",\"no\",0\\n\"40-49\",\"low\",\"no\",0\\n\"40-49\",\"low\",\"no\",0\\n\"40-49\",\"low\",\"no\",0\\n\"40-49\",\"high\",\"yes\",0\\n\"40-49\",\"high\",\"yes\",0\\n\"40-49\",\"high\",\"yes\",0\\n\"40-49\",\"high\",\"yes\",0\\n\"40-49\",\"high\",\"yes\",0\\n\"40-49\",\"high\",\"yes\",0\\n\"40-49\",\"high\",\"yes\",0\\n\"40-49\",\"high\",\"yes\",0\\n\"40-49\",\"high\",\"no\",0\\n\"40-49\",\"high\",\"no\",0\\n\"40-49\",\"high\",\"no\",0\\n\"40-49\",\"high\",\"no\",0\\n\"40-49\",\"high\",\"no\",0\\n\"40-49\",\"high\",\"no\",0\\n\"40-49\",\"high\",\"no\",0\\n\"40-49\",\"high\",\"no\",0\\n\"40-49\",\"high\",\"no\",0\\n\"40-49\",\"high\",\"no\",0\\n\"40-49\",\"high\",\"no\",0\\n\"40-49\",\"high\",\"no\",0\\n\"<25\",\"low\",\"yes\",1\\n\"<25\",\"low\",\"yes\",1\\n\"<25\",\"low\",\"yes\",1\\n\"<25\",\"low\",\"yes\",1\\n\"<25\",\"low\",\"yes\",1\\n\"<25\",\"low\",\"yes\",1\\n\"<25\",\"low\",\"no\",1\\n\"<25\",\"low\",\"no\",1\\n\"<25\",\"low\",\"no\",1\\n\"<25\",\"low\",\"no\",1\\n\"<25\",\"high\",\"yes\",1\\n\"<25\",\"high\",\"yes\",1\\n\"<25\",\"high\",\"yes\",1\\n\"<25\",\"high\",\"yes\",1\\n\"<25\",\"high\",\"yes\",1\\n\"<25\",\"high\",\"yes\",1\\n\"<25\",\"high\",\"yes\",1\\n\"<25\",\"high\",\"yes\",1\\n\"<25\",\"high\",\"yes\",1\\n\"<25\",\"high\",\"yes\",1\\n\"<25\",\"high\",\"yes\",1\\n\"<25\",\"high\",\"yes\",1\\n\"<25\",\"high\",\"yes\",1\\n\"<25\",\"high\",\"yes\",1\\n\"<25\",\"high\",\"yes\",1\\n\"<25\",\"high\",\"yes\",1\\n\"<25\",\"high\",\"yes\",1\\n\"<25\",\"high\",\"yes\",1\\n\"<25\",\"high\",\"yes\",1\\n\"<25\",\"high\",\"yes\",1\\n\"<25\",\"high\",\"yes\",1\\n\"<25\",\"high\",\"yes\",1\\n\"<25\",\"high\",\"yes\",1\\n\"<25\",\"high\",\"yes\",1\\n\"<25\",\"high\",\"yes\",1\\n\"<25\",\"high\",\"yes\",1\\n\"<25\",\"high\",\"yes\",1\\n\"<25\",\"high\",\"yes\",1\\n\"<25\",\"high\",\"yes\",1\\n\"<25\",\"high\",\"yes\",1\\n\"<25\",\"high\",\"yes\",1\\n\"<25\",\"high\",\"yes\",1\\n\"<25\",\"high\",\"yes\",1\\n\"<25\",\"high\",\"yes\",1\\n\"<25\",\"high\",\"yes\",1\\n\"<25\",\"high\",\"yes\",1\\n\"<25\",\"high\",\"yes\",1\\n\"<25\",\"high\",\"yes\",1\\n\"<25\",\"high\",\"yes\",1\\n\"<25\",\"high\",\"yes\",1\\n\"<25\",\"high\",\"yes\",1\\n\"<25\",\"high\",\"yes\",1\\n\"<25\",\"high\",\"yes\",1\\n\"<25\",\"high\",\"yes\",1\\n\"<25\",\"high\",\"yes\",1\\n\"<25\",\"high\",\"yes\",1\\n\"<25\",\"high\",\"yes\",1\\n\"<25\",\"high\",\"yes\",1\\n\"<25\",\"high\",\"yes\",1\\n\"<25\",\"high\",\"yes\",1\\n\"<25\",\"high\",\"yes\",1\\n\"<25\",\"high\",\"yes\",1\\n\"<25\",\"high\",\"no\",1\\n\"<25\",\"high\",\"no\",1\\n\"<25\",\"high\",\"no\",1\\n\"<25\",\"high\",\"no\",1\\n\"<25\",\"high\",\"no\",1\\n\"<25\",\"high\",\"no\",1\\n\"<25\",\"high\",\"no\",1\\n\"<25\",\"high\",\"no\",1\\n\"<25\",\"high\",\"no\",1\\n\"<25\",\"high\",\"no\",1\\n\"25-29\",\"low\",\"yes\",1\\n\"25-29\",\"low\",\"yes\",1\\n\"25-29\",\"low\",\"yes\",1\\n\"25-29\",\"low\",\"yes\",1\\n\"25-29\",\"low\",\"yes\",1\\n\"25-29\",\"low\",\"yes\",1\\n\"25-29\",\"low\",\"yes\",1\\n\"25-29\",\"low\",\"yes\",1\\n\"25-29\",\"low\",\"yes\",1\\n\"25-29\",\"low\",\"yes\",1\\n\"25-29\",\"low\",\"yes\",1\\n\"25-29\",\"low\",\"yes\",1\\n\"25-29\",\"low\",\"yes\",1\\n\"25-29\",\"low\",\"yes\",1\\n\"25-29\",\"low\",\"no\",1\\n\"25-29\",\"low\",\"no\",1\\n\"25-29\",\"low\",\"no\",1\\n\"25-29\",\"low\",\"no\",1\\n\"25-29\",\"low\",\"no\",1\\n\"25-29\",\"low\",\"no\",1\\n\"25-29\",\"low\",\"no\",1\\n\"25-29\",\"low\",\"no\",1\\n\"25-29\",\"low\",\"no\",1\\n\"25-29\",\"low\",\"no\",1\\n\"25-29\",\"high\",\"yes\",1\\n\"25-29\",\"high\",\"yes\",1\\n\"25-29\",\"high\",\"yes\",1\\n\"25-29\",\"high\",\"yes\",1\\n\"25-29\",\"high\",\"yes\",1\\n\"25-29\",\"high\",\"yes\",1\\n\"25-29\",\"high\",\"yes\",1\\n\"25-29\",\"high\",\"yes\",1\\n\"25-29\",\"high\",\"yes\",1\\n\"25-29\",\"high\",\"yes\",1\\n\"25-29\",\"high\",\"yes\",1\\n\"25-29\",\"high\",\"yes\",1\\n\"25-29\",\"high\",\"yes\",1\\n\"25-29\",\"high\",\"yes\",1\\n\"25-29\",\"high\",\"yes\",1\\n\"25-29\",\"high\",\"yes\",1\\n\"25-29\",\"high\",\"yes\",1\\n\"25-29\",\"high\",\"yes\",1\\n\"25-29\",\"high\",\"yes\",1\\n\"25-29\",\"high\",\"yes\",1\\n\"25-29\",\"high\",\"yes\",1\\n\"25-29\",\"high\",\"yes\",1\\n\"25-29\",\"high\",\"yes\",1\\n\"25-29\",\"high\",\"yes\",1\\n\"25-29\",\"high\",\"yes\",1\\n\"25-29\",\"high\",\"yes\",1\\n\"25-29\",\"high\",\"yes\",1\\n\"25-29\",\"high\",\"yes\",1\\n\"25-29\",\"high\",\"yes\",1\\n\"25-29\",\"high\",\"yes\",1\\n\"25-29\",\"high\",\"yes\",1\\n\"25-29\",\"high\",\"yes\",1\\n\"25-29\",\"high\",\"yes\",1\\n\"25-29\",\"high\",\"yes\",1\\n\"25-29\",\"high\",\"yes\",1\\n\"25-29\",\"high\",\"yes\",1\\n\"25-29\",\"high\",\"yes\",1\\n\"25-29\",\"high\",\"yes\",1\\n\"25-29\",\"high\",\"yes\",1\\n\"25-29\",\"high\",\"yes\",1\\n\"25-29\",\"high\",\"yes\",1\\n\"25-29\",\"high\",\"yes\",1\\n\"25-29\",\"high\",\"yes\",1\\n\"25-29\",\"high\",\"yes\",1\\n\"25-29\",\"high\",\"yes\",1\\n\"25-29\",\"high\",\"yes\",1\\n\"25-29\",\"high\",\"yes\",1\\n\"25-29\",\"high\",\"yes\",1\\n\"25-29\",\"high\",\"yes\",1\\n\"25-29\",\"high\",\"yes\",1\\n\"25-29\",\"high\",\"yes\",1\\n\"25-29\",\"high\",\"yes\",1\\n\"25-29\",\"high\",\"yes\",1\\n\"25-29\",\"high\",\"yes\",1\\n\"25-29\",\"high\",\"no\",1\\n\"25-29\",\"high\",\"no\",1\\n\"25-29\",\"high\",\"no\",1\\n\"25-29\",\"high\",\"no\",1\\n\"25-29\",\"high\",\"no\",1\\n\"25-29\",\"high\",\"no\",1\\n\"25-29\",\"high\",\"no\",1\\n\"25-29\",\"high\",\"no\",1\\n\"25-29\",\"high\",\"no\",1\\n\"25-29\",\"high\",\"no\",1\\n\"25-29\",\"high\",\"no\",1\\n\"25-29\",\"high\",\"no\",1\\n\"25-29\",\"high\",\"no\",1\\n\"25-29\",\"high\",\"no\",1\\n\"25-29\",\"high\",\"no\",1\\n\"25-29\",\"high\",\"no\",1\\n\"25-29\",\"high\",\"no\",1\\n\"25-29\",\"high\",\"no\",1\\n\"25-29\",\"high\",\"no\",1\\n\"25-29\",\"high\",\"no\",1\\n\"25-29\",\"high\",\"no\",1\\n\"25-29\",\"high\",\"no\",1\\n\"25-29\",\"high\",\"no\",1\\n\"25-29\",\"high\",\"no\",1\\n\"25-29\",\"high\",\"no\",1\\n\"25-29\",\"high\",\"no\",1\\n\"25-29\",\"high\",\"no\",1\\n\"30-39\",\"low\",\"yes\",1\\n\"30-39\",\"low\",\"yes\",1\\n\"30-39\",\"low\",\"yes\",1\\n\"30-39\",\"low\",\"yes\",1\\n\"30-39\",\"low\",\"yes\",1\\n\"30-39\",\"low\",\"yes\",1\\n\"30-39\",\"low\",\"yes\",1\\n\"30-39\",\"low\",\"yes\",1\\n\"30-39\",\"low\",\"yes\",1\\n\"30-39\",\"low\",\"yes\",1\\n\"30-39\",\"low\",\"yes\",1\\n\"30-39\",\"low\",\"yes\",1\\n\"30-39\",\"low\",\"yes\",1\\n\"30-39\",\"low\",\"yes\",1\\n\"30-39\",\"low\",\"yes\",1\\n\"30-39\",\"low\",\"yes\",1\\n\"30-39\",\"low\",\"yes\",1\\n\"30-39\",\"low\",\"yes\",1\\n\"30-39\",\"low\",\"yes\",1\\n\"30-39\",\"low\",\"yes\",1\\n\"30-39\",\"low\",\"yes\",1\\n\"30-39\",\"low\",\"yes\",1\\n\"30-39\",\"low\",\"yes\",1\\n\"30-39\",\"low\",\"yes\",1\\n\"30-39\",\"low\",\"yes\",1\\n\"30-39\",\"low\",\"yes\",1\\n\"30-39\",\"low\",\"yes\",1\\n\"30-39\",\"low\",\"yes\",1\\n\"30-39\",\"low\",\"yes\",1\\n\"30-39\",\"low\",\"yes\",1\\n\"30-39\",\"low\",\"yes\",1\\n\"30-39\",\"low\",\"yes\",1\\n\"30-39\",\"low\",\"yes\",1\\n\"30-39\",\"low\",\"no\",1\\n\"30-39\",\"low\",\"no\",1\\n\"30-39\",\"low\",\"no\",1\\n\"30-39\",\"low\",\"no\",1\\n\"30-39\",\"low\",\"no\",1\\n\"30-39\",\"low\",\"no\",1\\n\"30-39\",\"low\",\"no\",1\\n\"30-39\",\"low\",\"no\",1\\n\"30-39\",\"low\",\"no\",1\\n\"30-39\",\"low\",\"no\",1\\n\"30-39\",\"low\",\"no\",1\\n\"30-39\",\"low\",\"no\",1\\n\"30-39\",\"low\",\"no\",1\\n\"30-39\",\"low\",\"no\",1\\n\"30-39\",\"low\",\"no\",1\\n\"30-39\",\"low\",\"no\",1\\n\"30-39\",\"low\",\"no\",1\\n\"30-39\",\"low\",\"no\",1\\n\"30-39\",\"low\",\"no\",1\\n\"30-39\",\"low\",\"no\",1\\n\"30-39\",\"low\",\"no\",1\\n\"30-39\",\"low\",\"no\",1\\n\"30-39\",\"low\",\"no\",1\\n\"30-39\",\"low\",\"no\",1\\n\"30-39\",\"low\",\"no\",1\\n\"30-39\",\"low\",\"no\",1\\n\"30-39\",\"low\",\"no\",1\\n\"30-39\",\"low\",\"no\",1\\n\"30-39\",\"low\",\"no\",1\\n\"30-39\",\"low\",\"no\",1\\n\"30-39\",\"low\",\"no\",1\\n\"30-39\",\"low\",\"no\",1\\n\"30-39\",\"low\",\"no\",1\\n\"30-39\",\"low\",\"no\",1\\n\"30-39\",\"low\",\"no\",1\\n\"30-39\",\"low\",\"no\",1\\n\"30-39\",\"low\",\"no\",1\\n\"30-39\",\"low\",\"no\",1\\n\"30-39\",\"low\",\"no\",1\\n\"30-39\",\"low\",\"no\",1\\n\"30-39\",\"low\",\"no\",1\\n\"30-39\",\"low\",\"no\",1\\n\"30-39\",\"low\",\"no\",1\\n\"30-39\",\"low\",\"no\",1\\n\"30-39\",\"low\",\"no\",1\\n\"30-39\",\"low\",\"no\",1\\n\"30-39\",\"low\",\"no\",1\\n\"30-39\",\"low\",\"no\",1\\n\"30-39\",\"low\",\"no\",1\\n\"30-39\",\"low\",\"no\",1\\n\"30-39\",\"low\",\"no\",1\\n\"30-39\",\"low\",\"no\",1\\n\"30-39\",\"low\",\"no\",1\\n\"30-39\",\"low\",\"no\",1\\n\"30-39\",\"low\",\"no\",1\\n\"30-39\",\"low\",\"no\",1\\n\"30-39\",\"low\",\"no\",1\\n\"30-39\",\"low\",\"no\",1\\n\"30-39\",\"low\",\"no\",1\\n\"30-39\",\"low\",\"no\",1\\n\"30-39\",\"low\",\"no\",1\\n\"30-39\",\"low\",\"no\",1\\n\"30-39\",\"low\",\"no\",1\\n\"30-39\",\"low\",\"no\",1\\n\"30-39\",\"low\",\"no\",1\\n\"30-39\",\"low\",\"no\",1\\n\"30-39\",\"low\",\"no\",1\\n\"30-39\",\"low\",\"no\",1\\n\"30-39\",\"low\",\"no\",1\\n\"30-39\",\"low\",\"no\",1\\n\"30-39\",\"low\",\"no\",1\\n\"30-39\",\"low\",\"no\",1\\n\"30-39\",\"low\",\"no\",1\\n\"30-39\",\"low\",\"no\",1\\n\"30-39\",\"low\",\"no\",1\\n\"30-39\",\"low\",\"no\",1\\n\"30-39\",\"low\",\"no\",1\\n\"30-39\",\"low\",\"no\",1\\n\"30-39\",\"low\",\"no\",1\\n\"30-39\",\"low\",\"no\",1\\n\"30-39\",\"high\",\"yes\",1\\n\"30-39\",\"high\",\"yes\",1\\n\"30-39\",\"high\",\"yes\",1\\n\"30-39\",\"high\",\"yes\",1\\n\"30-39\",\"high\",\"yes\",1\\n\"30-39\",\"high\",\"yes\",1\\n\"30-39\",\"high\",\"yes\",1\\n\"30-39\",\"high\",\"yes\",1\\n\"30-39\",\"high\",\"yes\",1\\n\"30-39\",\"high\",\"yes\",1\\n\"30-39\",\"high\",\"yes\",1\\n\"30-39\",\"high\",\"yes\",1\\n\"30-39\",\"high\",\"yes\",1\\n\"30-39\",\"high\",\"yes\",1\\n\"30-39\",\"high\",\"yes\",1\\n\"30-39\",\"high\",\"yes\",1\\n\"30-39\",\"high\",\"yes\",1\\n\"30-39\",\"high\",\"yes\",1\\n\"30-39\",\"high\",\"yes\",1\\n\"30-39\",\"high\",\"yes\",1\\n\"30-39\",\"high\",\"yes\",1\\n\"30-39\",\"high\",\"yes\",1\\n\"30-39\",\"high\",\"yes\",1\\n\"30-39\",\"high\",\"yes\",1\\n\"30-39\",\"high\",\"yes\",1\\n\"30-39\",\"high\",\"yes\",1\\n\"30-39\",\"high\",\"yes\",1\\n\"30-39\",\"high\",\"yes\",1\\n\"30-39\",\"high\",\"yes\",1\\n\"30-39\",\"high\",\"yes\",1\\n\"30-39\",\"high\",\"yes\",1\\n\"30-39\",\"high\",\"yes\",1\\n\"30-39\",\"high\",\"yes\",1\\n\"30-39\",\"high\",\"yes\",1\\n\"30-39\",\"high\",\"yes\",1\\n\"30-39\",\"high\",\"yes\",1\\n\"30-39\",\"high\",\"yes\",1\\n\"30-39\",\"high\",\"yes\",1\\n\"30-39\",\"high\",\"yes\",1\\n\"30-39\",\"high\",\"yes\",1\\n\"30-39\",\"high\",\"yes\",1\\n\"30-39\",\"high\",\"yes\",1\\n\"30-39\",\"high\",\"yes\",1\\n\"30-39\",\"high\",\"yes\",1\\n\"30-39\",\"high\",\"yes\",1\\n\"30-39\",\"high\",\"yes\",1\\n\"30-39\",\"high\",\"no\",1\\n\"30-39\",\"high\",\"no\",1\\n\"30-39\",\"high\",\"no\",1\\n\"30-39\",\"high\",\"no\",1\\n\"30-39\",\"high\",\"no\",1\\n\"30-39\",\"high\",\"no\",1\\n\"30-39\",\"high\",\"no\",1\\n\"30-39\",\"high\",\"no\",1\\n\"30-39\",\"high\",\"no\",1\\n\"30-39\",\"high\",\"no\",1\\n\"30-39\",\"high\",\"no\",1\\n\"30-39\",\"high\",\"no\",1\\n\"30-39\",\"high\",\"no\",1\\n\"30-39\",\"high\",\"no\",1\\n\"30-39\",\"high\",\"no\",1\\n\"30-39\",\"high\",\"no\",1\\n\"30-39\",\"high\",\"no\",1\\n\"30-39\",\"high\",\"no\",1\\n\"30-39\",\"high\",\"no\",1\\n\"30-39\",\"high\",\"no\",1\\n\"30-39\",\"high\",\"no\",1\\n\"30-39\",\"high\",\"no\",1\\n\"30-39\",\"high\",\"no\",1\\n\"30-39\",\"high\",\"no\",1\\n\"30-39\",\"high\",\"no\",1\\n\"30-39\",\"high\",\"no\",1\\n\"30-39\",\"high\",\"no\",1\\n\"30-39\",\"high\",\"no\",1\\n\"30-39\",\"high\",\"no\",1\\n\"30-39\",\"high\",\"no\",1\\n\"30-39\",\"high\",\"no\",1\\n\"30-39\",\"high\",\"no\",1\\n\"30-39\",\"high\",\"no\",1\\n\"30-39\",\"high\",\"no\",1\\n\"30-39\",\"high\",\"no\",1\\n\"30-39\",\"high\",\"no\",1\\n\"30-39\",\"high\",\"no\",1\\n\"30-39\",\"high\",\"no\",1\\n\"30-39\",\"high\",\"no\",1\\n\"30-39\",\"high\",\"no\",1\\n\"30-39\",\"high\",\"no\",1\\n\"30-39\",\"high\",\"no\",1\\n\"30-39\",\"high\",\"no\",1\\n\"30-39\",\"high\",\"no\",1\\n\"30-39\",\"high\",\"no\",1\\n\"30-39\",\"high\",\"no\",1\\n\"30-39\",\"high\",\"no\",1\\n\"30-39\",\"high\",\"no\",1\\n\"30-39\",\"high\",\"no\",1\\n\"30-39\",\"high\",\"no\",1\\n\"30-39\",\"high\",\"no\",1\\n\"30-39\",\"high\",\"no\",1\\n\"30-39\",\"high\",\"no\",1\\n\"30-39\",\"high\",\"no\",1\\n\"30-39\",\"high\",\"no\",1\\n\"30-39\",\"high\",\"no\",1\\n\"30-39\",\"high\",\"no\",1\\n\"30-39\",\"high\",\"no\",1\\n\"30-39\",\"high\",\"no\",1\\n\"30-39\",\"high\",\"no\",1\\n\"30-39\",\"high\",\"no\",1\\n\"30-39\",\"high\",\"no\",1\\n\"30-39\",\"high\",\"no\",1\\n\"30-39\",\"high\",\"no\",1\\n\"30-39\",\"high\",\"no\",1\\n\"30-39\",\"high\",\"no\",1\\n\"30-39\",\"high\",\"no\",1\\n\"30-39\",\"high\",\"no\",1\\n\"30-39\",\"high\",\"no\",1\\n\"30-39\",\"high\",\"no\",1\\n\"30-39\",\"high\",\"no\",1\\n\"30-39\",\"high\",\"no\",1\\n\"30-39\",\"high\",\"no\",1\\n\"30-39\",\"high\",\"no\",1\\n\"30-39\",\"high\",\"no\",1\\n\"30-39\",\"high\",\"no\",1\\n\"30-39\",\"high\",\"no\",1\\n\"30-39\",\"high\",\"no\",1\\n\"40-49\",\"low\",\"yes\",1\\n\"40-49\",\"low\",\"yes\",1\\n\"40-49\",\"low\",\"yes\",1\\n\"40-49\",\"low\",\"yes\",1\\n\"40-49\",\"low\",\"yes\",1\\n\"40-49\",\"low\",\"yes\",1\\n\"40-49\",\"low\",\"no\",1\\n\"40-49\",\"low\",\"no\",1\\n\"40-49\",\"low\",\"no\",1\\n\"40-49\",\"low\",\"no\",1\\n\"40-49\",\"low\",\"no\",1\\n\"40-49\",\"low\",\"no\",1\\n\"40-49\",\"low\",\"no\",1\\n\"40-49\",\"low\",\"no\",1\\n\"40-49\",\"low\",\"no\",1\\n\"40-49\",\"low\",\"no\",1\\n\"40-49\",\"low\",\"no\",1\\n\"40-49\",\"low\",\"no\",1\\n\"40-49\",\"low\",\"no\",1\\n\"40-49\",\"low\",\"no\",1\\n\"40-49\",\"low\",\"no\",1\\n\"40-49\",\"low\",\"no\",1\\n\"40-49\",\"low\",\"no\",1\\n\"40-49\",\"low\",\"no\",1\\n\"40-49\",\"low\",\"no\",1\\n\"40-49\",\"low\",\"no\",1\\n\"40-49\",\"low\",\"no\",1\\n\"40-49\",\"low\",\"no\",1\\n\"40-49\",\"low\",\"no\",1\\n\"40-49\",\"low\",\"no\",1\\n\"40-49\",\"low\",\"no\",1\\n\"40-49\",\"low\",\"no\",1\\n\"40-49\",\"low\",\"no\",1\\n\"40-49\",\"low\",\"no\",1\\n\"40-49\",\"low\",\"no\",1\\n\"40-49\",\"low\",\"no\",1\\n\"40-49\",\"low\",\"no\",1\\n\"40-49\",\"low\",\"no\",1\\n\"40-49\",\"low\",\"no\",1\\n\"40-49\",\"low\",\"no\",1\\n\"40-49\",\"low\",\"no\",1\\n\"40-49\",\"low\",\"no\",1\\n\"40-49\",\"low\",\"no\",1\\n\"40-49\",\"low\",\"no\",1\\n\"40-49\",\"low\",\"no\",1\\n\"40-49\",\"low\",\"no\",1\\n\"40-49\",\"low\",\"no\",1\\n\"40-49\",\"low\",\"no\",1\\n\"40-49\",\"low\",\"no\",1\\n\"40-49\",\"low\",\"no\",1\\n\"40-49\",\"low\",\"no\",1\\n\"40-49\",\"low\",\"no\",1\\n\"40-49\",\"low\",\"no\",1\\n\"40-49\",\"low\",\"no\",1\\n\"40-49\",\"high\",\"yes\",1\\n\"40-49\",\"high\",\"yes\",1\\n\"40-49\",\"high\",\"yes\",1\\n\"40-49\",\"high\",\"yes\",1\\n\"40-49\",\"high\",\"yes\",1\\n\"40-49\",\"high\",\"yes\",1\\n\"40-49\",\"high\",\"yes\",1\\n\"40-49\",\"high\",\"yes\",1\\n\"40-49\",\"high\",\"no\",1\\n\"40-49\",\"high\",\"no\",1\\n\"40-49\",\"high\",\"no\",1\\n\"40-49\",\"high\",\"no\",1\\n\"40-49\",\"high\",\"no\",1\\n\"40-49\",\"high\",\"no\",1\\n\"40-49\",\"high\",\"no\",1\\n\"40-49\",\"high\",\"no\",1\\n\"40-49\",\"high\",\"no\",1\\n\"40-49\",\"high\",\"no\",1\\n\"40-49\",\"high\",\"no\",1\\n\"40-49\",\"high\",\"no\",1\\n\"40-49\",\"high\",\"no\",1\\n\"40-49\",\"high\",\"no\",1\\n\"40-49\",\"high\",\"no\",1\\n\"40-49\",\"high\",\"no\",1\\n\"40-49\",\"high\",\"no\",1\\n\"40-49\",\"high\",\"no\",1\\n\"40-49\",\"high\",\"no\",1\\n\"40-49\",\"high\",\"no\",1\\n\"40-49\",\"high\",\"no\",1\\n\"40-49\",\"high\",\"no\",1\\n\"40-49\",\"high\",\"no\",1\\n\"40-49\",\"high\",\"no\",1\\n\"40-49\",\"high\",\"no\",1\\n\"40-49\",\"high\",\"no\",1\\n\"40-49\",\"high\",\"no\",1\\n\"40-49\",\"high\",\"no\",1\\n\"40-49\",\"high\",\"no\",1\\n\"40-49\",\"high\",\"no\",1\\n\"40-49\",\"high\",\"no\",1\\n'}"
            ]
          },
          "metadata": {},
          "execution_count": 22
        }
      ]
    },
    {
      "cell_type": "code",
      "metadata": {
        "colab": {
          "base_uri": "https://localhost:8080/"
        },
        "id": "1RhfkP7Kgezk",
        "outputId": "018dc372-8f32-487e-df24-fb8d57aa8e3e"
      },
      "source": [
        "cuse = spark.read.csv('./cuse_binary.csv', header=True, inferSchema=True)\n",
        "cuse.show(5)"
      ],
      "execution_count": null,
      "outputs": [
        {
          "output_type": "stream",
          "name": "stdout",
          "text": [
            "+---+---------+---------+---+\n",
            "|age|education|wantsMore|  y|\n",
            "+---+---------+---------+---+\n",
            "|<25|      low|      yes|  0|\n",
            "|<25|      low|      yes|  0|\n",
            "|<25|      low|      yes|  0|\n",
            "|<25|      low|      yes|  0|\n",
            "|<25|      low|      yes|  0|\n",
            "+---+---------+---------+---+\n",
            "only showing top 5 rows\n",
            "\n"
          ]
        }
      ]
    },
    {
      "cell_type": "code",
      "metadata": {
        "colab": {
          "base_uri": "https://localhost:8080/"
        },
        "id": "CYBQARF7ge2Z",
        "outputId": "8470a86d-860c-4dc4-f0a2-ba74725aec0b"
      },
      "source": [
        "cuse.columns[0:3]\n",
        "# cuse.select('age').distinct().show()\n",
        "cuse.select('age').rdd.countByValue()\n",
        "# cuse.select('education').rdd.countByValue()"
      ],
      "execution_count": null,
      "outputs": [
        {
          "output_type": "execute_result",
          "data": {
            "text/plain": [
              "defaultdict(int,\n",
              "            {Row(age='<25'): 397,\n",
              "             Row(age='25-29'): 404,\n",
              "             Row(age='30-39'): 612,\n",
              "             Row(age='40-49'): 194})"
            ]
          },
          "metadata": {},
          "execution_count": 24
        }
      ]
    },
    {
      "cell_type": "code",
      "metadata": {
        "colab": {
          "base_uri": "https://localhost:8080/"
        },
        "id": "relu2PFBge5z",
        "outputId": "51e1b627-f6a7-4ad5-8786-4fa45715a53e"
      },
      "source": [
        "# string index each categorical string columns\n",
        "from pyspark.ml.feature import StringIndexer\n",
        "from pyspark.ml import Pipeline\n",
        "indexers = [StringIndexer(inputCol=column, outputCol=\"indexed_\"+column) for column in ('age', 'education', 'wantsMore')]\n",
        "pipeline = Pipeline(stages=indexers)\n",
        "indexed_cuse = pipeline.fit(cuse).transform(cuse)\n",
        "indexed_cuse.select('age', 'indexed_age').distinct().show(5)"
      ],
      "execution_count": null,
      "outputs": [
        {
          "output_type": "stream",
          "name": "stdout",
          "text": [
            "+-----+-----------+\n",
            "|  age|indexed_age|\n",
            "+-----+-----------+\n",
            "|30-39|        0.0|\n",
            "|  <25|        2.0|\n",
            "|25-29|        1.0|\n",
            "|40-49|        3.0|\n",
            "+-----+-----------+\n",
            "\n"
          ]
        }
      ]
    },
    {
      "cell_type": "code",
      "metadata": {
        "colab": {
          "base_uri": "https://localhost:8080/"
        },
        "id": "ohO4WZWRg8-N",
        "outputId": "c97cd3ff-f3fb-445e-d10e-f3e0f7de1595"
      },
      "source": [
        "# onehotencode each indexed categorical columns\n",
        "from pyspark.ml.feature import OneHotEncoder\n",
        "columns = indexed_cuse.columns[0:3]\n",
        "onehoteencoders = [OneHotEncoder(inputCol=\"indexed_\"+column, outputCol=\"onehotencode_\"+column) for column in columns]\n",
        "pipeline = Pipeline(stages=onehoteencoders)\n",
        "onehotencode_columns = ['onehotencode_age', 'onehotencode_education', 'onehotencode_wantsMore', 'y']\n",
        "onehotencode_cuse = pipeline.fit(indexed_cuse).transform(indexed_cuse).select(onehotencode_columns)\n",
        "onehotencode_cuse.distinct().show(5)"
      ],
      "execution_count": null,
      "outputs": [
        {
          "output_type": "stream",
          "name": "stdout",
          "text": [
            "+----------------+----------------------+----------------------+---+\n",
            "|onehotencode_age|onehotencode_education|onehotencode_wantsMore|  y|\n",
            "+----------------+----------------------+----------------------+---+\n",
            "|   (3,[1],[1.0])|             (1,[],[])|         (1,[0],[1.0])|  0|\n",
            "|   (3,[2],[1.0])|         (1,[0],[1.0])|             (1,[],[])|  1|\n",
            "|   (3,[0],[1.0])|         (1,[0],[1.0])|         (1,[0],[1.0])|  0|\n",
            "|       (3,[],[])|         (1,[0],[1.0])|         (1,[0],[1.0])|  1|\n",
            "|   (3,[2],[1.0])|             (1,[],[])|         (1,[0],[1.0])|  0|\n",
            "+----------------+----------------------+----------------------+---+\n",
            "only showing top 5 rows\n",
            "\n"
          ]
        }
      ]
    },
    {
      "cell_type": "code",
      "metadata": {
        "colab": {
          "base_uri": "https://localhost:8080/"
        },
        "id": "kjqDL8pOg_mU",
        "outputId": "108f02fe-0da1-42b4-c82a-0b4f7301cdc5"
      },
      "source": [
        "# assemble all feature columns into on single vector column\n",
        "from pyspark.ml.feature import VectorAssembler\n",
        "assembler = VectorAssembler(inputCols=['onehotencode_age', 'onehotencode_education', 'onehotencode_wantsMore'], outputCol='features')\n",
        "cuse_df_2 = assembler.transform(onehotencode_cuse).withColumnRenamed('y', 'label')\n",
        "cuse_df_2.show(5)"
      ],
      "execution_count": null,
      "outputs": [
        {
          "output_type": "stream",
          "name": "stdout",
          "text": [
            "+----------------+----------------------+----------------------+-----+-------------------+\n",
            "|onehotencode_age|onehotencode_education|onehotencode_wantsMore|label|           features|\n",
            "+----------------+----------------------+----------------------+-----+-------------------+\n",
            "|   (3,[2],[1.0])|             (1,[],[])|         (1,[0],[1.0])|    0|(5,[2,4],[1.0,1.0])|\n",
            "|   (3,[2],[1.0])|             (1,[],[])|         (1,[0],[1.0])|    0|(5,[2,4],[1.0,1.0])|\n",
            "|   (3,[2],[1.0])|             (1,[],[])|         (1,[0],[1.0])|    0|(5,[2,4],[1.0,1.0])|\n",
            "|   (3,[2],[1.0])|             (1,[],[])|         (1,[0],[1.0])|    0|(5,[2,4],[1.0,1.0])|\n",
            "|   (3,[2],[1.0])|             (1,[],[])|         (1,[0],[1.0])|    0|(5,[2,4],[1.0,1.0])|\n",
            "+----------------+----------------------+----------------------+-----+-------------------+\n",
            "only showing top 5 rows\n",
            "\n"
          ]
        }
      ]
    },
    {
      "cell_type": "code",
      "metadata": {
        "colab": {
          "base_uri": "https://localhost:8080/"
        },
        "id": "AMuEWNjZhCus",
        "outputId": "65f3fb25-97a2-4307-c1ce-c690f2123936"
      },
      "source": [
        "# split data into training and test datasets\n",
        "training, test = cuse_df_2.randomSplit([0.8, 0.2], seed=1234)\n",
        "training.show(5)"
      ],
      "execution_count": null,
      "outputs": [
        {
          "output_type": "stream",
          "name": "stdout",
          "text": [
            "+----------------+----------------------+----------------------+-----+---------+\n",
            "|onehotencode_age|onehotencode_education|onehotencode_wantsMore|label| features|\n",
            "+----------------+----------------------+----------------------+-----+---------+\n",
            "|       (3,[],[])|             (1,[],[])|             (1,[],[])|    0|(5,[],[])|\n",
            "|       (3,[],[])|             (1,[],[])|             (1,[],[])|    0|(5,[],[])|\n",
            "|       (3,[],[])|             (1,[],[])|             (1,[],[])|    0|(5,[],[])|\n",
            "|       (3,[],[])|             (1,[],[])|             (1,[],[])|    0|(5,[],[])|\n",
            "|       (3,[],[])|             (1,[],[])|             (1,[],[])|    0|(5,[],[])|\n",
            "+----------------+----------------------+----------------------+-----+---------+\n",
            "only showing top 5 rows\n",
            "\n"
          ]
        }
      ]
    },
    {
      "cell_type": "code",
      "metadata": {
        "id": "6q_IWGzXhE27"
      },
      "source": [
        "## ======= build cross validation model ===========\n",
        "\n",
        "# estimator\n",
        "from pyspark.ml.regression import GeneralizedLinearRegression\n",
        "glm = GeneralizedLinearRegression(featuresCol='features', labelCol='label', family='binomial')\n",
        "\n",
        "# parameter grid\n",
        "from pyspark.ml.tuning import ParamGridBuilder\n",
        "param_grid = ParamGridBuilder().\\\n",
        "    addGrid(glm.regParam, [0, 0.5, 1, 2, 4]).\\\n",
        "    build()\n",
        "\n",
        "# evaluator\n",
        "from pyspark.ml.evaluation import BinaryClassificationEvaluator\n",
        "evaluator = BinaryClassificationEvaluator(rawPredictionCol='prediction')\n",
        "\n",
        "# build cross-validation model\n",
        "from pyspark.ml.tuning import CrossValidator\n",
        "cv = CrossValidator(estimator=glm, estimatorParamMaps=param_grid, evaluator=evaluator, numFolds=4)"
      ],
      "execution_count": null,
      "outputs": []
    },
    {
      "cell_type": "code",
      "metadata": {
        "id": "5ix5ugEvhJdF"
      },
      "source": [
        "# fit model\n",
        "# cv_model = cv.fit(training)\n",
        "cv_model = cv.fit(cuse_df_2)"
      ],
      "execution_count": null,
      "outputs": []
    },
    {
      "cell_type": "code",
      "metadata": {
        "colab": {
          "base_uri": "https://localhost:8080/"
        },
        "id": "A4wyjSK7hMll",
        "outputId": "6d20bd04-518e-44d6-ddec-f7d4af70467b"
      },
      "source": [
        "# prediction\n",
        "pred_training_cv = cv_model.transform(training)\n",
        "pred_test_cv = cv_model.transform(test)\n",
        "\n",
        "pred_training_cv.show(5)\n",
        "pred_test_cv.show(5, truncate=False)"
      ],
      "execution_count": null,
      "outputs": [
        {
          "output_type": "stream",
          "name": "stdout",
          "text": [
            "+----------------+----------------------+----------------------+-----+---------+------------------+\n",
            "|onehotencode_age|onehotencode_education|onehotencode_wantsMore|label| features|        prediction|\n",
            "+----------------+----------------------+----------------------+-----+---------+------------------+\n",
            "|       (3,[],[])|             (1,[],[])|             (1,[],[])|    0|(5,[],[])|0.5140024065151293|\n",
            "|       (3,[],[])|             (1,[],[])|             (1,[],[])|    0|(5,[],[])|0.5140024065151293|\n",
            "|       (3,[],[])|             (1,[],[])|             (1,[],[])|    0|(5,[],[])|0.5140024065151293|\n",
            "|       (3,[],[])|             (1,[],[])|             (1,[],[])|    0|(5,[],[])|0.5140024065151293|\n",
            "|       (3,[],[])|             (1,[],[])|             (1,[],[])|    0|(5,[],[])|0.5140024065151293|\n",
            "+----------------+----------------------+----------------------+-----+---------+------------------+\n",
            "only showing top 5 rows\n",
            "\n",
            "+----------------+----------------------+----------------------+-----+---------+------------------+\n",
            "|onehotencode_age|onehotencode_education|onehotencode_wantsMore|label|features |prediction        |\n",
            "+----------------+----------------------+----------------------+-----+---------+------------------+\n",
            "|(3,[],[])       |(1,[],[])             |(1,[],[])             |0    |(5,[],[])|0.5140024065151293|\n",
            "|(3,[],[])       |(1,[],[])             |(1,[],[])             |0    |(5,[],[])|0.5140024065151293|\n",
            "|(3,[],[])       |(1,[],[])             |(1,[],[])             |0    |(5,[],[])|0.5140024065151293|\n",
            "|(3,[],[])       |(1,[],[])             |(1,[],[])             |0    |(5,[],[])|0.5140024065151293|\n",
            "|(3,[],[])       |(1,[],[])             |(1,[],[])             |0    |(5,[],[])|0.5140024065151293|\n",
            "+----------------+----------------------+----------------------+-----+---------+------------------+\n",
            "only showing top 5 rows\n",
            "\n"
          ]
        }
      ]
    },
    {
      "cell_type": "code",
      "metadata": {
        "colab": {
          "base_uri": "https://localhost:8080/"
        },
        "id": "A6v6dHHXhP6i",
        "outputId": "ea08583b-8aeb-4499-8006-ba495f054122"
      },
      "source": [
        "cv_model.bestModel.coefficients"
      ],
      "execution_count": null,
      "outputs": [
        {
          "output_type": "execute_result",
          "data": {
            "text/plain": [
              "DenseVector([-0.2806, -0.7999, -1.1892, 0.325, -0.833])"
            ]
          },
          "metadata": {},
          "execution_count": 32
        }
      ]
    },
    {
      "cell_type": "code",
      "metadata": {
        "colab": {
          "base_uri": "https://localhost:8080/"
        },
        "id": "6v9AZUSRhP-7",
        "outputId": "f16aa37b-59d0-4ea7-c3b2-42f44fb71010"
      },
      "source": [
        "cv_model.bestModel.intercept"
      ],
      "execution_count": null,
      "outputs": [
        {
          "output_type": "execute_result",
          "data": {
            "text/plain": [
              "0.056024275169240606"
            ]
          },
          "metadata": {},
          "execution_count": 33
        }
      ]
    },
    {
      "cell_type": "code",
      "metadata": {
        "colab": {
          "base_uri": "https://localhost:8080/"
        },
        "id": "YdJGL9ZrhXm1",
        "outputId": "4c293180-9b09-43ea-81fc-7624314bac80"
      },
      "source": [
        "evaluator.evaluate(pred_training_cv)"
      ],
      "execution_count": null,
      "outputs": [
        {
          "output_type": "execute_result",
          "data": {
            "text/plain": [
              "0.6716478245974649"
            ]
          },
          "metadata": {},
          "execution_count": 34
        }
      ]
    },
    {
      "cell_type": "code",
      "metadata": {
        "colab": {
          "base_uri": "https://localhost:8080/"
        },
        "id": "vPJ2YTkuhhEE",
        "outputId": "b23500ad-5dc0-4a1e-8aa0-20eba1806e74"
      },
      "source": [
        "evaluator.evaluate(pred_test_cv)"
      ],
      "execution_count": null,
      "outputs": [
        {
          "output_type": "execute_result",
          "data": {
            "text/plain": [
              "0.6830864197530864"
            ]
          },
          "metadata": {},
          "execution_count": 35
        }
      ]
    },
    {
      "cell_type": "code",
      "metadata": {
        "id": "7s2dyqB1hqkM"
      },
      "source": [],
      "execution_count": null,
      "outputs": []
    }
  ]
}